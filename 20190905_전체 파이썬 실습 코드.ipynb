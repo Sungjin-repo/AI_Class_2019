{
 "cells": [
  {
   "cell_type": "code",
   "execution_count": 1,
   "metadata": {
    "colab": {
     "base_uri": "https://localhost:8080/",
     "height": 34
    },
    "colab_type": "code",
    "executionInfo": {
     "elapsed": 1421,
     "status": "ok",
     "timestamp": 1567642791807,
     "user": {
      "displayName": "이숙번",
      "photoUrl": "https://lh3.googleusercontent.com/a-/AAuE7mDbHk2NjbDQ1cl1iq9eEQIMaqbd9dF-oRVZnS-Uxg8=s64",
      "userId": "12594703987274118169"
     },
     "user_tz": -540
    },
    "id": "d9at4FTDmdxY",
    "outputId": "f6d8a6a1-9ee7-4d19-ccb9-bb1855da8d59"
   },
   "outputs": [
    {
     "name": "stdout",
     "output_type": "stream",
     "text": [
      "안녕하세요. 이틀간 교육을 맡게된 이숙번입니다.\n"
     ]
    }
   ],
   "source": [
    "print(\"안녕하세요. 이틀간 교육을 맡게된 이숙번입니다.\")"
   ]
  },
  {
   "cell_type": "markdown",
   "metadata": {
    "colab_type": "text",
    "id": "736Mi6Pm0diW"
   },
   "source": [
    "## 데이터 구조\n",
    "1. 리스트 (list)\n",
    "2. 딕셔너리 (dictionary)\n",
    "3. 셋 (set)\n",
    "4. 튜플 (tuple)"
   ]
  },
  {
   "cell_type": "code",
   "execution_count": 2,
   "metadata": {
    "colab": {
     "base_uri": "https://localhost:8080/",
     "height": 140
    },
    "colab_type": "code",
    "executionInfo": {
     "elapsed": 655,
     "status": "ok",
     "timestamp": 1567693670332,
     "user": {
      "displayName": "김태수",
      "photoUrl": "",
      "userId": "04015158498783056419"
     },
     "user_tz": -540
    },
    "id": "7CBGBSxtynip",
    "outputId": "40153bf1-6636-48d0-bcc0-8ba89e98b903"
   },
   "outputs": [
    {
     "name": "stdout",
     "output_type": "stream",
     "text": [
      "1 [1, 2, 3, 4, 5]\n",
      "2 [0, 1, 2, 3, 4]\n",
      "3 1\n",
      "4 4\n",
      "5 [-1, 2, 3, 4, 5]\n",
      "6 [2, 3, 4, 5]\n",
      "7 [2, 3, 5]\n"
     ]
    }
   ],
   "source": [
    "# list CRUD\n",
    "배열1 = [1, 2, 3, 4, 5]\n",
    "배열2 = list(range(5))\n",
    "\n",
    "print(1, 배열1)\n",
    "print(2, 배열2)\n",
    "\n",
    "# 엘리먼트 조회\n",
    "print(3, 배열1[0])\n",
    "print(4, 배열2[-1])\n",
    "\n",
    "# 수정\n",
    "배열1[0] = -1\n",
    "print(5, 배열1)\n",
    "\n",
    "# 삭제 2가지 방법\n",
    "del 배열1[0]\n",
    "print(6, 배열1)\n",
    "\n",
    "배열1.remove(4)\n",
    "print(7, 배열1)"
   ]
  },
  {
   "cell_type": "code",
   "execution_count": 3,
   "metadata": {
    "colab": {},
    "colab_type": "code",
    "id": "OaGyFs-21EK5"
   },
   "outputs": [
    {
     "data": {
      "text/plain": [
       "['__add__',\n",
       " '__class__',\n",
       " '__contains__',\n",
       " '__delattr__',\n",
       " '__delitem__',\n",
       " '__dir__',\n",
       " '__doc__',\n",
       " '__eq__',\n",
       " '__format__',\n",
       " '__ge__',\n",
       " '__getattribute__',\n",
       " '__getitem__',\n",
       " '__gt__',\n",
       " '__hash__',\n",
       " '__iadd__',\n",
       " '__imul__',\n",
       " '__init__',\n",
       " '__iter__',\n",
       " '__le__',\n",
       " '__len__',\n",
       " '__lt__',\n",
       " '__mul__',\n",
       " '__ne__',\n",
       " '__new__',\n",
       " '__reduce__',\n",
       " '__reduce_ex__',\n",
       " '__repr__',\n",
       " '__reversed__',\n",
       " '__rmul__',\n",
       " '__setattr__',\n",
       " '__setitem__',\n",
       " '__sizeof__',\n",
       " '__str__',\n",
       " '__subclasshook__',\n",
       " 'append',\n",
       " 'clear',\n",
       " 'copy',\n",
       " 'count',\n",
       " 'extend',\n",
       " 'index',\n",
       " 'insert',\n",
       " 'pop',\n",
       " 'remove',\n",
       " 'reverse',\n",
       " 'sort']"
      ]
     },
     "execution_count": 3,
     "metadata": {},
     "output_type": "execute_result"
    }
   ],
   "source": [
    "# 메쏘드 및 함수 조회\n",
    "dir(배열1)"
   ]
  },
  {
   "cell_type": "code",
   "execution_count": 4,
   "metadata": {
    "colab": {},
    "colab_type": "code",
    "id": "e8q-gjGh2AVc"
   },
   "outputs": [
    {
     "name": "stdout",
     "output_type": "stream",
     "text": [
      "[5, 3, 2]\n"
     ]
    }
   ],
   "source": [
    "배열1.sort(reverse=True)\n",
    "\n",
    "print(배열1)"
   ]
  },
  {
   "cell_type": "code",
   "execution_count": 5,
   "metadata": {
    "colab": {},
    "colab_type": "code",
    "id": "SrfFDtKS2Ou7"
   },
   "outputs": [
    {
     "data": {
      "text/plain": [
       "['ArithmeticError',\n",
       " 'AssertionError',\n",
       " 'AttributeError',\n",
       " 'BaseException',\n",
       " 'BlockingIOError',\n",
       " 'BrokenPipeError',\n",
       " 'BufferError',\n",
       " 'BytesWarning',\n",
       " 'ChildProcessError',\n",
       " 'ConnectionAbortedError',\n",
       " 'ConnectionError',\n",
       " 'ConnectionRefusedError',\n",
       " 'ConnectionResetError',\n",
       " 'DeprecationWarning',\n",
       " 'EOFError',\n",
       " 'Ellipsis',\n",
       " 'EnvironmentError',\n",
       " 'Exception',\n",
       " 'False',\n",
       " 'FileExistsError',\n",
       " 'FileNotFoundError',\n",
       " 'FloatingPointError',\n",
       " 'FutureWarning',\n",
       " 'GeneratorExit',\n",
       " 'IOError',\n",
       " 'ImportError',\n",
       " 'ImportWarning',\n",
       " 'IndentationError',\n",
       " 'IndexError',\n",
       " 'InterruptedError',\n",
       " 'IsADirectoryError',\n",
       " 'KeyError',\n",
       " 'KeyboardInterrupt',\n",
       " 'LookupError',\n",
       " 'MemoryError',\n",
       " 'NameError',\n",
       " 'None',\n",
       " 'NotADirectoryError',\n",
       " 'NotImplemented',\n",
       " 'NotImplementedError',\n",
       " 'OSError',\n",
       " 'OverflowError',\n",
       " 'PendingDeprecationWarning',\n",
       " 'PermissionError',\n",
       " 'ProcessLookupError',\n",
       " 'RecursionError',\n",
       " 'ReferenceError',\n",
       " 'ResourceWarning',\n",
       " 'RuntimeError',\n",
       " 'RuntimeWarning',\n",
       " 'StopAsyncIteration',\n",
       " 'StopIteration',\n",
       " 'SyntaxError',\n",
       " 'SyntaxWarning',\n",
       " 'SystemError',\n",
       " 'SystemExit',\n",
       " 'TabError',\n",
       " 'TimeoutError',\n",
       " 'True',\n",
       " 'TypeError',\n",
       " 'UnboundLocalError',\n",
       " 'UnicodeDecodeError',\n",
       " 'UnicodeEncodeError',\n",
       " 'UnicodeError',\n",
       " 'UnicodeTranslateError',\n",
       " 'UnicodeWarning',\n",
       " 'UserWarning',\n",
       " 'ValueError',\n",
       " 'Warning',\n",
       " 'WindowsError',\n",
       " 'ZeroDivisionError',\n",
       " '__IPYTHON__',\n",
       " '__build_class__',\n",
       " '__debug__',\n",
       " '__doc__',\n",
       " '__import__',\n",
       " '__loader__',\n",
       " '__name__',\n",
       " '__package__',\n",
       " '__spec__',\n",
       " 'abs',\n",
       " 'all',\n",
       " 'any',\n",
       " 'ascii',\n",
       " 'bin',\n",
       " 'bool',\n",
       " 'bytearray',\n",
       " 'bytes',\n",
       " 'callable',\n",
       " 'chr',\n",
       " 'classmethod',\n",
       " 'compile',\n",
       " 'complex',\n",
       " 'copyright',\n",
       " 'credits',\n",
       " 'delattr',\n",
       " 'dict',\n",
       " 'dir',\n",
       " 'display',\n",
       " 'divmod',\n",
       " 'enumerate',\n",
       " 'eval',\n",
       " 'exec',\n",
       " 'filter',\n",
       " 'float',\n",
       " 'format',\n",
       " 'frozenset',\n",
       " 'get_ipython',\n",
       " 'getattr',\n",
       " 'globals',\n",
       " 'hasattr',\n",
       " 'hash',\n",
       " 'help',\n",
       " 'hex',\n",
       " 'id',\n",
       " 'input',\n",
       " 'int',\n",
       " 'isinstance',\n",
       " 'issubclass',\n",
       " 'iter',\n",
       " 'len',\n",
       " 'license',\n",
       " 'list',\n",
       " 'locals',\n",
       " 'map',\n",
       " 'max',\n",
       " 'memoryview',\n",
       " 'min',\n",
       " 'next',\n",
       " 'object',\n",
       " 'oct',\n",
       " 'open',\n",
       " 'ord',\n",
       " 'pow',\n",
       " 'print',\n",
       " 'property',\n",
       " 'range',\n",
       " 'repr',\n",
       " 'reversed',\n",
       " 'round',\n",
       " 'set',\n",
       " 'setattr',\n",
       " 'slice',\n",
       " 'sorted',\n",
       " 'staticmethod',\n",
       " 'str',\n",
       " 'sum',\n",
       " 'super',\n",
       " 'tuple',\n",
       " 'type',\n",
       " 'vars',\n",
       " 'zip']"
      ]
     },
     "execution_count": 5,
     "metadata": {},
     "output_type": "execute_result"
    }
   ],
   "source": [
    "dir(__builtin__)"
   ]
  },
  {
   "cell_type": "code",
   "execution_count": 6,
   "metadata": {
    "colab": {},
    "colab_type": "code",
    "id": "H-IyCI1K2YDK"
   },
   "outputs": [
    {
     "name": "stdout",
     "output_type": "stream",
     "text": [
      "[{'가격': 10000, '메뉴명': '남해멸치쌈밥'},\n",
      " {'가격': 8500, '메뉴명': '진주물냉면'},\n",
      " {'가격': 8500, '메뉴명': '남해멸치쌈밥'}]\n",
      "10000 남해멸치쌈밥\n",
      "None\n",
      "{'메뉴명': '남해멸치쌈밥', '가격': 11000}\n",
      "{'가격': 11000}\n"
     ]
    }
   ],
   "source": [
    "# dictionary CRUD\n",
    "메뉴1 = {\n",
    "    \"메뉴명\": \"남해멸치쌈밥\",\n",
    "    \"가격\": 10000\n",
    "}\n",
    "메뉴2 = {\n",
    "    \"메뉴명\": \"진주물냉면\",\n",
    "    \"가격\": 8500\n",
    "}\n",
    "메뉴3 = dict(\n",
    "    메뉴명=\"남해멸치쌈밥\",\n",
    "    가격=8500\n",
    ")\n",
    "\n",
    "메뉴 = [메뉴1, 메뉴2, 메뉴3]\n",
    "\n",
    "import pprint\n",
    "pprint.pprint(메뉴)\n",
    "\n",
    "# 조회\n",
    "print(메뉴1['가격'], 메뉴1['메뉴명'])\n",
    "print(메뉴1.get('1인분가능'))\n",
    "\n",
    "# 수정\n",
    "메뉴1['가격'] = 11000\n",
    "print(메뉴1)\n",
    "\n",
    "# 삭제\n",
    "del 메뉴1['메뉴명']\n",
    "print(메뉴1)"
   ]
  },
  {
   "cell_type": "code",
   "execution_count": 7,
   "metadata": {
    "colab": {},
    "colab_type": "code",
    "id": "07vCDmjA3PVc"
   },
   "outputs": [
    {
     "data": {
      "text/plain": [
       "['__class__',\n",
       " '__contains__',\n",
       " '__delattr__',\n",
       " '__delitem__',\n",
       " '__dir__',\n",
       " '__doc__',\n",
       " '__eq__',\n",
       " '__format__',\n",
       " '__ge__',\n",
       " '__getattribute__',\n",
       " '__getitem__',\n",
       " '__gt__',\n",
       " '__hash__',\n",
       " '__init__',\n",
       " '__iter__',\n",
       " '__le__',\n",
       " '__len__',\n",
       " '__lt__',\n",
       " '__ne__',\n",
       " '__new__',\n",
       " '__reduce__',\n",
       " '__reduce_ex__',\n",
       " '__repr__',\n",
       " '__setattr__',\n",
       " '__setitem__',\n",
       " '__sizeof__',\n",
       " '__str__',\n",
       " '__subclasshook__',\n",
       " 'clear',\n",
       " 'copy',\n",
       " 'fromkeys',\n",
       " 'get',\n",
       " 'items',\n",
       " 'keys',\n",
       " 'pop',\n",
       " 'popitem',\n",
       " 'setdefault',\n",
       " 'update',\n",
       " 'values']"
      ]
     },
     "execution_count": 7,
     "metadata": {},
     "output_type": "execute_result"
    }
   ],
   "source": [
    "dir(메뉴1)"
   ]
  },
  {
   "cell_type": "code",
   "execution_count": 8,
   "metadata": {
    "colab": {},
    "colab_type": "code",
    "id": "c3EgXsgi4C8d"
   },
   "outputs": [
    {
     "name": "stdout",
     "output_type": "stream",
     "text": [
      "[0, 1, 2, 3, 4, 5, 6, 7, 8, 9, 10, 11, 12, 13, 14, 15, 16, 17, 18, 19, 20, 21, 22, 23, 24, 25, 26, 27, 28, 29, 30, 31, 32, 33, 34, 35, 36, 37, 38, 39, 40, 41, 42, 43, 44, 45, 46, 47, 48, 49, 50, 51, 52, 53, 54, 55, 56, 57, 58, 59, 60, 61, 62, 63, 64, 65, 66, 67, 68, 69, 70, 71, 72, 73, 74, 75, 76, 77, 78, 79, 80, 81, 82, 83, 84, 85, 86, 87, 88, 89, 90, 91, 92, 93, 94, 95, 96, 97, 98, 99]\n",
      "[10, 11, 12, 13, 14, 15, 16, 17, 18, 19]\n",
      "[0, 1, 2, 3, 4, 5, 6, 7, 8, 9]\n",
      "[90, 91, 92, 93, 94, 95, 96, 97, 98, 99]\n",
      "[90, 91, 92, 93, 94, 95, 96, 97, 98, 99]\n",
      "[0, 1, 2, 3, 4, 5, 6, 7, 8, 9, 10, 11, 12, 13, 14, 15, 16, 17, 18, 19, 20, 21, 22, 23, 24, 25, 26, 27, 28, 29, 30, 31, 32, 33, 34, 35, 36, 37, 38, 39, 40, 41, 42, 43, 44, 45, 46, 47, 48, 49, 50, 51, 52, 53, 54, 55, 56, 57, 58, 59, 60, 61, 62, 63, 64, 65, 66, 67, 68, 69, 70, 71, 72, 73, 74, 75, 76, 77, 78, 79, 80, 81, 82, 83, 84, 85, 86, 87, 88, 89]\n",
      "[0, 1, 2, 3, 4, 5, 6, 7, 8, 9, 10, 11, 12, 13, 14, 15, 16, 17, 18, 19, 20, 21, 22, 23, 24, 25, 26, 27, 28, 29, 30, 31, 32, 33, 34, 35, 36, 37, 38, 39, 40, 41, 42, 43, 44, 45, 46, 47, 48, 49, 50, 51, 52, 53, 54, 55, 56, 57, 58, 59, 60, 61, 62, 63, 64, 65, 66, 67, 68, 69, 70, 71, 72, 73, 74, 75, 76, 77, 78, 79, 80, 81, 82, 83, 84, 85, 86, 87, 88, 89, 90, 91, 92, 93, 94, 95, 96, 97, 98, 99]\n",
      "[99, 98, 97, 96, 95, 94, 93, 92, 91, 90, 89, 88, 87, 86, 85, 84, 83, 82, 81, 80, 79, 78, 77, 76, 75, 74, 73, 72, 71, 70, 69, 68, 67, 66, 65, 64, 63, 62, 61, 60, 59, 58, 57, 56, 55, 54, 53, 52, 51, 50, 49, 48, 47, 46, 45, 44, 43, 42, 41, 40, 39, 38, 37, 36, 35, 34, 33, 32, 31, 30, 29, 28, 27, 26, 25, 24, 23, 22, 21, 20, 19, 18, 17, 16, 15, 14, 13, 12, 11, 10, 9, 8, 7, 6, 5, 4, 3, 2, 1, 0]\n",
      "hello\n",
      "dlrow\n"
     ]
    }
   ],
   "source": [
    "# slicing\n",
    "numbers = list(range(100))\n",
    "print(numbers)\n",
    "\n",
    "print(numbers[10:20])\n",
    "print(numbers[:10])\n",
    "print(numbers[90:])\n",
    "print(numbers[-10:])\n",
    "print(numbers[:-10])\n",
    "print(numbers[:])\n",
    "print(numbers[::-1])\n",
    "\n",
    "# 문자열에서 동일하게 사용가능\n",
    "string = 'hello world'\n",
    "print(string[:5])\n",
    "print(string[-5:][::-1])\n"
   ]
  },
  {
   "cell_type": "code",
   "execution_count": 9,
   "metadata": {
    "colab": {
     "base_uri": "https://localhost:8080/",
     "height": 54
    },
    "colab_type": "code",
    "executionInfo": {
     "elapsed": 622,
     "status": "ok",
     "timestamp": 1567695244670,
     "user": {
      "displayName": "김태수",
      "photoUrl": "",
      "userId": "04015158498783056419"
     },
     "user_tz": -540
    },
    "id": "SzohSCn947VN",
    "outputId": "2135dae4-7533-45d8-bfe4-7fc7ee5e1418"
   },
   "outputs": [
    {
     "name": "stdout",
     "output_type": "stream",
     "text": [
      "[0, 4, 16, 36, 64, 100, 144, 196, 256, 324, 400, 484, 576, 676, 784, 900, 1024, 1156, 1296, 1444, 1600, 1764, 1936, 2116, 2304, 2500, 2704, 2916, 3136, 3364, 3600, 3844, 4096, 4356, 4624, 4900, 5184, 5476, 5776, 6084, 6400, 6724, 7056, 7396, 7744, 8100, 8464, 8836, 9216, 9604]\n"
     ]
    }
   ],
   "source": [
    "# list comprehension\n",
    "\n",
    "numbers = list(range(100))\n",
    "\n",
    "numbers = [n ** 2 for n in numbers if n % 2 == 0]\n",
    "print(numbers)\n",
    "\n",
    "\n"
   ]
  },
  {
   "cell_type": "code",
   "execution_count": 10,
   "metadata": {
    "colab": {
     "base_uri": "https://localhost:8080/",
     "height": 87
    },
    "colab_type": "code",
    "executionInfo": {
     "elapsed": 642,
     "status": "ok",
     "timestamp": 1567695245966,
     "user": {
      "displayName": "김태수",
      "photoUrl": "",
      "userId": "04015158498783056419"
     },
     "user_tz": -540
    },
    "id": "wLebozN_6vvW",
    "outputId": "0545bc7e-cf94-4315-9fcc-529d03773f62"
   },
   "outputs": [
    {
     "name": "stdout",
     "output_type": "stream",
     "text": [
      "[{'가격': 10000, '메뉴명': '남해멸치쌈밥'},\n",
      " {'가격': 8500, '메뉴명': '진주물냉면'},\n",
      " {'가격': 8500, '메뉴명': '남해멸치쌈밥'}]\n",
      "[['남해멸치쌈밥', 10000], ['진주물냉면', 8500], ['남해멸치쌈밥', 8500]]\n"
     ]
    }
   ],
   "source": [
    "# dictionary CRUD\n",
    "메뉴1 = {\n",
    "    \"메뉴명\": \"남해멸치쌈밥\",\n",
    "    \"가격\": 10000\n",
    "}\n",
    "메뉴2 = {\n",
    "    \"메뉴명\": \"진주물냉면\",\n",
    "    \"가격\": 8500\n",
    "}\n",
    "메뉴3 = dict(\n",
    "    메뉴명=\"남해멸치쌈밥\",\n",
    "    가격=8500\n",
    ")\n",
    "메뉴 = [메뉴1, 메뉴2, 메뉴3]\n",
    "\n",
    "import pprint\n",
    "pprint.pprint(메뉴)\n",
    "\n",
    "메뉴 = [list(m.values()) for m in 메뉴]\n",
    "pprint.pprint(메뉴)"
   ]
  },
  {
   "cell_type": "code",
   "execution_count": 11,
   "metadata": {
    "colab": {
     "base_uri": "https://localhost:8080/",
     "height": 84
    },
    "colab_type": "code",
    "executionInfo": {
     "elapsed": 885,
     "status": "ok",
     "timestamp": 1567646661337,
     "user": {
      "displayName": "이숙번",
      "photoUrl": "https://lh3.googleusercontent.com/a-/AAuE7mDbHk2NjbDQ1cl1iq9eEQIMaqbd9dF-oRVZnS-Uxg8=s64",
      "userId": "12594703987274118169"
     },
     "user_tz": -540
    },
    "id": "ITvvonsU-_Xg",
    "outputId": "44135dfc-2cd6-4d9f-933b-fb0a67295b7f"
   },
   "outputs": [
    {
     "name": "stdout",
     "output_type": "stream",
     "text": [
      "메뉴명 진주물냉면\n",
      "가격 8500\n",
      "{'메뉴명': '진주물냉면', '가격': 8500}\n",
      "{'메뉴명': '진주비빔냉면', '가격': 8500}\n"
     ]
    }
   ],
   "source": [
    "m1 = ['진주물냉면', 8500]\n",
    "keys = ['메뉴명', '가격']\n",
    "\n",
    "for k, m in zip(keys, m1):\n",
    "    print(k, m)\n",
    "    \n",
    "m1 = {k: m for k, m in zip(keys, m1)}\n",
    "print(m1)\n",
    "\n",
    "# tip\n",
    "m2 = ['진주비빔냉면', 8500]\n",
    "m2 = dict(zip(keys, m2))\n",
    "print(m2)"
   ]
  },
  {
   "cell_type": "code",
   "execution_count": 12,
   "metadata": {
    "colab": {
     "base_uri": "https://localhost:8080/",
     "height": 87
    },
    "colab_type": "code",
    "executionInfo": {
     "elapsed": 637,
     "status": "ok",
     "timestamp": 1567695445324,
     "user": {
      "displayName": "김태수",
      "photoUrl": "",
      "userId": "04015158498783056419"
     },
     "user_tz": -540
    },
    "id": "O49QEMgJA9r6",
    "outputId": "ae311ed0-cca6-4a9c-ad69-9bf4998e7e45"
   },
   "outputs": [
    {
     "name": "stdout",
     "output_type": "stream",
     "text": [
      "(1, 2, 3)\n",
      "(1, 2, 3)\n",
      "1 2 3\n",
      "1 2\n"
     ]
    }
   ],
   "source": [
    "# tuple \n",
    "\n",
    "t1 = (1, 2, 3)\n",
    "print(t1)\n",
    "t2 = 1, 2, 3\n",
    "print(t2)\n",
    "\n",
    "a1, b1, c1 = 1, 2, 3\n",
    "print(a1, b1, c1)\n",
    "\n",
    "def tt():\n",
    "    a = 1\n",
    "    b = 2\n",
    "    return a, b\n",
    "\n",
    "a1, b1 = tt()\n",
    "print(a1, b1)\n"
   ]
  },
  {
   "cell_type": "code",
   "execution_count": 13,
   "metadata": {
    "colab": {
     "base_uri": "https://localhost:8080/",
     "height": 140
    },
    "colab_type": "code",
    "executionInfo": {
     "elapsed": 656,
     "status": "ok",
     "timestamp": 1567696006671,
     "user": {
      "displayName": "김태수",
      "photoUrl": "",
      "userId": "04015158498783056419"
     },
     "user_tz": -540
    },
    "id": "cd-zf4YfDFvx",
    "outputId": "ee0f531a-bb2f-4921-c902-bdf03d27a7fa"
   },
   "outputs": [
    {
     "name": "stdout",
     "output_type": "stream",
     "text": [
      "0 2\n",
      "1 1\n",
      "2 0\n",
      "[(0, 2), (1, 1), (2, 0)]\n",
      "메뉴명 남해멸치쌈밥\n",
      "가격 10000\n",
      "[('메뉴명', '남해멸치쌈밥'), ('가격', 10000)]\n"
     ]
    }
   ],
   "source": [
    "numbers = list(range(3))\n",
    "for i, n in enumerate(numbers[::-1]):\n",
    "    print(i, n)\n",
    "    \n",
    "pprint.pprint(list(enumerate(numbers[::-1])))\n",
    "\n",
    "메뉴1 = {\n",
    "    \"메뉴명\": \"남해멸치쌈밥\",\n",
    "    \"가격\": 10000\n",
    "}\n",
    "\n",
    "for k, v in 메뉴1.items():\n",
    "    print(k, v)\n",
    "    \n",
    "pprint.pprint(list(메뉴1.items()))"
   ]
  },
  {
   "cell_type": "markdown",
   "metadata": {
    "colab_type": "text",
    "id": "lzv9CiBTBKzX"
   },
   "source": [
    "## Pandas"
   ]
  },
  {
   "cell_type": "code",
   "execution_count": 27,
   "metadata": {
    "colab": {},
    "colab_type": "code",
    "id": "qKqmsRdr4ZtT"
   },
   "outputs": [],
   "source": [
    "import pandas as pd\n",
    "import numpy as np\n",
    "import tensorflow as tf"
   ]
  },
  {
   "cell_type": "code",
   "execution_count": 28,
   "metadata": {
    "colab": {
     "base_uri": "https://localhost:8080/",
     "height": 166
    },
    "colab_type": "code",
    "executionInfo": {
     "elapsed": 709,
     "status": "ok",
     "timestamp": 1567697402432,
     "user": {
      "displayName": "김태수",
      "photoUrl": "",
      "userId": "04015158498783056419"
     },
     "user_tz": -540
    },
    "id": "RpQ69P1SCBG-",
    "outputId": "92e51338-dabf-44a9-8cce-597a682a5097"
   },
   "outputs": [
    {
     "data": {
      "text/html": [
       "<div>\n",
       "<style scoped>\n",
       "    .dataframe tbody tr th:only-of-type {\n",
       "        vertical-align: middle;\n",
       "    }\n",
       "\n",
       "    .dataframe tbody tr th {\n",
       "        vertical-align: top;\n",
       "    }\n",
       "\n",
       "    .dataframe thead th {\n",
       "        text-align: right;\n",
       "    }\n",
       "</style>\n",
       "<table border=\"1\" class=\"dataframe\">\n",
       "  <thead>\n",
       "    <tr style=\"text-align: right;\">\n",
       "      <th></th>\n",
       "      <th>col1</th>\n",
       "      <th>col2</th>\n",
       "      <th>col3</th>\n",
       "    </tr>\n",
       "  </thead>\n",
       "  <tbody>\n",
       "    <tr>\n",
       "      <th>0</th>\n",
       "      <td>1</td>\n",
       "      <td>a</td>\n",
       "      <td>True</td>\n",
       "    </tr>\n",
       "    <tr>\n",
       "      <th>1</th>\n",
       "      <td>2</td>\n",
       "      <td>b</td>\n",
       "      <td>False</td>\n",
       "    </tr>\n",
       "    <tr>\n",
       "      <th>2</th>\n",
       "      <td>3</td>\n",
       "      <td>c</td>\n",
       "      <td>True</td>\n",
       "    </tr>\n",
       "    <tr>\n",
       "      <th>3</th>\n",
       "      <td>4</td>\n",
       "      <td>d</td>\n",
       "      <td>False</td>\n",
       "    </tr>\n",
       "  </tbody>\n",
       "</table>\n",
       "</div>"
      ],
      "text/plain": [
       "   col1 col2   col3\n",
       "0     1    a   True\n",
       "1     2    b  False\n",
       "2     3    c   True\n",
       "3     4    d  False"
      ]
     },
     "execution_count": 28,
     "metadata": {},
     "output_type": "execute_result"
    }
   ],
   "source": [
    "dict1 = {\n",
    "    \"col1\": [1, 2, 3, 4],\n",
    "    \"col2\": ['a', 'b', 'c', 'd'],\n",
    "    \"col3\": [True, False, True, False]\n",
    "}\n",
    "\n",
    "df1 = pd.DataFrame(dict1)\n",
    "df1"
   ]
  },
  {
   "cell_type": "code",
   "execution_count": 29,
   "metadata": {
    "colab": {
     "base_uri": "https://localhost:8080/",
     "height": 35
    },
    "colab_type": "code",
    "executionInfo": {
     "elapsed": 715,
     "status": "ok",
     "timestamp": 1567663995213,
     "user": {
      "displayName": "이숙번",
      "photoUrl": "https://lh3.googleusercontent.com/a-/AAuE7mDbHk2NjbDQ1cl1iq9eEQIMaqbd9dF-oRVZnS-Uxg8=s64",
      "userId": "12594703987274118169"
     },
     "user_tz": -540
    },
    "id": "fetuZfFTC554",
    "outputId": "85bc929e-bd6b-494e-9cc8-621113d4d793"
   },
   "outputs": [
    {
     "data": {
      "text/plain": [
       "(4, 3)"
      ]
     },
     "execution_count": 29,
     "metadata": {},
     "output_type": "execute_result"
    }
   ],
   "source": [
    "df1.shape"
   ]
  },
  {
   "cell_type": "code",
   "execution_count": 30,
   "metadata": {
    "colab": {
     "base_uri": "https://localhost:8080/",
     "height": 34
    },
    "colab_type": "code",
    "executionInfo": {
     "elapsed": 3003,
     "status": "ok",
     "timestamp": 1567664251125,
     "user": {
      "displayName": "이숙번",
      "photoUrl": "https://lh3.googleusercontent.com/a-/AAuE7mDbHk2NjbDQ1cl1iq9eEQIMaqbd9dF-oRVZnS-Uxg8=s64",
      "userId": "12594703987274118169"
     },
     "user_tz": -540
    },
    "id": "zhRKu-dGEQu6",
    "outputId": "0409a487-2eb0-45f4-f852-970489b9f4e3"
   },
   "outputs": [
    {
     "name": "stderr",
     "output_type": "stream",
     "text": [
      "'ls'은(는) 내부 또는 외부 명령, 실행할 수 있는 프로그램, 또는\n",
      "배치 파일이 아닙니다.\n"
     ]
    }
   ],
   "source": [
    "df1.to_csv('./file.csv', index=False, header=False)\n",
    "!ls"
   ]
  },
  {
   "cell_type": "code",
   "execution_count": 31,
   "metadata": {
    "colab": {
     "base_uri": "https://localhost:8080/",
     "height": 195
    },
    "colab_type": "code",
    "executionInfo": {
     "elapsed": 633,
     "status": "ok",
     "timestamp": 1567697709939,
     "user": {
      "displayName": "김태수",
      "photoUrl": "",
      "userId": "04015158498783056419"
     },
     "user_tz": -540
    },
    "id": "bxmChYRvD-yL",
    "outputId": "09faf285-070b-46f1-9b17-39350dc075d2"
   },
   "outputs": [
    {
     "data": {
      "text/html": [
       "<div>\n",
       "<style scoped>\n",
       "    .dataframe tbody tr th:only-of-type {\n",
       "        vertical-align: middle;\n",
       "    }\n",
       "\n",
       "    .dataframe tbody tr th {\n",
       "        vertical-align: top;\n",
       "    }\n",
       "\n",
       "    .dataframe thead th {\n",
       "        text-align: right;\n",
       "    }\n",
       "</style>\n",
       "<table border=\"1\" class=\"dataframe\">\n",
       "  <thead>\n",
       "    <tr style=\"text-align: right;\">\n",
       "      <th></th>\n",
       "      <th>admit</th>\n",
       "      <th>gre</th>\n",
       "      <th>gpa</th>\n",
       "      <th>rank</th>\n",
       "    </tr>\n",
       "  </thead>\n",
       "  <tbody>\n",
       "    <tr>\n",
       "      <th>0</th>\n",
       "      <td>0</td>\n",
       "      <td>380</td>\n",
       "      <td>3.61</td>\n",
       "      <td>3</td>\n",
       "    </tr>\n",
       "    <tr>\n",
       "      <th>1</th>\n",
       "      <td>1</td>\n",
       "      <td>660</td>\n",
       "      <td>3.67</td>\n",
       "      <td>3</td>\n",
       "    </tr>\n",
       "    <tr>\n",
       "      <th>2</th>\n",
       "      <td>1</td>\n",
       "      <td>800</td>\n",
       "      <td>4.00</td>\n",
       "      <td>1</td>\n",
       "    </tr>\n",
       "    <tr>\n",
       "      <th>3</th>\n",
       "      <td>1</td>\n",
       "      <td>640</td>\n",
       "      <td>3.19</td>\n",
       "      <td>4</td>\n",
       "    </tr>\n",
       "    <tr>\n",
       "      <th>4</th>\n",
       "      <td>0</td>\n",
       "      <td>520</td>\n",
       "      <td>2.93</td>\n",
       "      <td>4</td>\n",
       "    </tr>\n",
       "  </tbody>\n",
       "</table>\n",
       "</div>"
      ],
      "text/plain": [
       "   admit  gre   gpa  rank\n",
       "0      0  380  3.61     3\n",
       "1      1  660  3.67     3\n",
       "2      1  800  4.00     1\n",
       "3      1  640  3.19     4\n",
       "4      0  520  2.93     4"
      ]
     },
     "execution_count": 31,
     "metadata": {},
     "output_type": "execute_result"
    }
   ],
   "source": [
    "# file url: https://raw.githubusercontent.com/blackdew/dplus-tensorflow/master/csv/Graduate_apply.csv\n",
    "df = pd.read_csv('https://raw.githubusercontent.com/blackdew/dplus-tensorflow/master/csv/Graduate_apply.csv')\n",
    "df.head()"
   ]
  },
  {
   "cell_type": "code",
   "execution_count": 32,
   "metadata": {
    "colab": {
     "base_uri": "https://localhost:8080/",
     "height": 136
    },
    "colab_type": "code",
    "executionInfo": {
     "elapsed": 691,
     "status": "ok",
     "timestamp": 1567664371215,
     "user": {
      "displayName": "이숙번",
      "photoUrl": "https://lh3.googleusercontent.com/a-/AAuE7mDbHk2NjbDQ1cl1iq9eEQIMaqbd9dF-oRVZnS-Uxg8=s64",
      "userId": "12594703987274118169"
     },
     "user_tz": -540
    },
    "id": "CcTjJhbnEFPV",
    "outputId": "06b4e96d-855f-4205-baad-c8daca7da366"
   },
   "outputs": [
    {
     "data": {
      "text/html": [
       "<div>\n",
       "<style scoped>\n",
       "    .dataframe tbody tr th:only-of-type {\n",
       "        vertical-align: middle;\n",
       "    }\n",
       "\n",
       "    .dataframe tbody tr th {\n",
       "        vertical-align: top;\n",
       "    }\n",
       "\n",
       "    .dataframe thead th {\n",
       "        text-align: right;\n",
       "    }\n",
       "</style>\n",
       "<table border=\"1\" class=\"dataframe\">\n",
       "  <thead>\n",
       "    <tr style=\"text-align: right;\">\n",
       "      <th></th>\n",
       "      <th>admit</th>\n",
       "      <th>gre</th>\n",
       "      <th>gpa</th>\n",
       "      <th>rank</th>\n",
       "    </tr>\n",
       "  </thead>\n",
       "  <tbody>\n",
       "    <tr>\n",
       "      <th>397</th>\n",
       "      <td>0</td>\n",
       "      <td>460</td>\n",
       "      <td>2.63</td>\n",
       "      <td>2</td>\n",
       "    </tr>\n",
       "    <tr>\n",
       "      <th>398</th>\n",
       "      <td>0</td>\n",
       "      <td>700</td>\n",
       "      <td>3.65</td>\n",
       "      <td>2</td>\n",
       "    </tr>\n",
       "    <tr>\n",
       "      <th>399</th>\n",
       "      <td>0</td>\n",
       "      <td>600</td>\n",
       "      <td>3.89</td>\n",
       "      <td>3</td>\n",
       "    </tr>\n",
       "  </tbody>\n",
       "</table>\n",
       "</div>"
      ],
      "text/plain": [
       "     admit  gre   gpa  rank\n",
       "397      0  460  2.63     2\n",
       "398      0  700  3.65     2\n",
       "399      0  600  3.89     3"
      ]
     },
     "execution_count": 32,
     "metadata": {},
     "output_type": "execute_result"
    }
   ],
   "source": [
    "df.tail(3)"
   ]
  },
  {
   "cell_type": "code",
   "execution_count": 33,
   "metadata": {
    "colab": {
     "base_uri": "https://localhost:8080/",
     "height": 34
    },
    "colab_type": "code",
    "executionInfo": {
     "elapsed": 870,
     "status": "ok",
     "timestamp": 1567664378375,
     "user": {
      "displayName": "이숙번",
      "photoUrl": "https://lh3.googleusercontent.com/a-/AAuE7mDbHk2NjbDQ1cl1iq9eEQIMaqbd9dF-oRVZnS-Uxg8=s64",
      "userId": "12594703987274118169"
     },
     "user_tz": -540
    },
    "id": "rtPB_vDfE_MP",
    "outputId": "fd54c128-53ad-4a9f-a82f-f581111799e3"
   },
   "outputs": [
    {
     "data": {
      "text/plain": [
       "Index(['admit', 'gre', 'gpa', 'rank'], dtype='object')"
      ]
     },
     "execution_count": 33,
     "metadata": {},
     "output_type": "execute_result"
    }
   ],
   "source": [
    "df.columns"
   ]
  },
  {
   "cell_type": "code",
   "execution_count": 34,
   "metadata": {
    "colab": {
     "base_uri": "https://localhost:8080/",
     "height": 101
    },
    "colab_type": "code",
    "executionInfo": {
     "elapsed": 780,
     "status": "ok",
     "timestamp": 1567664395352,
     "user": {
      "displayName": "이숙번",
      "photoUrl": "https://lh3.googleusercontent.com/a-/AAuE7mDbHk2NjbDQ1cl1iq9eEQIMaqbd9dF-oRVZnS-Uxg8=s64",
      "userId": "12594703987274118169"
     },
     "user_tz": -540
    },
    "id": "3Y-cvdN1FA5b",
    "outputId": "48795a5d-e3e4-4b07-812f-6553b3fd95a7"
   },
   "outputs": [
    {
     "data": {
      "text/plain": [
       "admit      int64\n",
       "gre        int64\n",
       "gpa      float64\n",
       "rank       int64\n",
       "dtype: object"
      ]
     },
     "execution_count": 34,
     "metadata": {},
     "output_type": "execute_result"
    }
   ],
   "source": [
    "df.dtypes"
   ]
  },
  {
   "cell_type": "code",
   "execution_count": 35,
   "metadata": {
    "colab": {
     "base_uri": "https://localhost:8080/",
     "height": 168
    },
    "colab_type": "code",
    "executionInfo": {
     "elapsed": 1050,
     "status": "ok",
     "timestamp": 1567664481095,
     "user": {
      "displayName": "이숙번",
      "photoUrl": "https://lh3.googleusercontent.com/a-/AAuE7mDbHk2NjbDQ1cl1iq9eEQIMaqbd9dF-oRVZnS-Uxg8=s64",
      "userId": "12594703987274118169"
     },
     "user_tz": -540
    },
    "id": "iopdixEqFFD-",
    "outputId": "5922b805-bd27-4fb8-c32e-15e1d800d0b2"
   },
   "outputs": [
    {
     "name": "stdout",
     "output_type": "stream",
     "text": [
      "<class 'pandas.core.frame.DataFrame'>\n",
      "RangeIndex: 400 entries, 0 to 399\n",
      "Data columns (total 4 columns):\n",
      "admit    400 non-null int64\n",
      "gre      400 non-null int64\n",
      "gpa      400 non-null float64\n",
      "rank     400 non-null int64\n",
      "dtypes: float64(1), int64(3)\n",
      "memory usage: 12.6 KB\n"
     ]
    }
   ],
   "source": [
    "df.info()"
   ]
  },
  {
   "cell_type": "code",
   "execution_count": 36,
   "metadata": {
    "colab": {
     "base_uri": "https://localhost:8080/",
     "height": 34
    },
    "colab_type": "code",
    "executionInfo": {
     "elapsed": 631,
     "status": "ok",
     "timestamp": 1567697715926,
     "user": {
      "displayName": "김태수",
      "photoUrl": "",
      "userId": "04015158498783056419"
     },
     "user_tz": -540
    },
    "id": "ERsHyTb5FZ7j",
    "outputId": "a09659ba-b1fb-41ab-bbfc-58616a3c979c"
   },
   "outputs": [
    {
     "data": {
      "text/plain": [
       "(400,)"
      ]
     },
     "execution_count": 36,
     "metadata": {},
     "output_type": "execute_result"
    }
   ],
   "source": [
    "subset = df['admit']\n",
    "subset.head()\n",
    "subset.shape"
   ]
  },
  {
   "cell_type": "code",
   "execution_count": 37,
   "metadata": {
    "colab": {
     "base_uri": "https://localhost:8080/",
     "height": 34
    },
    "colab_type": "code",
    "executionInfo": {
     "elapsed": 1018,
     "status": "ok",
     "timestamp": 1567664669205,
     "user": {
      "displayName": "이숙번",
      "photoUrl": "https://lh3.googleusercontent.com/a-/AAuE7mDbHk2NjbDQ1cl1iq9eEQIMaqbd9dF-oRVZnS-Uxg8=s64",
      "userId": "12594703987274118169"
     },
     "user_tz": -540
    },
    "id": "Ku7Y4ND2FtN9",
    "outputId": "fbb255ea-2d47-456f-de76-34484ebaca88"
   },
   "outputs": [
    {
     "data": {
      "text/plain": [
       "(400, 1)"
      ]
     },
     "execution_count": 37,
     "metadata": {},
     "output_type": "execute_result"
    }
   ],
   "source": [
    "subset = df[['admit']]\n",
    "subset.head()\n",
    "subset.shape"
   ]
  },
  {
   "cell_type": "code",
   "execution_count": 38,
   "metadata": {
    "colab": {
     "base_uri": "https://localhost:8080/",
     "height": 195
    },
    "colab_type": "code",
    "executionInfo": {
     "elapsed": 876,
     "status": "ok",
     "timestamp": 1567664936734,
     "user": {
      "displayName": "이숙번",
      "photoUrl": "https://lh3.googleusercontent.com/a-/AAuE7mDbHk2NjbDQ1cl1iq9eEQIMaqbd9dF-oRVZnS-Uxg8=s64",
      "userId": "12594703987274118169"
     },
     "user_tz": -540
    },
    "id": "Z-LRoRaZF-Mr",
    "outputId": "096785fd-8e9c-41a1-d6eb-f8d2081e1b6b"
   },
   "outputs": [
    {
     "data": {
      "text/html": [
       "<div>\n",
       "<style scoped>\n",
       "    .dataframe tbody tr th:only-of-type {\n",
       "        vertical-align: middle;\n",
       "    }\n",
       "\n",
       "    .dataframe tbody tr th {\n",
       "        vertical-align: top;\n",
       "    }\n",
       "\n",
       "    .dataframe thead th {\n",
       "        text-align: right;\n",
       "    }\n",
       "</style>\n",
       "<table border=\"1\" class=\"dataframe\">\n",
       "  <thead>\n",
       "    <tr style=\"text-align: right;\">\n",
       "      <th></th>\n",
       "      <th>gpa</th>\n",
       "      <th>rank</th>\n",
       "    </tr>\n",
       "  </thead>\n",
       "  <tbody>\n",
       "    <tr>\n",
       "      <th>0</th>\n",
       "      <td>3.61</td>\n",
       "      <td>3</td>\n",
       "    </tr>\n",
       "    <tr>\n",
       "      <th>1</th>\n",
       "      <td>3.67</td>\n",
       "      <td>3</td>\n",
       "    </tr>\n",
       "    <tr>\n",
       "      <th>2</th>\n",
       "      <td>4.00</td>\n",
       "      <td>1</td>\n",
       "    </tr>\n",
       "    <tr>\n",
       "      <th>3</th>\n",
       "      <td>3.19</td>\n",
       "      <td>4</td>\n",
       "    </tr>\n",
       "    <tr>\n",
       "      <th>4</th>\n",
       "      <td>2.93</td>\n",
       "      <td>4</td>\n",
       "    </tr>\n",
       "  </tbody>\n",
       "</table>\n",
       "</div>"
      ],
      "text/plain": [
       "    gpa  rank\n",
       "0  3.61     3\n",
       "1  3.67     3\n",
       "2  4.00     1\n",
       "3  3.19     4\n",
       "4  2.93     4"
      ]
     },
     "execution_count": 38,
     "metadata": {},
     "output_type": "execute_result"
    }
   ],
   "source": [
    "subset = df[df.columns[-2:]]\n",
    "subset.head()"
   ]
  },
  {
   "cell_type": "code",
   "execution_count": 39,
   "metadata": {
    "colab": {
     "base_uri": "https://localhost:8080/",
     "height": 101
    },
    "colab_type": "code",
    "executionInfo": {
     "elapsed": 953,
     "status": "ok",
     "timestamp": 1567665251171,
     "user": {
      "displayName": "이숙번",
      "photoUrl": "https://lh3.googleusercontent.com/a-/AAuE7mDbHk2NjbDQ1cl1iq9eEQIMaqbd9dF-oRVZnS-Uxg8=s64",
      "userId": "12594703987274118169"
     },
     "user_tz": -540
    },
    "id": "-nz39UY_GV3X",
    "outputId": "9bd217af-2e41-4bde-ea36-42b92d6631b0"
   },
   "outputs": [
    {
     "data": {
      "text/plain": [
       "admit      0.00\n",
       "gre      380.00\n",
       "gpa        3.61\n",
       "rank       3.00\n",
       "Name: 0, dtype: float64"
      ]
     },
     "execution_count": 39,
     "metadata": {},
     "output_type": "execute_result"
    }
   ],
   "source": [
    "df.loc[0]"
   ]
  },
  {
   "cell_type": "code",
   "execution_count": 40,
   "metadata": {
    "colab": {
     "base_uri": "https://localhost:8080/",
     "height": 166
    },
    "colab_type": "code",
    "executionInfo": {
     "elapsed": 645,
     "status": "ok",
     "timestamp": 1567665291421,
     "user": {
      "displayName": "이숙번",
      "photoUrl": "https://lh3.googleusercontent.com/a-/AAuE7mDbHk2NjbDQ1cl1iq9eEQIMaqbd9dF-oRVZnS-Uxg8=s64",
      "userId": "12594703987274118169"
     },
     "user_tz": -540
    },
    "id": "IRgXHxd0IV9W",
    "outputId": "ec4f1362-96e2-4f67-90a9-3d1f13364382"
   },
   "outputs": [
    {
     "data": {
      "text/html": [
       "<div>\n",
       "<style scoped>\n",
       "    .dataframe tbody tr th:only-of-type {\n",
       "        vertical-align: middle;\n",
       "    }\n",
       "\n",
       "    .dataframe tbody tr th {\n",
       "        vertical-align: top;\n",
       "    }\n",
       "\n",
       "    .dataframe thead th {\n",
       "        text-align: right;\n",
       "    }\n",
       "</style>\n",
       "<table border=\"1\" class=\"dataframe\">\n",
       "  <thead>\n",
       "    <tr style=\"text-align: right;\">\n",
       "      <th></th>\n",
       "      <th>admit</th>\n",
       "      <th>gre</th>\n",
       "      <th>gpa</th>\n",
       "      <th>rank</th>\n",
       "    </tr>\n",
       "  </thead>\n",
       "  <tbody>\n",
       "    <tr>\n",
       "      <th>0</th>\n",
       "      <td>0</td>\n",
       "      <td>380</td>\n",
       "      <td>3.61</td>\n",
       "      <td>3</td>\n",
       "    </tr>\n",
       "    <tr>\n",
       "      <th>10</th>\n",
       "      <td>0</td>\n",
       "      <td>800</td>\n",
       "      <td>4.00</td>\n",
       "      <td>4</td>\n",
       "    </tr>\n",
       "    <tr>\n",
       "      <th>20</th>\n",
       "      <td>0</td>\n",
       "      <td>500</td>\n",
       "      <td>3.17</td>\n",
       "      <td>3</td>\n",
       "    </tr>\n",
       "    <tr>\n",
       "      <th>30</th>\n",
       "      <td>0</td>\n",
       "      <td>540</td>\n",
       "      <td>3.78</td>\n",
       "      <td>4</td>\n",
       "    </tr>\n",
       "  </tbody>\n",
       "</table>\n",
       "</div>"
      ],
      "text/plain": [
       "    admit  gre   gpa  rank\n",
       "0       0  380  3.61     3\n",
       "10      0  800  4.00     4\n",
       "20      0  500  3.17     3\n",
       "30      0  540  3.78     4"
      ]
     },
     "execution_count": 40,
     "metadata": {},
     "output_type": "execute_result"
    }
   ],
   "source": [
    "df.loc[[0, 10, 20, 30]]"
   ]
  },
  {
   "cell_type": "code",
   "execution_count": 41,
   "metadata": {
    "colab": {
     "base_uri": "https://localhost:8080/",
     "height": 101
    },
    "colab_type": "code",
    "executionInfo": {
     "elapsed": 993,
     "status": "ok",
     "timestamp": 1567665319455,
     "user": {
      "displayName": "이숙번",
      "photoUrl": "https://lh3.googleusercontent.com/a-/AAuE7mDbHk2NjbDQ1cl1iq9eEQIMaqbd9dF-oRVZnS-Uxg8=s64",
      "userId": "12594703987274118169"
     },
     "user_tz": -540
    },
    "id": "FUFMWkoFIf3A",
    "outputId": "c6597ef4-c965-462b-c439-d8b28f308f57"
   },
   "outputs": [
    {
     "data": {
      "text/plain": [
       "admit      0.00\n",
       "gre      380.00\n",
       "gpa        3.61\n",
       "rank       3.00\n",
       "Name: 0, dtype: float64"
      ]
     },
     "execution_count": 41,
     "metadata": {},
     "output_type": "execute_result"
    }
   ],
   "source": [
    "df.iloc[0]"
   ]
  },
  {
   "cell_type": "code",
   "execution_count": 42,
   "metadata": {
    "colab": {
     "base_uri": "https://localhost:8080/",
     "height": 166
    },
    "colab_type": "code",
    "executionInfo": {
     "elapsed": 712,
     "status": "ok",
     "timestamp": 1567665334104,
     "user": {
      "displayName": "이숙번",
      "photoUrl": "https://lh3.googleusercontent.com/a-/AAuE7mDbHk2NjbDQ1cl1iq9eEQIMaqbd9dF-oRVZnS-Uxg8=s64",
      "userId": "12594703987274118169"
     },
     "user_tz": -540
    },
    "id": "_36hHRV8Imnr",
    "outputId": "e8b1aa3d-5198-416c-e7d6-f5cc7e9919b5"
   },
   "outputs": [
    {
     "data": {
      "text/html": [
       "<div>\n",
       "<style scoped>\n",
       "    .dataframe tbody tr th:only-of-type {\n",
       "        vertical-align: middle;\n",
       "    }\n",
       "\n",
       "    .dataframe tbody tr th {\n",
       "        vertical-align: top;\n",
       "    }\n",
       "\n",
       "    .dataframe thead th {\n",
       "        text-align: right;\n",
       "    }\n",
       "</style>\n",
       "<table border=\"1\" class=\"dataframe\">\n",
       "  <thead>\n",
       "    <tr style=\"text-align: right;\">\n",
       "      <th></th>\n",
       "      <th>admit</th>\n",
       "      <th>gre</th>\n",
       "      <th>gpa</th>\n",
       "      <th>rank</th>\n",
       "    </tr>\n",
       "  </thead>\n",
       "  <tbody>\n",
       "    <tr>\n",
       "      <th>0</th>\n",
       "      <td>0</td>\n",
       "      <td>380</td>\n",
       "      <td>3.61</td>\n",
       "      <td>3</td>\n",
       "    </tr>\n",
       "    <tr>\n",
       "      <th>10</th>\n",
       "      <td>0</td>\n",
       "      <td>800</td>\n",
       "      <td>4.00</td>\n",
       "      <td>4</td>\n",
       "    </tr>\n",
       "    <tr>\n",
       "      <th>20</th>\n",
       "      <td>0</td>\n",
       "      <td>500</td>\n",
       "      <td>3.17</td>\n",
       "      <td>3</td>\n",
       "    </tr>\n",
       "    <tr>\n",
       "      <th>30</th>\n",
       "      <td>0</td>\n",
       "      <td>540</td>\n",
       "      <td>3.78</td>\n",
       "      <td>4</td>\n",
       "    </tr>\n",
       "  </tbody>\n",
       "</table>\n",
       "</div>"
      ],
      "text/plain": [
       "    admit  gre   gpa  rank\n",
       "0       0  380  3.61     3\n",
       "10      0  800  4.00     4\n",
       "20      0  500  3.17     3\n",
       "30      0  540  3.78     4"
      ]
     },
     "execution_count": 42,
     "metadata": {},
     "output_type": "execute_result"
    }
   ],
   "source": [
    "df.iloc[[0, 10, 20, 30]]"
   ]
  },
  {
   "cell_type": "code",
   "execution_count": 43,
   "metadata": {
    "colab": {
     "base_uri": "https://localhost:8080/",
     "height": 343
    },
    "colab_type": "code",
    "executionInfo": {
     "elapsed": 719,
     "status": "ok",
     "timestamp": 1567665388768,
     "user": {
      "displayName": "이숙번",
      "photoUrl": "https://lh3.googleusercontent.com/a-/AAuE7mDbHk2NjbDQ1cl1iq9eEQIMaqbd9dF-oRVZnS-Uxg8=s64",
      "userId": "12594703987274118169"
     },
     "user_tz": -540
    },
    "id": "zmCcaijWIqQ4",
    "outputId": "fba06d58-2a86-4b66-fcc8-fb3147d26a4c"
   },
   "outputs": [
    {
     "data": {
      "text/html": [
       "<div>\n",
       "<style scoped>\n",
       "    .dataframe tbody tr th:only-of-type {\n",
       "        vertical-align: middle;\n",
       "    }\n",
       "\n",
       "    .dataframe tbody tr th {\n",
       "        vertical-align: top;\n",
       "    }\n",
       "\n",
       "    .dataframe thead th {\n",
       "        text-align: right;\n",
       "    }\n",
       "</style>\n",
       "<table border=\"1\" class=\"dataframe\">\n",
       "  <thead>\n",
       "    <tr style=\"text-align: right;\">\n",
       "      <th></th>\n",
       "      <th>admit</th>\n",
       "      <th>gre</th>\n",
       "      <th>gpa</th>\n",
       "      <th>rank</th>\n",
       "    </tr>\n",
       "  </thead>\n",
       "  <tbody>\n",
       "    <tr>\n",
       "      <th>0</th>\n",
       "      <td>0</td>\n",
       "      <td>380</td>\n",
       "      <td>3.61</td>\n",
       "      <td>3</td>\n",
       "    </tr>\n",
       "    <tr>\n",
       "      <th>1</th>\n",
       "      <td>1</td>\n",
       "      <td>660</td>\n",
       "      <td>3.67</td>\n",
       "      <td>3</td>\n",
       "    </tr>\n",
       "    <tr>\n",
       "      <th>2</th>\n",
       "      <td>1</td>\n",
       "      <td>800</td>\n",
       "      <td>4.00</td>\n",
       "      <td>1</td>\n",
       "    </tr>\n",
       "    <tr>\n",
       "      <th>3</th>\n",
       "      <td>1</td>\n",
       "      <td>640</td>\n",
       "      <td>3.19</td>\n",
       "      <td>4</td>\n",
       "    </tr>\n",
       "    <tr>\n",
       "      <th>4</th>\n",
       "      <td>0</td>\n",
       "      <td>520</td>\n",
       "      <td>2.93</td>\n",
       "      <td>4</td>\n",
       "    </tr>\n",
       "    <tr>\n",
       "      <th>5</th>\n",
       "      <td>1</td>\n",
       "      <td>760</td>\n",
       "      <td>3.00</td>\n",
       "      <td>2</td>\n",
       "    </tr>\n",
       "    <tr>\n",
       "      <th>6</th>\n",
       "      <td>1</td>\n",
       "      <td>560</td>\n",
       "      <td>2.98</td>\n",
       "      <td>1</td>\n",
       "    </tr>\n",
       "    <tr>\n",
       "      <th>7</th>\n",
       "      <td>0</td>\n",
       "      <td>400</td>\n",
       "      <td>3.08</td>\n",
       "      <td>2</td>\n",
       "    </tr>\n",
       "    <tr>\n",
       "      <th>8</th>\n",
       "      <td>1</td>\n",
       "      <td>540</td>\n",
       "      <td>3.39</td>\n",
       "      <td>3</td>\n",
       "    </tr>\n",
       "    <tr>\n",
       "      <th>9</th>\n",
       "      <td>0</td>\n",
       "      <td>700</td>\n",
       "      <td>3.92</td>\n",
       "      <td>2</td>\n",
       "    </tr>\n",
       "  </tbody>\n",
       "</table>\n",
       "</div>"
      ],
      "text/plain": [
       "   admit  gre   gpa  rank\n",
       "0      0  380  3.61     3\n",
       "1      1  660  3.67     3\n",
       "2      1  800  4.00     1\n",
       "3      1  640  3.19     4\n",
       "4      0  520  2.93     4\n",
       "5      1  760  3.00     2\n",
       "6      1  560  2.98     1\n",
       "7      0  400  3.08     2\n",
       "8      1  540  3.39     3\n",
       "9      0  700  3.92     2"
      ]
     },
     "execution_count": 43,
     "metadata": {},
     "output_type": "execute_result"
    }
   ],
   "source": [
    "df.iloc[0:10]"
   ]
  },
  {
   "cell_type": "code",
   "execution_count": 44,
   "metadata": {
    "colab": {},
    "colab_type": "code",
    "id": "9kjeuuCCI3m-"
   },
   "outputs": [
    {
     "data": {
      "text/html": [
       "<div>\n",
       "<style scoped>\n",
       "    .dataframe tbody tr th:only-of-type {\n",
       "        vertical-align: middle;\n",
       "    }\n",
       "\n",
       "    .dataframe tbody tr th {\n",
       "        vertical-align: top;\n",
       "    }\n",
       "\n",
       "    .dataframe thead th {\n",
       "        text-align: right;\n",
       "    }\n",
       "</style>\n",
       "<table border=\"1\" class=\"dataframe\">\n",
       "  <thead>\n",
       "    <tr style=\"text-align: right;\">\n",
       "      <th></th>\n",
       "      <th>admit</th>\n",
       "      <th>gre</th>\n",
       "      <th>gpa</th>\n",
       "      <th>rank</th>\n",
       "    </tr>\n",
       "  </thead>\n",
       "  <tbody>\n",
       "    <tr>\n",
       "      <th>0</th>\n",
       "      <td>0</td>\n",
       "      <td>380</td>\n",
       "      <td>3.61</td>\n",
       "      <td>3</td>\n",
       "    </tr>\n",
       "    <tr>\n",
       "      <th>1</th>\n",
       "      <td>1</td>\n",
       "      <td>660</td>\n",
       "      <td>3.67</td>\n",
       "      <td>3</td>\n",
       "    </tr>\n",
       "    <tr>\n",
       "      <th>2</th>\n",
       "      <td>1</td>\n",
       "      <td>800</td>\n",
       "      <td>4.00</td>\n",
       "      <td>1</td>\n",
       "    </tr>\n",
       "    <tr>\n",
       "      <th>3</th>\n",
       "      <td>1</td>\n",
       "      <td>640</td>\n",
       "      <td>3.19</td>\n",
       "      <td>4</td>\n",
       "    </tr>\n",
       "    <tr>\n",
       "      <th>4</th>\n",
       "      <td>0</td>\n",
       "      <td>520</td>\n",
       "      <td>2.93</td>\n",
       "      <td>4</td>\n",
       "    </tr>\n",
       "    <tr>\n",
       "      <th>5</th>\n",
       "      <td>1</td>\n",
       "      <td>760</td>\n",
       "      <td>3.00</td>\n",
       "      <td>2</td>\n",
       "    </tr>\n",
       "    <tr>\n",
       "      <th>6</th>\n",
       "      <td>1</td>\n",
       "      <td>560</td>\n",
       "      <td>2.98</td>\n",
       "      <td>1</td>\n",
       "    </tr>\n",
       "    <tr>\n",
       "      <th>7</th>\n",
       "      <td>0</td>\n",
       "      <td>400</td>\n",
       "      <td>3.08</td>\n",
       "      <td>2</td>\n",
       "    </tr>\n",
       "    <tr>\n",
       "      <th>8</th>\n",
       "      <td>1</td>\n",
       "      <td>540</td>\n",
       "      <td>3.39</td>\n",
       "      <td>3</td>\n",
       "    </tr>\n",
       "    <tr>\n",
       "      <th>9</th>\n",
       "      <td>0</td>\n",
       "      <td>700</td>\n",
       "      <td>3.92</td>\n",
       "      <td>2</td>\n",
       "    </tr>\n",
       "    <tr>\n",
       "      <th>10</th>\n",
       "      <td>0</td>\n",
       "      <td>800</td>\n",
       "      <td>4.00</td>\n",
       "      <td>4</td>\n",
       "    </tr>\n",
       "  </tbody>\n",
       "</table>\n",
       "</div>"
      ],
      "text/plain": [
       "    admit  gre   gpa  rank\n",
       "0       0  380  3.61     3\n",
       "1       1  660  3.67     3\n",
       "2       1  800  4.00     1\n",
       "3       1  640  3.19     4\n",
       "4       0  520  2.93     4\n",
       "5       1  760  3.00     2\n",
       "6       1  560  2.98     1\n",
       "7       0  400  3.08     2\n",
       "8       1  540  3.39     3\n",
       "9       0  700  3.92     2\n",
       "10      0  800  4.00     4"
      ]
     },
     "execution_count": 44,
     "metadata": {},
     "output_type": "execute_result"
    }
   ],
   "source": [
    "df.loc[0:10]"
   ]
  },
  {
   "cell_type": "code",
   "execution_count": 45,
   "metadata": {
    "colab": {
     "base_uri": "https://localhost:8080/",
     "height": 136
    },
    "colab_type": "code",
    "executionInfo": {
     "elapsed": 696,
     "status": "ok",
     "timestamp": 1567665531533,
     "user": {
      "displayName": "이숙번",
      "photoUrl": "https://lh3.googleusercontent.com/a-/AAuE7mDbHk2NjbDQ1cl1iq9eEQIMaqbd9dF-oRVZnS-Uxg8=s64",
      "userId": "12594703987274118169"
     },
     "user_tz": -540
    },
    "id": "nvuTbuwBJSnD",
    "outputId": "fd9b716f-d8cf-4e2c-c388-9232a9188595"
   },
   "outputs": [
    {
     "data": {
      "text/html": [
       "<div>\n",
       "<style scoped>\n",
       "    .dataframe tbody tr th:only-of-type {\n",
       "        vertical-align: middle;\n",
       "    }\n",
       "\n",
       "    .dataframe tbody tr th {\n",
       "        vertical-align: top;\n",
       "    }\n",
       "\n",
       "    .dataframe thead th {\n",
       "        text-align: right;\n",
       "    }\n",
       "</style>\n",
       "<table border=\"1\" class=\"dataframe\">\n",
       "  <thead>\n",
       "    <tr style=\"text-align: right;\">\n",
       "      <th></th>\n",
       "      <th>admit</th>\n",
       "      <th>gre</th>\n",
       "    </tr>\n",
       "  </thead>\n",
       "  <tbody>\n",
       "    <tr>\n",
       "      <th>0</th>\n",
       "      <td>0</td>\n",
       "      <td>380</td>\n",
       "    </tr>\n",
       "    <tr>\n",
       "      <th>1</th>\n",
       "      <td>1</td>\n",
       "      <td>660</td>\n",
       "    </tr>\n",
       "    <tr>\n",
       "      <th>2</th>\n",
       "      <td>1</td>\n",
       "      <td>800</td>\n",
       "    </tr>\n",
       "  </tbody>\n",
       "</table>\n",
       "</div>"
      ],
      "text/plain": [
       "   admit  gre\n",
       "0      0  380\n",
       "1      1  660\n",
       "2      1  800"
      ]
     },
     "execution_count": 45,
     "metadata": {},
     "output_type": "execute_result"
    }
   ],
   "source": [
    "df.loc[[0, 1, 2], ['admit', 'gre']]"
   ]
  },
  {
   "cell_type": "code",
   "execution_count": 46,
   "metadata": {
    "colab": {
     "base_uri": "https://localhost:8080/",
     "height": 136
    },
    "colab_type": "code",
    "executionInfo": {
     "elapsed": 1046,
     "status": "ok",
     "timestamp": 1567665572271,
     "user": {
      "displayName": "이숙번",
      "photoUrl": "https://lh3.googleusercontent.com/a-/AAuE7mDbHk2NjbDQ1cl1iq9eEQIMaqbd9dF-oRVZnS-Uxg8=s64",
      "userId": "12594703987274118169"
     },
     "user_tz": -540
    },
    "id": "Rw5LprAhJaeD",
    "outputId": "c7a67fe9-f61e-4971-e9d7-da69d7d8e809"
   },
   "outputs": [
    {
     "data": {
      "text/html": [
       "<div>\n",
       "<style scoped>\n",
       "    .dataframe tbody tr th:only-of-type {\n",
       "        vertical-align: middle;\n",
       "    }\n",
       "\n",
       "    .dataframe tbody tr th {\n",
       "        vertical-align: top;\n",
       "    }\n",
       "\n",
       "    .dataframe thead th {\n",
       "        text-align: right;\n",
       "    }\n",
       "</style>\n",
       "<table border=\"1\" class=\"dataframe\">\n",
       "  <thead>\n",
       "    <tr style=\"text-align: right;\">\n",
       "      <th></th>\n",
       "      <th>admit</th>\n",
       "      <th>gre</th>\n",
       "    </tr>\n",
       "  </thead>\n",
       "  <tbody>\n",
       "    <tr>\n",
       "      <th>0</th>\n",
       "      <td>0</td>\n",
       "      <td>380</td>\n",
       "    </tr>\n",
       "    <tr>\n",
       "      <th>1</th>\n",
       "      <td>1</td>\n",
       "      <td>660</td>\n",
       "    </tr>\n",
       "    <tr>\n",
       "      <th>2</th>\n",
       "      <td>1</td>\n",
       "      <td>800</td>\n",
       "    </tr>\n",
       "  </tbody>\n",
       "</table>\n",
       "</div>"
      ],
      "text/plain": [
       "   admit  gre\n",
       "0      0  380\n",
       "1      1  660\n",
       "2      1  800"
      ]
     },
     "execution_count": 46,
     "metadata": {},
     "output_type": "execute_result"
    }
   ],
   "source": [
    "df.iloc[[0, 1, 2], [0, 1]]"
   ]
  },
  {
   "cell_type": "code",
   "execution_count": 47,
   "metadata": {
    "colab": {
     "base_uri": "https://localhost:8080/",
     "height": 195
    },
    "colab_type": "code",
    "executionInfo": {
     "elapsed": 814,
     "status": "ok",
     "timestamp": 1567665648097,
     "user": {
      "displayName": "이숙번",
      "photoUrl": "https://lh3.googleusercontent.com/a-/AAuE7mDbHk2NjbDQ1cl1iq9eEQIMaqbd9dF-oRVZnS-Uxg8=s64",
      "userId": "12594703987274118169"
     },
     "user_tz": -540
    },
    "id": "eufnv4ouJiFH",
    "outputId": "b85c63bf-28ea-4fa8-e3ba-1aaf65d212bd"
   },
   "outputs": [
    {
     "data": {
      "text/html": [
       "<div>\n",
       "<style scoped>\n",
       "    .dataframe tbody tr th:only-of-type {\n",
       "        vertical-align: middle;\n",
       "    }\n",
       "\n",
       "    .dataframe tbody tr th {\n",
       "        vertical-align: top;\n",
       "    }\n",
       "\n",
       "    .dataframe thead th {\n",
       "        text-align: right;\n",
       "    }\n",
       "</style>\n",
       "<table border=\"1\" class=\"dataframe\">\n",
       "  <thead>\n",
       "    <tr style=\"text-align: right;\">\n",
       "      <th></th>\n",
       "      <th>admit</th>\n",
       "      <th>gre</th>\n",
       "      <th>gpa</th>\n",
       "      <th>rank</th>\n",
       "    </tr>\n",
       "  </thead>\n",
       "  <tbody>\n",
       "    <tr>\n",
       "      <th>304</th>\n",
       "      <td>0</td>\n",
       "      <td>220</td>\n",
       "      <td>2.83</td>\n",
       "      <td>3</td>\n",
       "    </tr>\n",
       "    <tr>\n",
       "      <th>179</th>\n",
       "      <td>0</td>\n",
       "      <td>300</td>\n",
       "      <td>3.01</td>\n",
       "      <td>3</td>\n",
       "    </tr>\n",
       "    <tr>\n",
       "      <th>71</th>\n",
       "      <td>0</td>\n",
       "      <td>300</td>\n",
       "      <td>2.92</td>\n",
       "      <td>4</td>\n",
       "    </tr>\n",
       "    <tr>\n",
       "      <th>315</th>\n",
       "      <td>1</td>\n",
       "      <td>300</td>\n",
       "      <td>2.84</td>\n",
       "      <td>2</td>\n",
       "    </tr>\n",
       "    <tr>\n",
       "      <th>316</th>\n",
       "      <td>1</td>\n",
       "      <td>340</td>\n",
       "      <td>3.00</td>\n",
       "      <td>2</td>\n",
       "    </tr>\n",
       "  </tbody>\n",
       "</table>\n",
       "</div>"
      ],
      "text/plain": [
       "     admit  gre   gpa  rank\n",
       "304      0  220  2.83     3\n",
       "179      0  300  3.01     3\n",
       "71       0  300  2.92     4\n",
       "315      1  300  2.84     2\n",
       "316      1  340  3.00     2"
      ]
     },
     "execution_count": 47,
     "metadata": {},
     "output_type": "execute_result"
    }
   ],
   "source": [
    "sorted_df = df.sort_values(by=['gre'])\n",
    "sorted_df.head()"
   ]
  },
  {
   "cell_type": "code",
   "execution_count": 48,
   "metadata": {
    "colab": {
     "base_uri": "https://localhost:8080/",
     "height": 195
    },
    "colab_type": "code",
    "executionInfo": {
     "elapsed": 877,
     "status": "ok",
     "timestamp": 1567665694823,
     "user": {
      "displayName": "이숙번",
      "photoUrl": "https://lh3.googleusercontent.com/a-/AAuE7mDbHk2NjbDQ1cl1iq9eEQIMaqbd9dF-oRVZnS-Uxg8=s64",
      "userId": "12594703987274118169"
     },
     "user_tz": -540
    },
    "id": "thPXI5CHJy9W",
    "outputId": "1d0d8b24-050f-41ed-be19-8d5f8d78f1c7"
   },
   "outputs": [
    {
     "data": {
      "text/html": [
       "<div>\n",
       "<style scoped>\n",
       "    .dataframe tbody tr th:only-of-type {\n",
       "        vertical-align: middle;\n",
       "    }\n",
       "\n",
       "    .dataframe tbody tr th {\n",
       "        vertical-align: top;\n",
       "    }\n",
       "\n",
       "    .dataframe thead th {\n",
       "        text-align: right;\n",
       "    }\n",
       "</style>\n",
       "<table border=\"1\" class=\"dataframe\">\n",
       "  <thead>\n",
       "    <tr style=\"text-align: right;\">\n",
       "      <th></th>\n",
       "      <th>admit</th>\n",
       "      <th>gre</th>\n",
       "      <th>gpa</th>\n",
       "      <th>rank</th>\n",
       "    </tr>\n",
       "  </thead>\n",
       "  <tbody>\n",
       "    <tr>\n",
       "      <th>304</th>\n",
       "      <td>0</td>\n",
       "      <td>220</td>\n",
       "      <td>2.83</td>\n",
       "      <td>3</td>\n",
       "    </tr>\n",
       "    <tr>\n",
       "      <th>179</th>\n",
       "      <td>0</td>\n",
       "      <td>300</td>\n",
       "      <td>3.01</td>\n",
       "      <td>3</td>\n",
       "    </tr>\n",
       "    <tr>\n",
       "      <th>71</th>\n",
       "      <td>0</td>\n",
       "      <td>300</td>\n",
       "      <td>2.92</td>\n",
       "      <td>4</td>\n",
       "    </tr>\n",
       "    <tr>\n",
       "      <th>315</th>\n",
       "      <td>1</td>\n",
       "      <td>300</td>\n",
       "      <td>2.84</td>\n",
       "      <td>2</td>\n",
       "    </tr>\n",
       "    <tr>\n",
       "      <th>316</th>\n",
       "      <td>1</td>\n",
       "      <td>340</td>\n",
       "      <td>3.00</td>\n",
       "      <td>2</td>\n",
       "    </tr>\n",
       "  </tbody>\n",
       "</table>\n",
       "</div>"
      ],
      "text/plain": [
       "     admit  gre   gpa  rank\n",
       "304      0  220  2.83     3\n",
       "179      0  300  3.01     3\n",
       "71       0  300  2.92     4\n",
       "315      1  300  2.84     2\n",
       "316      1  340  3.00     2"
      ]
     },
     "execution_count": 48,
     "metadata": {},
     "output_type": "execute_result"
    }
   ],
   "source": [
    "sorted_df.iloc[0:5]"
   ]
  },
  {
   "cell_type": "code",
   "execution_count": 49,
   "metadata": {
    "colab": {
     "base_uri": "https://localhost:8080/",
     "height": 225
    },
    "colab_type": "code",
    "executionInfo": {
     "elapsed": 1435,
     "status": "ok",
     "timestamp": 1567666323649,
     "user": {
      "displayName": "이숙번",
      "photoUrl": "https://lh3.googleusercontent.com/a-/AAuE7mDbHk2NjbDQ1cl1iq9eEQIMaqbd9dF-oRVZnS-Uxg8=s64",
      "userId": "12594703987274118169"
     },
     "user_tz": -540
    },
    "id": "XlXDGK9YKBG2",
    "outputId": "0834b3b5-6d76-4a8a-eee1-fdbd58d15bd6"
   },
   "outputs": [
    {
     "data": {
      "text/html": [
       "<div>\n",
       "<style scoped>\n",
       "    .dataframe tbody tr th:only-of-type {\n",
       "        vertical-align: middle;\n",
       "    }\n",
       "\n",
       "    .dataframe tbody tr th {\n",
       "        vertical-align: top;\n",
       "    }\n",
       "\n",
       "    .dataframe thead th {\n",
       "        text-align: right;\n",
       "    }\n",
       "</style>\n",
       "<table border=\"1\" class=\"dataframe\">\n",
       "  <thead>\n",
       "    <tr style=\"text-align: right;\">\n",
       "      <th></th>\n",
       "      <th>admit</th>\n",
       "      <th>gre</th>\n",
       "      <th>gpa</th>\n",
       "      <th>rank</th>\n",
       "    </tr>\n",
       "  </thead>\n",
       "  <tbody>\n",
       "    <tr>\n",
       "      <th>0</th>\n",
       "      <td>0</td>\n",
       "      <td>380</td>\n",
       "      <td>3.61</td>\n",
       "      <td>3</td>\n",
       "    </tr>\n",
       "    <tr>\n",
       "      <th>1</th>\n",
       "      <td>1</td>\n",
       "      <td>660</td>\n",
       "      <td>3.67</td>\n",
       "      <td>3</td>\n",
       "    </tr>\n",
       "    <tr>\n",
       "      <th>2</th>\n",
       "      <td>1</td>\n",
       "      <td>800</td>\n",
       "      <td>4.00</td>\n",
       "      <td>1</td>\n",
       "    </tr>\n",
       "    <tr>\n",
       "      <th>3</th>\n",
       "      <td>1</td>\n",
       "      <td>640</td>\n",
       "      <td>3.19</td>\n",
       "      <td>4</td>\n",
       "    </tr>\n",
       "    <tr>\n",
       "      <th>4</th>\n",
       "      <td>0</td>\n",
       "      <td>520</td>\n",
       "      <td>2.93</td>\n",
       "      <td>4</td>\n",
       "    </tr>\n",
       "    <tr>\n",
       "      <th>5</th>\n",
       "      <td>1</td>\n",
       "      <td>760</td>\n",
       "      <td>3.00</td>\n",
       "      <td>2</td>\n",
       "    </tr>\n",
       "  </tbody>\n",
       "</table>\n",
       "</div>"
      ],
      "text/plain": [
       "   admit  gre   gpa  rank\n",
       "0      0  380  3.61     3\n",
       "1      1  660  3.67     3\n",
       "2      1  800  4.00     1\n",
       "3      1  640  3.19     4\n",
       "4      0  520  2.93     4\n",
       "5      1  760  3.00     2"
      ]
     },
     "execution_count": 49,
     "metadata": {},
     "output_type": "execute_result"
    }
   ],
   "source": [
    "sorted_df.loc[[0, 1, 2, 3, 4, 5]]"
   ]
  },
  {
   "cell_type": "code",
   "execution_count": 50,
   "metadata": {
    "colab": {
     "base_uri": "https://localhost:8080/",
     "height": 195
    },
    "colab_type": "code",
    "executionInfo": {
     "elapsed": 971,
     "status": "ok",
     "timestamp": 1567666725057,
     "user": {
      "displayName": "이숙번",
      "photoUrl": "https://lh3.googleusercontent.com/a-/AAuE7mDbHk2NjbDQ1cl1iq9eEQIMaqbd9dF-oRVZnS-Uxg8=s64",
      "userId": "12594703987274118169"
     },
     "user_tz": -540
    },
    "id": "d0nAiUcJKFJ4",
    "outputId": "9f4e00fc-4d12-415f-a4af-cd91a4488c65"
   },
   "outputs": [
    {
     "data": {
      "text/html": [
       "<div>\n",
       "<style scoped>\n",
       "    .dataframe tbody tr th:only-of-type {\n",
       "        vertical-align: middle;\n",
       "    }\n",
       "\n",
       "    .dataframe tbody tr th {\n",
       "        vertical-align: top;\n",
       "    }\n",
       "\n",
       "    .dataframe thead th {\n",
       "        text-align: right;\n",
       "    }\n",
       "</style>\n",
       "<table border=\"1\" class=\"dataframe\">\n",
       "  <thead>\n",
       "    <tr style=\"text-align: right;\">\n",
       "      <th></th>\n",
       "      <th>admit</th>\n",
       "      <th>gre</th>\n",
       "      <th>gpa</th>\n",
       "      <th>rank</th>\n",
       "    </tr>\n",
       "  </thead>\n",
       "  <tbody>\n",
       "    <tr>\n",
       "      <th>0</th>\n",
       "      <td>0</td>\n",
       "      <td>380</td>\n",
       "      <td>3.61</td>\n",
       "      <td>3</td>\n",
       "    </tr>\n",
       "    <tr>\n",
       "      <th>1</th>\n",
       "      <td>1</td>\n",
       "      <td>660</td>\n",
       "      <td>3.67</td>\n",
       "      <td>3</td>\n",
       "    </tr>\n",
       "    <tr>\n",
       "      <th>8</th>\n",
       "      <td>1</td>\n",
       "      <td>540</td>\n",
       "      <td>3.39</td>\n",
       "      <td>3</td>\n",
       "    </tr>\n",
       "    <tr>\n",
       "      <th>15</th>\n",
       "      <td>0</td>\n",
       "      <td>480</td>\n",
       "      <td>3.44</td>\n",
       "      <td>3</td>\n",
       "    </tr>\n",
       "    <tr>\n",
       "      <th>17</th>\n",
       "      <td>0</td>\n",
       "      <td>360</td>\n",
       "      <td>2.56</td>\n",
       "      <td>3</td>\n",
       "    </tr>\n",
       "  </tbody>\n",
       "</table>\n",
       "</div>"
      ],
      "text/plain": [
       "    admit  gre   gpa  rank\n",
       "0       0  380  3.61     3\n",
       "1       1  660  3.67     3\n",
       "8       1  540  3.39     3\n",
       "15      0  480  3.44     3\n",
       "17      0  360  2.56     3"
      ]
     },
     "execution_count": 50,
     "metadata": {},
     "output_type": "execute_result"
    }
   ],
   "source": [
    "filtered_df = df[df['rank'] == 3]\n",
    "filtered_df.head()"
   ]
  },
  {
   "cell_type": "code",
   "execution_count": 51,
   "metadata": {
    "colab": {
     "base_uri": "https://localhost:8080/",
     "height": 195
    },
    "colab_type": "code",
    "executionInfo": {
     "elapsed": 2038,
     "status": "ok",
     "timestamp": 1567666874209,
     "user": {
      "displayName": "이숙번",
      "photoUrl": "https://lh3.googleusercontent.com/a-/AAuE7mDbHk2NjbDQ1cl1iq9eEQIMaqbd9dF-oRVZnS-Uxg8=s64",
      "userId": "12594703987274118169"
     },
     "user_tz": -540
    },
    "id": "GorxZrAoNr2J",
    "outputId": "cbce24bd-0320-4fc4-de89-01df0a75bc91"
   },
   "outputs": [
    {
     "data": {
      "text/html": [
       "<div>\n",
       "<style scoped>\n",
       "    .dataframe tbody tr th:only-of-type {\n",
       "        vertical-align: middle;\n",
       "    }\n",
       "\n",
       "    .dataframe tbody tr th {\n",
       "        vertical-align: top;\n",
       "    }\n",
       "\n",
       "    .dataframe thead th {\n",
       "        text-align: right;\n",
       "    }\n",
       "</style>\n",
       "<table border=\"1\" class=\"dataframe\">\n",
       "  <thead>\n",
       "    <tr style=\"text-align: right;\">\n",
       "      <th></th>\n",
       "      <th>admit</th>\n",
       "      <th>gre</th>\n",
       "      <th>gpa</th>\n",
       "      <th>rank</th>\n",
       "    </tr>\n",
       "  </thead>\n",
       "  <tbody>\n",
       "    <tr>\n",
       "      <th>0</th>\n",
       "      <td>0</td>\n",
       "      <td>380</td>\n",
       "      <td>3.61</td>\n",
       "      <td>3</td>\n",
       "    </tr>\n",
       "    <tr>\n",
       "      <th>1</th>\n",
       "      <td>1</td>\n",
       "      <td>660</td>\n",
       "      <td>3.67</td>\n",
       "      <td>3</td>\n",
       "    </tr>\n",
       "    <tr>\n",
       "      <th>5</th>\n",
       "      <td>1</td>\n",
       "      <td>760</td>\n",
       "      <td>3.00</td>\n",
       "      <td>2</td>\n",
       "    </tr>\n",
       "    <tr>\n",
       "      <th>7</th>\n",
       "      <td>0</td>\n",
       "      <td>400</td>\n",
       "      <td>3.08</td>\n",
       "      <td>2</td>\n",
       "    </tr>\n",
       "    <tr>\n",
       "      <th>8</th>\n",
       "      <td>1</td>\n",
       "      <td>540</td>\n",
       "      <td>3.39</td>\n",
       "      <td>3</td>\n",
       "    </tr>\n",
       "  </tbody>\n",
       "</table>\n",
       "</div>"
      ],
      "text/plain": [
       "   admit  gre   gpa  rank\n",
       "0      0  380  3.61     3\n",
       "1      1  660  3.67     3\n",
       "5      1  760  3.00     2\n",
       "7      0  400  3.08     2\n",
       "8      1  540  3.39     3"
      ]
     },
     "execution_count": 51,
     "metadata": {},
     "output_type": "execute_result"
    }
   ],
   "source": [
    "filtered_df = df[df['rank'].isin([2, 3])]\n",
    "filtered_df.head()"
   ]
  },
  {
   "cell_type": "code",
   "execution_count": 52,
   "metadata": {
    "colab": {
     "base_uri": "https://localhost:8080/",
     "height": 195
    },
    "colab_type": "code",
    "executionInfo": {
     "elapsed": 812,
     "status": "ok",
     "timestamp": 1567667254179,
     "user": {
      "displayName": "이숙번",
      "photoUrl": "https://lh3.googleusercontent.com/a-/AAuE7mDbHk2NjbDQ1cl1iq9eEQIMaqbd9dF-oRVZnS-Uxg8=s64",
      "userId": "12594703987274118169"
     },
     "user_tz": -540
    },
    "id": "D3MKsS9FORGg",
    "outputId": "372b706f-41f2-40eb-9522-bb7620e95d7d"
   },
   "outputs": [
    {
     "data": {
      "text/html": [
       "<div>\n",
       "<style scoped>\n",
       "    .dataframe tbody tr th:only-of-type {\n",
       "        vertical-align: middle;\n",
       "    }\n",
       "\n",
       "    .dataframe tbody tr th {\n",
       "        vertical-align: top;\n",
       "    }\n",
       "\n",
       "    .dataframe thead th {\n",
       "        text-align: right;\n",
       "    }\n",
       "</style>\n",
       "<table border=\"1\" class=\"dataframe\">\n",
       "  <thead>\n",
       "    <tr style=\"text-align: right;\">\n",
       "      <th></th>\n",
       "      <th>1</th>\n",
       "      <th>2</th>\n",
       "      <th>3</th>\n",
       "      <th>4</th>\n",
       "    </tr>\n",
       "  </thead>\n",
       "  <tbody>\n",
       "    <tr>\n",
       "      <th>0</th>\n",
       "      <td>0</td>\n",
       "      <td>0</td>\n",
       "      <td>1</td>\n",
       "      <td>0</td>\n",
       "    </tr>\n",
       "    <tr>\n",
       "      <th>1</th>\n",
       "      <td>0</td>\n",
       "      <td>0</td>\n",
       "      <td>1</td>\n",
       "      <td>0</td>\n",
       "    </tr>\n",
       "    <tr>\n",
       "      <th>2</th>\n",
       "      <td>1</td>\n",
       "      <td>0</td>\n",
       "      <td>0</td>\n",
       "      <td>0</td>\n",
       "    </tr>\n",
       "    <tr>\n",
       "      <th>3</th>\n",
       "      <td>0</td>\n",
       "      <td>0</td>\n",
       "      <td>0</td>\n",
       "      <td>1</td>\n",
       "    </tr>\n",
       "    <tr>\n",
       "      <th>4</th>\n",
       "      <td>0</td>\n",
       "      <td>0</td>\n",
       "      <td>0</td>\n",
       "      <td>1</td>\n",
       "    </tr>\n",
       "  </tbody>\n",
       "</table>\n",
       "</div>"
      ],
      "text/plain": [
       "   1  2  3  4\n",
       "0  0  0  1  0\n",
       "1  0  0  1  0\n",
       "2  1  0  0  0\n",
       "3  0  0  0  1\n",
       "4  0  0  0  1"
      ]
     },
     "execution_count": 52,
     "metadata": {},
     "output_type": "execute_result"
    }
   ],
   "source": [
    "# one-hot encoding\n",
    "# dummy variables\n",
    "\n",
    "dummies = pd.get_dummies(df['rank'])\n",
    "dummies.head()"
   ]
  },
  {
   "cell_type": "code",
   "execution_count": 53,
   "metadata": {
    "colab": {},
    "colab_type": "code",
    "id": "q98O0e7wPzC6"
   },
   "outputs": [],
   "source": [
    "# drop\n",
    "df = df.drop(['rank'], axis=1)"
   ]
  },
  {
   "cell_type": "code",
   "execution_count": 54,
   "metadata": {
    "colab": {
     "base_uri": "https://localhost:8080/",
     "height": 195
    },
    "colab_type": "code",
    "executionInfo": {
     "elapsed": 780,
     "status": "ok",
     "timestamp": 1567667420549,
     "user": {
      "displayName": "이숙번",
      "photoUrl": "https://lh3.googleusercontent.com/a-/AAuE7mDbHk2NjbDQ1cl1iq9eEQIMaqbd9dF-oRVZnS-Uxg8=s64",
      "userId": "12594703987274118169"
     },
     "user_tz": -540
    },
    "id": "VG2AzAWBQNjo",
    "outputId": "8d3edcfd-ea87-4c3b-b438-873223a32c8c"
   },
   "outputs": [
    {
     "data": {
      "text/html": [
       "<div>\n",
       "<style scoped>\n",
       "    .dataframe tbody tr th:only-of-type {\n",
       "        vertical-align: middle;\n",
       "    }\n",
       "\n",
       "    .dataframe tbody tr th {\n",
       "        vertical-align: top;\n",
       "    }\n",
       "\n",
       "    .dataframe thead th {\n",
       "        text-align: right;\n",
       "    }\n",
       "</style>\n",
       "<table border=\"1\" class=\"dataframe\">\n",
       "  <thead>\n",
       "    <tr style=\"text-align: right;\">\n",
       "      <th></th>\n",
       "      <th>admit</th>\n",
       "      <th>gre</th>\n",
       "      <th>gpa</th>\n",
       "      <th>1</th>\n",
       "      <th>2</th>\n",
       "      <th>3</th>\n",
       "      <th>4</th>\n",
       "    </tr>\n",
       "  </thead>\n",
       "  <tbody>\n",
       "    <tr>\n",
       "      <th>0</th>\n",
       "      <td>0</td>\n",
       "      <td>380</td>\n",
       "      <td>3.61</td>\n",
       "      <td>0</td>\n",
       "      <td>0</td>\n",
       "      <td>1</td>\n",
       "      <td>0</td>\n",
       "    </tr>\n",
       "    <tr>\n",
       "      <th>1</th>\n",
       "      <td>1</td>\n",
       "      <td>660</td>\n",
       "      <td>3.67</td>\n",
       "      <td>0</td>\n",
       "      <td>0</td>\n",
       "      <td>1</td>\n",
       "      <td>0</td>\n",
       "    </tr>\n",
       "    <tr>\n",
       "      <th>2</th>\n",
       "      <td>1</td>\n",
       "      <td>800</td>\n",
       "      <td>4.00</td>\n",
       "      <td>1</td>\n",
       "      <td>0</td>\n",
       "      <td>0</td>\n",
       "      <td>0</td>\n",
       "    </tr>\n",
       "    <tr>\n",
       "      <th>3</th>\n",
       "      <td>1</td>\n",
       "      <td>640</td>\n",
       "      <td>3.19</td>\n",
       "      <td>0</td>\n",
       "      <td>0</td>\n",
       "      <td>0</td>\n",
       "      <td>1</td>\n",
       "    </tr>\n",
       "    <tr>\n",
       "      <th>4</th>\n",
       "      <td>0</td>\n",
       "      <td>520</td>\n",
       "      <td>2.93</td>\n",
       "      <td>0</td>\n",
       "      <td>0</td>\n",
       "      <td>0</td>\n",
       "      <td>1</td>\n",
       "    </tr>\n",
       "  </tbody>\n",
       "</table>\n",
       "</div>"
      ],
      "text/plain": [
       "   admit  gre   gpa  1  2  3  4\n",
       "0      0  380  3.61  0  0  1  0\n",
       "1      1  660  3.67  0  0  1  0\n",
       "2      1  800  4.00  1  0  0  0\n",
       "3      1  640  3.19  0  0  0  1\n",
       "4      0  520  2.93  0  0  0  1"
      ]
     },
     "execution_count": 54,
     "metadata": {},
     "output_type": "execute_result"
    }
   ],
   "source": [
    "df_processed = pd.concat([df, dummies], axis=1)\n",
    "df_processed.head()"
   ]
  },
  {
   "cell_type": "code",
   "execution_count": 55,
   "metadata": {
    "colab": {
     "base_uri": "https://localhost:8080/",
     "height": 151
    },
    "colab_type": "code",
    "executionInfo": {
     "elapsed": 1068,
     "status": "ok",
     "timestamp": 1567667890753,
     "user": {
      "displayName": "이숙번",
      "photoUrl": "https://lh3.googleusercontent.com/a-/AAuE7mDbHk2NjbDQ1cl1iq9eEQIMaqbd9dF-oRVZnS-Uxg8=s64",
      "userId": "12594703987274118169"
     },
     "user_tz": -540
    },
    "id": "L-vsPDsyQiTw",
    "outputId": "21d8baf3-e55d-4a41-d01d-4d065cd9a9fa"
   },
   "outputs": [
    {
     "name": "stdout",
     "output_type": "stream",
     "text": [
      "admit      0.00\n",
      "gre      220.00\n",
      "gpa        2.26\n",
      "1          0.00\n",
      "2          0.00\n",
      "3          0.00\n",
      "4          0.00\n",
      "dtype: float64\n"
     ]
    }
   ],
   "source": [
    "# normalize - minmax normalize\n",
    "\n",
    "mins = df_processed.min(axis=0)\n",
    "print(mins)"
   ]
  },
  {
   "cell_type": "code",
   "execution_count": 56,
   "metadata": {
    "colab": {
     "base_uri": "https://localhost:8080/",
     "height": 151
    },
    "colab_type": "code",
    "executionInfo": {
     "elapsed": 1044,
     "status": "ok",
     "timestamp": 1567667892898,
     "user": {
      "displayName": "이숙번",
      "photoUrl": "https://lh3.googleusercontent.com/a-/AAuE7mDbHk2NjbDQ1cl1iq9eEQIMaqbd9dF-oRVZnS-Uxg8=s64",
      "userId": "12594703987274118169"
     },
     "user_tz": -540
    },
    "id": "zHZrjsT2SU1e",
    "outputId": "bdb05326-72a5-440d-9b45-978ba306a629"
   },
   "outputs": [
    {
     "name": "stdout",
     "output_type": "stream",
     "text": [
      "admit      1.0\n",
      "gre      800.0\n",
      "gpa        4.0\n",
      "1          1.0\n",
      "2          1.0\n",
      "3          1.0\n",
      "4          1.0\n",
      "dtype: float64\n"
     ]
    }
   ],
   "source": [
    "maxs = df_processed.max(axis=0)\n",
    "print(maxs)"
   ]
  },
  {
   "cell_type": "code",
   "execution_count": 57,
   "metadata": {
    "colab": {
     "base_uri": "https://localhost:8080/",
     "height": 195
    },
    "colab_type": "code",
    "executionInfo": {
     "elapsed": 747,
     "status": "ok",
     "timestamp": 1567667951166,
     "user": {
      "displayName": "이숙번",
      "photoUrl": "https://lh3.googleusercontent.com/a-/AAuE7mDbHk2NjbDQ1cl1iq9eEQIMaqbd9dF-oRVZnS-Uxg8=s64",
      "userId": "12594703987274118169"
     },
     "user_tz": -540
    },
    "id": "w_4ocJpNSEtv",
    "outputId": "49b37179-7300-4948-be8d-b03761953238"
   },
   "outputs": [
    {
     "data": {
      "text/html": [
       "<div>\n",
       "<style scoped>\n",
       "    .dataframe tbody tr th:only-of-type {\n",
       "        vertical-align: middle;\n",
       "    }\n",
       "\n",
       "    .dataframe tbody tr th {\n",
       "        vertical-align: top;\n",
       "    }\n",
       "\n",
       "    .dataframe thead th {\n",
       "        text-align: right;\n",
       "    }\n",
       "</style>\n",
       "<table border=\"1\" class=\"dataframe\">\n",
       "  <thead>\n",
       "    <tr style=\"text-align: right;\">\n",
       "      <th></th>\n",
       "      <th>admit</th>\n",
       "      <th>gre</th>\n",
       "      <th>gpa</th>\n",
       "      <th>1</th>\n",
       "      <th>2</th>\n",
       "      <th>3</th>\n",
       "      <th>4</th>\n",
       "    </tr>\n",
       "  </thead>\n",
       "  <tbody>\n",
       "    <tr>\n",
       "      <th>0</th>\n",
       "      <td>0.0</td>\n",
       "      <td>0.275862</td>\n",
       "      <td>0.775862</td>\n",
       "      <td>0.0</td>\n",
       "      <td>0.0</td>\n",
       "      <td>1.0</td>\n",
       "      <td>0.0</td>\n",
       "    </tr>\n",
       "    <tr>\n",
       "      <th>1</th>\n",
       "      <td>1.0</td>\n",
       "      <td>0.758621</td>\n",
       "      <td>0.810345</td>\n",
       "      <td>0.0</td>\n",
       "      <td>0.0</td>\n",
       "      <td>1.0</td>\n",
       "      <td>0.0</td>\n",
       "    </tr>\n",
       "    <tr>\n",
       "      <th>2</th>\n",
       "      <td>1.0</td>\n",
       "      <td>1.000000</td>\n",
       "      <td>1.000000</td>\n",
       "      <td>1.0</td>\n",
       "      <td>0.0</td>\n",
       "      <td>0.0</td>\n",
       "      <td>0.0</td>\n",
       "    </tr>\n",
       "    <tr>\n",
       "      <th>3</th>\n",
       "      <td>1.0</td>\n",
       "      <td>0.724138</td>\n",
       "      <td>0.534483</td>\n",
       "      <td>0.0</td>\n",
       "      <td>0.0</td>\n",
       "      <td>0.0</td>\n",
       "      <td>1.0</td>\n",
       "    </tr>\n",
       "    <tr>\n",
       "      <th>4</th>\n",
       "      <td>0.0</td>\n",
       "      <td>0.517241</td>\n",
       "      <td>0.385057</td>\n",
       "      <td>0.0</td>\n",
       "      <td>0.0</td>\n",
       "      <td>0.0</td>\n",
       "      <td>1.0</td>\n",
       "    </tr>\n",
       "  </tbody>\n",
       "</table>\n",
       "</div>"
      ],
      "text/plain": [
       "   admit       gre       gpa    1    2    3    4\n",
       "0    0.0  0.275862  0.775862  0.0  0.0  1.0  0.0\n",
       "1    1.0  0.758621  0.810345  0.0  0.0  1.0  0.0\n",
       "2    1.0  1.000000  1.000000  1.0  0.0  0.0  0.0\n",
       "3    1.0  0.724138  0.534483  0.0  0.0  0.0  1.0\n",
       "4    0.0  0.517241  0.385057  0.0  0.0  0.0  1.0"
      ]
     },
     "execution_count": 57,
     "metadata": {},
     "output_type": "execute_result"
    }
   ],
   "source": [
    "df_02 = (df_processed - mins) / (maxs - mins)\n",
    "df_02.head()"
   ]
  },
  {
   "cell_type": "code",
   "execution_count": 58,
   "metadata": {
    "colab": {},
    "colab_type": "code",
    "id": "P69sL9X6SpLy"
   },
   "outputs": [],
   "source": [
    "# train, test\n",
    "train, test = df_02[:300], df_02[300:]"
   ]
  },
  {
   "cell_type": "code",
   "execution_count": 59,
   "metadata": {
    "colab": {},
    "colab_type": "code",
    "id": "ukZSeOSaVH6o"
   },
   "outputs": [],
   "source": [
    "train_y = train[train.columns[:1]]\n",
    "train_x = train[train.columns[1:]]"
   ]
  },
  {
   "cell_type": "code",
   "execution_count": 60,
   "metadata": {
    "colab": {
     "base_uri": "https://localhost:8080/",
     "height": 34
    },
    "colab_type": "code",
    "executionInfo": {
     "elapsed": 716,
     "status": "ok",
     "timestamp": 1567668667623,
     "user": {
      "displayName": "이숙번",
      "photoUrl": "https://lh3.googleusercontent.com/a-/AAuE7mDbHk2NjbDQ1cl1iq9eEQIMaqbd9dF-oRVZnS-Uxg8=s64",
      "userId": "12594703987274118169"
     },
     "user_tz": -540
    },
    "id": "BT896K37VV7B",
    "outputId": "094a2f98-d35a-4fa2-ec9d-2fffc38efd76"
   },
   "outputs": [
    {
     "name": "stdout",
     "output_type": "stream",
     "text": [
      "(300, 6) (300, 1)\n"
     ]
    }
   ],
   "source": [
    "print(train_x.shape, train_y.shape)"
   ]
  },
  {
   "cell_type": "code",
   "execution_count": 61,
   "metadata": {
    "colab": {},
    "colab_type": "code",
    "id": "_qUivIBoVYHC"
   },
   "outputs": [],
   "source": [
    "test_y = test[test.columns[:1]]\n",
    "test_x = test[test.columns[1:]]"
   ]
  },
  {
   "cell_type": "code",
   "execution_count": null,
   "metadata": {
    "colab": {},
    "colab_type": "code",
    "id": "bcWT2aWpab8w"
   },
   "outputs": [],
   "source": []
  },
  {
   "cell_type": "code",
   "execution_count": 62,
   "metadata": {
    "colab": {
     "base_uri": "https://localhost:8080/",
     "height": 154
    },
    "colab_type": "code",
    "executionInfo": {
     "elapsed": 701,
     "status": "ok",
     "timestamp": 1567671475048,
     "user": {
      "displayName": "이숙번",
      "photoUrl": "https://lh3.googleusercontent.com/a-/AAuE7mDbHk2NjbDQ1cl1iq9eEQIMaqbd9dF-oRVZnS-Uxg8=s64",
      "userId": "12594703987274118169"
     },
     "user_tz": -540
    },
    "id": "RSTMGK_kVkGv",
    "outputId": "604e54ae-6a1d-47ff-dffa-ad06490e87c5"
   },
   "outputs": [],
   "source": [
    "import tensorflow as tf\n",
    "# from tensorflow.keras import models\n",
    "# models.Sequential() \n",
    "\n",
    "model = tf.keras.models.Sequential()\n",
    "model.add(tf.keras.layers.Dense(1, \n",
    "                                input_shape=(6, ), \n",
    "                                activation=\"sigmoid\"))\n",
    "model.compile(optimizer=\"adam\", \n",
    "              loss=\"binary_crossentropy\", \n",
    "              metrics=['accuracy'])\n"
   ]
  },
  {
   "cell_type": "code",
   "execution_count": 0,
   "metadata": {
    "colab": {
     "base_uri": "https://localhost:8080/",
     "height": 1000
    },
    "colab_type": "code",
    "executionInfo": {
     "elapsed": 2360,
     "status": "ok",
     "timestamp": 1567671538063,
     "user": {
      "displayName": "이숙번",
      "photoUrl": "https://lh3.googleusercontent.com/a-/AAuE7mDbHk2NjbDQ1cl1iq9eEQIMaqbd9dF-oRVZnS-Uxg8=s64",
      "userId": "12594703987274118169"
     },
     "user_tz": -540
    },
    "id": "IdfeJcOggFg9",
    "outputId": "993ecafd-31c1-4e1f-fba4-c0f6fd0ac515"
   },
   "outputs": [
    {
     "name": "stdout",
     "output_type": "stream",
     "text": [
      "Epoch 1/100\n",
      "300/300 [==============================] - 0s 66us/sample - loss: 0.6126 - acc: 0.6800\n",
      "Epoch 2/100\n",
      "300/300 [==============================] - 0s 50us/sample - loss: 0.6123 - acc: 0.6800\n",
      "Epoch 3/100\n",
      "300/300 [==============================] - 0s 45us/sample - loss: 0.6119 - acc: 0.6800\n",
      "Epoch 4/100\n",
      "300/300 [==============================] - 0s 43us/sample - loss: 0.6115 - acc: 0.6800\n",
      "Epoch 5/100\n",
      "300/300 [==============================] - 0s 40us/sample - loss: 0.6111 - acc: 0.6800\n",
      "Epoch 6/100\n",
      "300/300 [==============================] - 0s 41us/sample - loss: 0.6106 - acc: 0.6767\n",
      "Epoch 7/100\n",
      "300/300 [==============================] - 0s 43us/sample - loss: 0.6104 - acc: 0.6767\n",
      "Epoch 8/100\n",
      "300/300 [==============================] - 0s 42us/sample - loss: 0.6100 - acc: 0.6733\n",
      "Epoch 9/100\n",
      "300/300 [==============================] - 0s 44us/sample - loss: 0.6096 - acc: 0.6733\n",
      "Epoch 10/100\n",
      "300/300 [==============================] - 0s 42us/sample - loss: 0.6092 - acc: 0.6733\n",
      "Epoch 11/100\n",
      "300/300 [==============================] - 0s 43us/sample - loss: 0.6089 - acc: 0.6733\n",
      "Epoch 12/100\n",
      "300/300 [==============================] - 0s 42us/sample - loss: 0.6085 - acc: 0.6733\n",
      "Epoch 13/100\n",
      "300/300 [==============================] - 0s 44us/sample - loss: 0.6081 - acc: 0.6700\n",
      "Epoch 14/100\n",
      "300/300 [==============================] - 0s 43us/sample - loss: 0.6078 - acc: 0.6667\n",
      "Epoch 15/100\n",
      "300/300 [==============================] - 0s 45us/sample - loss: 0.6075 - acc: 0.6667\n",
      "Epoch 16/100\n",
      "300/300 [==============================] - 0s 49us/sample - loss: 0.6071 - acc: 0.6667\n",
      "Epoch 17/100\n",
      "300/300 [==============================] - 0s 45us/sample - loss: 0.6068 - acc: 0.6667\n",
      "Epoch 18/100\n",
      "300/300 [==============================] - 0s 46us/sample - loss: 0.6064 - acc: 0.6667\n",
      "Epoch 19/100\n",
      "300/300 [==============================] - 0s 39us/sample - loss: 0.6061 - acc: 0.6667\n",
      "Epoch 20/100\n",
      "300/300 [==============================] - 0s 37us/sample - loss: 0.6058 - acc: 0.6667\n",
      "Epoch 21/100\n",
      "300/300 [==============================] - 0s 41us/sample - loss: 0.6055 - acc: 0.6667\n",
      "Epoch 22/100\n",
      "300/300 [==============================] - 0s 39us/sample - loss: 0.6052 - acc: 0.6667\n",
      "Epoch 23/100\n",
      "300/300 [==============================] - 0s 40us/sample - loss: 0.6049 - acc: 0.6667\n",
      "Epoch 24/100\n",
      "300/300 [==============================] - 0s 38us/sample - loss: 0.6046 - acc: 0.6667\n",
      "Epoch 25/100\n",
      "300/300 [==============================] - 0s 41us/sample - loss: 0.6043 - acc: 0.6667\n",
      "Epoch 26/100\n",
      "300/300 [==============================] - 0s 38us/sample - loss: 0.6040 - acc: 0.6667\n",
      "Epoch 27/100\n",
      "300/300 [==============================] - 0s 39us/sample - loss: 0.6037 - acc: 0.6667\n",
      "Epoch 28/100\n",
      "300/300 [==============================] - 0s 40us/sample - loss: 0.6034 - acc: 0.6667\n",
      "Epoch 29/100\n",
      "300/300 [==============================] - 0s 44us/sample - loss: 0.6031 - acc: 0.6667\n",
      "Epoch 30/100\n",
      "300/300 [==============================] - 0s 56us/sample - loss: 0.6028 - acc: 0.6667\n",
      "Epoch 31/100\n",
      "300/300 [==============================] - 0s 52us/sample - loss: 0.6025 - acc: 0.6667\n",
      "Epoch 32/100\n",
      "300/300 [==============================] - 0s 38us/sample - loss: 0.6023 - acc: 0.6667\n",
      "Epoch 33/100\n",
      "300/300 [==============================] - 0s 38us/sample - loss: 0.6020 - acc: 0.6667\n",
      "Epoch 34/100\n",
      "300/300 [==============================] - 0s 38us/sample - loss: 0.6016 - acc: 0.6667\n",
      "Epoch 35/100\n",
      "300/300 [==============================] - 0s 38us/sample - loss: 0.6014 - acc: 0.6633\n",
      "Epoch 36/100\n",
      "300/300 [==============================] - 0s 44us/sample - loss: 0.6011 - acc: 0.6633\n",
      "Epoch 37/100\n",
      "300/300 [==============================] - 0s 38us/sample - loss: 0.6008 - acc: 0.6667\n",
      "Epoch 38/100\n",
      "300/300 [==============================] - 0s 39us/sample - loss: 0.6006 - acc: 0.6667\n",
      "Epoch 39/100\n",
      "300/300 [==============================] - 0s 40us/sample - loss: 0.6004 - acc: 0.6667\n",
      "Epoch 40/100\n",
      "300/300 [==============================] - 0s 39us/sample - loss: 0.6001 - acc: 0.6667\n",
      "Epoch 41/100\n",
      "300/300 [==============================] - 0s 42us/sample - loss: 0.5999 - acc: 0.6667\n",
      "Epoch 42/100\n",
      "300/300 [==============================] - 0s 41us/sample - loss: 0.5997 - acc: 0.6667\n",
      "Epoch 43/100\n",
      "300/300 [==============================] - 0s 49us/sample - loss: 0.5993 - acc: 0.6700\n",
      "Epoch 44/100\n",
      "300/300 [==============================] - 0s 48us/sample - loss: 0.5991 - acc: 0.6667\n",
      "Epoch 45/100\n",
      "300/300 [==============================] - 0s 48us/sample - loss: 0.5989 - acc: 0.6633\n",
      "Epoch 46/100\n",
      "300/300 [==============================] - 0s 35us/sample - loss: 0.5986 - acc: 0.6633\n",
      "Epoch 47/100\n",
      "300/300 [==============================] - 0s 43us/sample - loss: 0.5985 - acc: 0.6633\n",
      "Epoch 48/100\n",
      "300/300 [==============================] - 0s 42us/sample - loss: 0.5982 - acc: 0.6633\n",
      "Epoch 49/100\n",
      "300/300 [==============================] - 0s 40us/sample - loss: 0.5979 - acc: 0.6700\n",
      "Epoch 50/100\n",
      "300/300 [==============================] - 0s 42us/sample - loss: 0.5977 - acc: 0.6700\n",
      "Epoch 51/100\n",
      "300/300 [==============================] - 0s 42us/sample - loss: 0.5975 - acc: 0.6700\n",
      "Epoch 52/100\n",
      "300/300 [==============================] - 0s 38us/sample - loss: 0.5973 - acc: 0.6733\n",
      "Epoch 53/100\n",
      "300/300 [==============================] - 0s 42us/sample - loss: 0.5970 - acc: 0.6733\n",
      "Epoch 54/100\n",
      "300/300 [==============================] - 0s 45us/sample - loss: 0.5968 - acc: 0.6733\n",
      "Epoch 55/100\n",
      "300/300 [==============================] - 0s 36us/sample - loss: 0.5967 - acc: 0.6733\n",
      "Epoch 56/100\n",
      "300/300 [==============================] - 0s 42us/sample - loss: 0.5964 - acc: 0.6733\n",
      "Epoch 57/100\n",
      "300/300 [==============================] - 0s 42us/sample - loss: 0.5962 - acc: 0.6733\n",
      "Epoch 58/100\n",
      "300/300 [==============================] - 0s 42us/sample - loss: 0.5960 - acc: 0.6733\n",
      "Epoch 59/100\n",
      "300/300 [==============================] - 0s 45us/sample - loss: 0.5958 - acc: 0.6733\n",
      "Epoch 60/100\n",
      "300/300 [==============================] - 0s 43us/sample - loss: 0.5956 - acc: 0.6767\n",
      "Epoch 61/100\n",
      "300/300 [==============================] - 0s 42us/sample - loss: 0.5954 - acc: 0.6733\n",
      "Epoch 62/100\n",
      "300/300 [==============================] - 0s 43us/sample - loss: 0.5952 - acc: 0.6733\n",
      "Epoch 63/100\n",
      "300/300 [==============================] - 0s 46us/sample - loss: 0.5950 - acc: 0.6733\n",
      "Epoch 64/100\n",
      "300/300 [==============================] - 0s 40us/sample - loss: 0.5948 - acc: 0.6767\n",
      "Epoch 65/100\n",
      "300/300 [==============================] - 0s 38us/sample - loss: 0.5946 - acc: 0.6800\n",
      "Epoch 66/100\n",
      "300/300 [==============================] - 0s 40us/sample - loss: 0.5944 - acc: 0.6867\n",
      "Epoch 67/100\n",
      "300/300 [==============================] - 0s 40us/sample - loss: 0.5942 - acc: 0.6867\n",
      "Epoch 68/100\n",
      "300/300 [==============================] - 0s 50us/sample - loss: 0.5940 - acc: 0.6833\n",
      "Epoch 69/100\n",
      "300/300 [==============================] - 0s 38us/sample - loss: 0.5938 - acc: 0.6833\n",
      "Epoch 70/100\n",
      "300/300 [==============================] - 0s 43us/sample - loss: 0.5937 - acc: 0.6833\n",
      "Epoch 71/100\n",
      "300/300 [==============================] - 0s 40us/sample - loss: 0.5935 - acc: 0.6833\n",
      "Epoch 72/100\n",
      "300/300 [==============================] - 0s 42us/sample - loss: 0.5933 - acc: 0.6833\n",
      "Epoch 73/100\n",
      "300/300 [==============================] - 0s 41us/sample - loss: 0.5931 - acc: 0.6900\n",
      "Epoch 74/100\n",
      "300/300 [==============================] - 0s 38us/sample - loss: 0.5929 - acc: 0.6900\n",
      "Epoch 75/100\n",
      "300/300 [==============================] - 0s 43us/sample - loss: 0.5927 - acc: 0.6900\n",
      "Epoch 76/100\n",
      "300/300 [==============================] - 0s 42us/sample - loss: 0.5926 - acc: 0.6900\n",
      "Epoch 77/100\n",
      "300/300 [==============================] - 0s 38us/sample - loss: 0.5923 - acc: 0.6900\n",
      "Epoch 78/100\n",
      "300/300 [==============================] - 0s 43us/sample - loss: 0.5921 - acc: 0.6933\n",
      "Epoch 79/100\n",
      "300/300 [==============================] - 0s 50us/sample - loss: 0.5919 - acc: 0.6933\n",
      "Epoch 80/100\n",
      "300/300 [==============================] - 0s 38us/sample - loss: 0.5918 - acc: 0.6933\n",
      "Epoch 81/100\n",
      "300/300 [==============================] - 0s 38us/sample - loss: 0.5916 - acc: 0.6933\n",
      "Epoch 82/100\n",
      "300/300 [==============================] - 0s 47us/sample - loss: 0.5914 - acc: 0.6967\n",
      "Epoch 83/100\n",
      "300/300 [==============================] - 0s 41us/sample - loss: 0.5913 - acc: 0.6967\n",
      "Epoch 84/100\n",
      "300/300 [==============================] - 0s 38us/sample - loss: 0.5911 - acc: 0.6967\n",
      "Epoch 85/100\n",
      "300/300 [==============================] - 0s 36us/sample - loss: 0.5910 - acc: 0.6967\n",
      "Epoch 86/100\n",
      "300/300 [==============================] - 0s 38us/sample - loss: 0.5908 - acc: 0.7000\n",
      "Epoch 87/100\n",
      "300/300 [==============================] - 0s 41us/sample - loss: 0.5907 - acc: 0.7000\n",
      "Epoch 88/100\n",
      "300/300 [==============================] - 0s 38us/sample - loss: 0.5905 - acc: 0.7000\n",
      "Epoch 89/100\n",
      "300/300 [==============================] - 0s 55us/sample - loss: 0.5903 - acc: 0.7033\n",
      "Epoch 90/100\n",
      "300/300 [==============================] - 0s 39us/sample - loss: 0.5902 - acc: 0.7033\n",
      "Epoch 91/100\n",
      "300/300 [==============================] - 0s 44us/sample - loss: 0.5900 - acc: 0.7033\n",
      "Epoch 92/100\n",
      "300/300 [==============================] - 0s 57us/sample - loss: 0.5898 - acc: 0.7033\n",
      "Epoch 93/100\n",
      "300/300 [==============================] - 0s 39us/sample - loss: 0.5897 - acc: 0.7033\n",
      "Epoch 94/100\n",
      "300/300 [==============================] - 0s 44us/sample - loss: 0.5896 - acc: 0.7033\n",
      "Epoch 95/100\n",
      "300/300 [==============================] - 0s 39us/sample - loss: 0.5894 - acc: 0.7033\n",
      "Epoch 96/100\n",
      "300/300 [==============================] - 0s 43us/sample - loss: 0.5892 - acc: 0.7033\n",
      "Epoch 97/100\n",
      "300/300 [==============================] - 0s 38us/sample - loss: 0.5891 - acc: 0.7067\n",
      "Epoch 98/100\n",
      "300/300 [==============================] - 0s 38us/sample - loss: 0.5890 - acc: 0.7067\n",
      "Epoch 99/100\n",
      "300/300 [==============================] - 0s 37us/sample - loss: 0.5888 - acc: 0.7067\n",
      "Epoch 100/100\n",
      "300/300 [==============================] - 0s 38us/sample - loss: 0.5886 - acc: 0.7067\n"
     ]
    },
    {
     "data": {
      "text/plain": [
       "<tensorflow.python.keras.callbacks.History at 0x7fc77860f240>"
      ]
     },
     "execution_count": 219,
     "metadata": {
      "tags": []
     },
     "output_type": "execute_result"
    }
   ],
   "source": [
    "model.fit(train_x, train_y, epochs=100)"
   ]
  },
  {
   "cell_type": "code",
   "execution_count": 63,
   "metadata": {
    "colab": {
     "base_uri": "https://localhost:8080/",
     "height": 118
    },
    "colab_type": "code",
    "executionInfo": {
     "elapsed": 793,
     "status": "ok",
     "timestamp": 1567671591980,
     "user": {
      "displayName": "이숙번",
      "photoUrl": "https://lh3.googleusercontent.com/a-/AAuE7mDbHk2NjbDQ1cl1iq9eEQIMaqbd9dF-oRVZnS-Uxg8=s64",
      "userId": "12594703987274118169"
     },
     "user_tz": -540
    },
    "id": "j8n_Lx9RgPRQ",
    "outputId": "0d0f22da-8a7a-46d9-bdee-76f31d89e103"
   },
   "outputs": [
    {
     "data": {
      "text/plain": [
       "[array([[-0.80145115],\n",
       "        [-0.88652945],\n",
       "        [-0.6161928 ],\n",
       "        [ 0.15451932],\n",
       "        [ 0.12798882],\n",
       "        [-0.5895453 ]], dtype=float32), array([0.], dtype=float32)]"
      ]
     },
     "execution_count": 63,
     "metadata": {},
     "output_type": "execute_result"
    }
   ],
   "source": [
    "model.get_weights()"
   ]
  },
  {
   "cell_type": "code",
   "execution_count": 0,
   "metadata": {
    "colab": {},
    "colab_type": "code",
    "id": "CoT7nWiogiCs"
   },
   "outputs": [],
   "source": []
  }
 ],
 "metadata": {
  "colab": {
   "collapsed_sections": [],
   "name": "20190905_전체 파이썬 실습 코드",
   "provenance": [
    {
     "file_id": "11o-N-vbYSwEyT9uGx2dUEAgdtET82uVE",
     "timestamp": 1567693437541
    }
   ],
   "version": "0.3.2"
  },
  "kernelspec": {
   "display_name": "Python 3",
   "language": "python",
   "name": "python3"
  },
  "language_info": {
   "codemirror_mode": {
    "name": "ipython",
    "version": 3
   },
   "file_extension": ".py",
   "mimetype": "text/x-python",
   "name": "python",
   "nbconvert_exporter": "python",
   "pygments_lexer": "ipython3",
   "version": "3.5.6"
  }
 },
 "nbformat": 4,
 "nbformat_minor": 1
}
