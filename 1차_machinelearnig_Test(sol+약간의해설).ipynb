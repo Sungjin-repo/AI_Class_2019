{
 "cells": [
  {
   "cell_type": "markdown",
   "metadata": {
    "colab_type": "text",
    "id": "71mOBrr80YS_"
   },
   "source": [
    "# Test\n",
    "\n",
    "고생 많으셨습니다.\n",
    "\n",
    "이제, 여러분이 배운 것들 중 일부를 풀어주세요.\n",
    "\n",
    "\n",
    "### 배점표\n",
    "\n",
    "1. 4지선다 5문제는 각각 4점 (총 20점)\n",
    "2. Regression에서 총 45점\n",
    "    1. Q6, Q7번은 각 5점\n",
    "    2. Q8, Q9 각 10점\n",
    "    3. Q10 은 15점\n",
    "3. Classification에서 총 35점\n",
    "    1. Q11, Q12 각 5점\n",
    "    2. Q13 10점\n",
    "    3. Q14 15점\n",
    " \n",
    "\n",
    "\n"
   ]
  },
  {
   "cell_type": "markdown",
   "metadata": {
    "colab_type": "text",
    "id": "2Qt_iJOhDaCE"
   },
   "source": [
    "# 4지선다 선택형 문제."
   ]
  },
  {
   "cell_type": "markdown",
   "metadata": {
    "colab_type": "text",
    "id": "XX1ZS9Ch1cxa"
   },
   "source": [
    "## Q1-1.\n",
    "\n",
    "선형 회귀 모델링의 결과 다음과 같은 모델을 얻었다. <br>\n",
    "\n",
    "$$ y = 4x + 200 $$\n",
    "\n",
    "$$ y : 판매량 $$\n",
    "$$ x : 온도 $$\n",
    "$$ MSE = 20 $$\n",
    "\n",
    "다음 선택지 중, **틀린 것**을 고르시오.\n",
    "\n",
    "\n",
    "1. 온도가 1도 올라가면 판매량이 4개 올라간다고 말할 수 있다.\n",
    "2. 온도와 상관 없는 기본 판매량이 200개는 있다고 말할 수 있다.\n",
    "3. **MSE = 20의 의미는 모델이 평균 +-20개 정도의 오차가 있다는 뜻이다.** \n",
    "4. 위 모델은 인풋으로써, 온도외의 변수를 고려하지는 않았다.\n",
    "\n",
    "해설 : MSE는 제곱된 겁니다. 루트를 씌워야 3번의 의미가 올바르게 됩니다."
   ]
  },
  {
   "cell_type": "markdown",
   "metadata": {
    "colab_type": "text",
    "id": "oaoO--fF90wk"
   },
   "source": [
    "## Q2.\n",
    "\n",
    "위의 회귀 모델링을 수정한 결과 다음과 같은 모델을 얻었다. <br>\n",
    "\n",
    "$$ y = 5x_1 + -2x_2 + 160 $$\n",
    "\n",
    "$$ y : 판매량 $$\n",
    "$$ x_1 : 온도 $$\n",
    "$$ x_2 : 습도 $$\n",
    "$$ R^2 = 0.55 $$\n",
    "\n",
    "다음 선택지 중, **틀린 것**을 고르시오.\n",
    "\n",
    "\n",
    "1. **온도와 습도의 상호작용을 고려한 모델이다.**\n",
    "2. 상황에 대한 설명을 위해, 선형 모델을 사용했다고 말할 수 있다.\n",
    "3. 평균으로 모델링했을 때 놓친 오차 중, 약 55%를 잡아내었다.\n",
    "4. 습도가 늘어날수록 판매량에는 안 좋은 영향을 준다고 말할 수 있다.\n",
    "\n",
    "해설 : 선형모델은, 기본적으로 상호작용을 고려하지 않습니다. 고급진 테크닉이 필요해요, 적어도 이 상황은 아닙니다."
   ]
  },
  {
   "cell_type": "markdown",
   "metadata": {
    "colab_type": "text",
    "id": "K6jl-QIx7neD"
   },
   "source": [
    "## Q3.\n",
    "\n",
    "K-최근접 이웃법을 이용하여 다음의 문제를 풀려고 한다.\n",
    "\n",
    "내일의 판매량은 몇 개 일까?<br>\n",
    "온도 : 10도, 습도 20%,  **판매량 = ?**\n",
    "\n",
    "이 데이터와 가장 가까운 데이터 3개를 쿼리해왔다.\n",
    "\n",
    "온도 | 습도 | 판매량\n",
    "--------|---------|------------\n",
    "11도| 20%|100개\n",
    "9도 | 21% | 110개\n",
    "10도 | 19% | 105개\n",
    "\n",
    "다음 선택지 중, **틀린 것**을 고르시오.\n",
    "\n",
    "1. 단순하게, 105개가 팔릴 것이라고 생각할 수 있다.\n",
    "2. k는 3이다.\n",
    "3. K-NN을 사용했다는 것은 문제를 비선형적인 구조로 풀고 싶다는 뜻이다.\n",
    "4. **k가 늘어나면 늘어날 수록 모델 정확도가 좋아질 것이다.**\n",
    " \n",
    "해설 : 적절한 k는 찾아야 하는겁니다. 사실 너무 늘어나면 평균하고 똑같아요!"
   ]
  },
  {
   "cell_type": "markdown",
   "metadata": {
    "colab_type": "text",
    "id": "qsm4X2zq9zNU"
   },
   "source": [
    "## Q4.\n",
    "\n",
    "위와 다른 상황에서 K-최근접 이웃법을 이용하여 다음의 문제를 풀려고 한다.\n",
    "\n",
    "내일의 판매량은 몇 개 일까?<br>\n",
    "온도 : 10도, 습도 20%,  **판매량 = ?**\n",
    "\n",
    "이 데이터와 가장 가까운 데이터 3개를 쿼리해왔다.\n",
    "\n",
    "온도 | 습도 | 판매량\n",
    "--------|---------|------------\n",
    "11도| 20%| 179개\n",
    "9도 | 21% | 400개\n",
    "10도 | 19% | 21개\n",
    "\n",
    "다음 선택지 중, **틀린 것**을 고르시오.\n",
    "\n",
    "1. **데이터를 봤을 때, 선형적인 구조로 문제를 풀었다면 훨신 효과적이었을 것이다.**\n",
    "2. 내일 200개 팔릴 것이라 말해볼 수는 있지만, 의사결정을 하기가 힘들다.\n",
    "3. 모든 데이터에 대해서, 가까운 데이터끼리 비슷한 판매량을 가지고 있는지 확인해봐야할 것 같다.\n",
    "4. k가 늘어나면 늘어날 수록 모델 정확도가 좋아질 것이다. <- **이거 없다고 생각하고 풀어주세요!**\n",
    " \n",
    "해설 : 온도가 1도 올라가면 판매량이 몇개 올라간다, 그런게 보이시나요? 보이시지 않을겁니다."
   ]
  },
  {
   "cell_type": "markdown",
   "metadata": {
    "colab_type": "text",
    "id": "9S6fgDnkCIuc"
   },
   "source": [
    "## Q5.\n",
    "\n",
    "분류 모델을 사용해야하는 문제에 대해서 다음 중 **틀린 것**을 고르시오.\n",
    "\n",
    "1. 선형모델을 사용한다면, 조금이라도 설명이 가능할 수 있다.\n",
    "2. **랜덤포레스트 같은 앙상블 모델을 이용하면 입력 변수들의 상대적인 중요도는 알아보기가 힘들다.**\n",
    "3. K-최근접이웃법은 분류기로도 사용할 수 있다.\n",
    "4. 민감도, 특이도 등 다양한 평가 지표를 봐야한다.\n",
    "\n",
    "해설 : tree 기반 모델들은 대부분 relative importance를 구할 수 있어요"
   ]
  },
  {
   "cell_type": "markdown",
   "metadata": {
    "colab_type": "text",
    "id": "6cNx7sEpDXrs"
   },
   "source": [
    "# 실습평가"
   ]
  },
  {
   "cell_type": "markdown",
   "metadata": {
    "colab_type": "text",
    "id": "nv6a1QDqDrY2"
   },
   "source": [
    "## Regression"
   ]
  },
  {
   "cell_type": "code",
   "execution_count": 14,
   "metadata": {
    "colab": {
     "base_uri": "https://localhost:8080/",
     "height": 204
    },
    "colab_type": "code",
    "id": "W0FdUfCTEdAO",
    "outputId": "fb113a2c-c294-47d0-ffaa-5e0200e8281c"
   },
   "outputs": [
    {
     "data": {
      "text/html": [
       "<div>\n",
       "<style scoped>\n",
       "    .dataframe tbody tr th:only-of-type {\n",
       "        vertical-align: middle;\n",
       "    }\n",
       "\n",
       "    .dataframe tbody tr th {\n",
       "        vertical-align: top;\n",
       "    }\n",
       "\n",
       "    .dataframe thead th {\n",
       "        text-align: right;\n",
       "    }\n",
       "</style>\n",
       "<table border=\"1\" class=\"dataframe\">\n",
       "  <thead>\n",
       "    <tr style=\"text-align: right;\">\n",
       "      <th></th>\n",
       "      <th>Date</th>\n",
       "      <th>Location</th>\n",
       "      <th>Lemon</th>\n",
       "      <th>Orange</th>\n",
       "      <th>Temperature</th>\n",
       "      <th>Leaflets</th>\n",
       "      <th>Price</th>\n",
       "    </tr>\n",
       "  </thead>\n",
       "  <tbody>\n",
       "    <tr>\n",
       "      <th>0</th>\n",
       "      <td>7/1/2016</td>\n",
       "      <td>Park</td>\n",
       "      <td>97</td>\n",
       "      <td>67</td>\n",
       "      <td>70</td>\n",
       "      <td>90</td>\n",
       "      <td>0.25</td>\n",
       "    </tr>\n",
       "    <tr>\n",
       "      <th>1</th>\n",
       "      <td>7/2/2016</td>\n",
       "      <td>Park</td>\n",
       "      <td>98</td>\n",
       "      <td>67</td>\n",
       "      <td>72</td>\n",
       "      <td>90</td>\n",
       "      <td>0.25</td>\n",
       "    </tr>\n",
       "    <tr>\n",
       "      <th>2</th>\n",
       "      <td>7/3/2016</td>\n",
       "      <td>Park</td>\n",
       "      <td>110</td>\n",
       "      <td>77</td>\n",
       "      <td>71</td>\n",
       "      <td>104</td>\n",
       "      <td>0.25</td>\n",
       "    </tr>\n",
       "    <tr>\n",
       "      <th>3</th>\n",
       "      <td>7/4/2016</td>\n",
       "      <td>Beach</td>\n",
       "      <td>134</td>\n",
       "      <td>99</td>\n",
       "      <td>76</td>\n",
       "      <td>98</td>\n",
       "      <td>0.25</td>\n",
       "    </tr>\n",
       "    <tr>\n",
       "      <th>4</th>\n",
       "      <td>7/5/2016</td>\n",
       "      <td>Beach</td>\n",
       "      <td>159</td>\n",
       "      <td>118</td>\n",
       "      <td>78</td>\n",
       "      <td>135</td>\n",
       "      <td>0.25</td>\n",
       "    </tr>\n",
       "  </tbody>\n",
       "</table>\n",
       "</div>"
      ],
      "text/plain": [
       "       Date Location  Lemon  Orange  Temperature  Leaflets  Price\n",
       "0  7/1/2016     Park     97      67           70        90   0.25\n",
       "1  7/2/2016     Park     98      67           72        90   0.25\n",
       "2  7/3/2016     Park    110      77           71       104   0.25\n",
       "3  7/4/2016    Beach    134      99           76        98   0.25\n",
       "4  7/5/2016    Beach    159     118           78       135   0.25"
      ]
     },
     "execution_count": 14,
     "metadata": {},
     "output_type": "execute_result"
    }
   ],
   "source": [
    "# Data Loading\n",
    "\n",
    "import pandas as pd\n",
    "\n",
    "ade = pd.read_csv('ade.csv')\n",
    "\n",
    "train_set = ade[:21]\n",
    "test_set = ade[21:]\n",
    "ade.head()"
   ]
  },
  {
   "cell_type": "markdown",
   "metadata": {
    "colab_type": "text",
    "id": "ezocLr2UFKoO"
   },
   "source": [
    "### 다음의 조건으로 단순한 선형회귀 모델링을 한 후 다음의 문제에 답변하시오.\n",
    "\n",
    "0. train_set을 이용하여 학습시킬 것\n",
    "1. 인풋 변수로는 Temperature와 Leaflets만 사용할 것.\n",
    "2. 아웃풋 변수로는 Lemon만 사용할 것"
   ]
  },
  {
   "cell_type": "code",
   "execution_count": 15,
   "metadata": {
    "colab": {},
    "colab_type": "code",
    "id": "Hq6ElL74FpGA"
   },
   "outputs": [
    {
     "data": {
      "text/plain": [
       "LinearRegression(copy_X=True, fit_intercept=True, n_jobs=None,\n",
       "         normalize=False)"
      ]
     },
     "execution_count": 15,
     "metadata": {},
     "output_type": "execute_result"
    }
   ],
   "source": [
    "from sklearn.linear_model import LinearRegression\n",
    "\n",
    "lr = LinearRegression()\n",
    "lr.fit(train_set[['Temperature', 'Leaflets']], train_set[['Lemon']] )"
   ]
  },
  {
   "cell_type": "markdown",
   "metadata": {
    "colab_type": "text",
    "id": "SgpCIjrvGDPc"
   },
   "source": [
    "모델링의 결과 $$ Lemon = a*Temperature + b*Leaflets + c $$라는 결과가 나왔을 것이다.\n",
    "\n",
    "아래의 세문제에 대하여, 소수점 이하 둘째 자리까지만 (그 아래는 절삭) 답하라\n",
    "\n",
    "$$Q6. a값은?$$\n",
    "$$Q7. b값은?$$\n",
    "$$Q8. c값은?$$\n",
    "\n"
   ]
  },
  {
   "cell_type": "code",
   "execution_count": 16,
   "metadata": {
    "colab": {
     "base_uri": "https://localhost:8080/",
     "height": 71
    },
    "colab_type": "code",
    "id": "4NhxAo11HgqE",
    "outputId": "4864bf7d-9c05-4054-ea1c-79d50f387f68"
   },
   "outputs": [
    {
     "name": "stdout",
     "output_type": "stream",
     "text": [
      "a :  1.3378036707804988\n",
      "b :  0.9129926574940256\n",
      "c :  -85.06431910474211\n"
     ]
    }
   ],
   "source": [
    "print(\"a : \", lr.coef_[0][0])\n",
    "print(\"b : \", lr.coef_[0][1])\n",
    "print(\"c : \", lr.intercept_[0])"
   ]
  },
  {
   "cell_type": "markdown",
   "metadata": {
    "colab_type": "text",
    "id": "Vlc0ncQ7H5am"
   },
   "source": [
    "**Q9. test set 위에서의, MSE를 구하여라. 소수점 이하 둘째 자리까지만(그 아래는 절삭) 답하라.**"
   ]
  },
  {
   "cell_type": "code",
   "execution_count": 17,
   "metadata": {
    "colab": {
     "base_uri": "https://localhost:8080/",
     "height": 35
    },
    "colab_type": "code",
    "id": "29BHFyQTFLTP",
    "outputId": "bfa3ae88-ac0f-419c-88d7-04a7090e8f3e"
   },
   "outputs": [
    {
     "name": "stdout",
     "output_type": "stream",
     "text": [
      "MSE : 86.19490678709467\n"
     ]
    }
   ],
   "source": [
    "import numpy as np\n",
    "from sklearn.metrics import r2_score, mean_squared_error\n",
    "\n",
    "pr = lr.predict(test_set[['Temperature', 'Leaflets']])\n",
    "mse = mean_squared_error(test_set[['Lemon']],pr)\n",
    "\n",
    "print('MSE : {}'.format(mse))"
   ]
  },
  {
   "cell_type": "markdown",
   "metadata": {
    "colab_type": "text",
    "id": "tCadoE1JIvFx"
   },
   "source": [
    "**Q10. KNN 방법으로 모델을 학습시키고, test셋 위에서의 MSE를 구하여라. 단, 소수점 이하 둘째 자리까지만(그 아래는 절삭)답하라. K는 4로 한다. **"
   ]
  },
  {
   "cell_type": "code",
   "execution_count": 18,
   "metadata": {
    "colab": {
     "base_uri": "https://localhost:8080/",
     "height": 35
    },
    "colab_type": "code",
    "id": "EWJzJhW5Iwh5",
    "outputId": "5f7a78e3-15e6-4ce1-fb48-e2597f7ce709"
   },
   "outputs": [
    {
     "name": "stdout",
     "output_type": "stream",
     "text": [
      "MSE : 137.99375\n"
     ]
    }
   ],
   "source": [
    "from sklearn.neighbors import KNeighborsRegressor\n",
    "\n",
    "kr = KNeighborsRegressor(n_neighbors = 4).fit(train_set[['Temperature', 'Leaflets']], train_set[['Lemon']] )\n",
    "pr2 = kr.predict(test_set[['Temperature', 'Leaflets']])\n",
    "mse = mean_squared_error(test_set[['Lemon']],pr2)\n",
    "\n",
    "print('MSE : {}'.format(mse))"
   ]
  },
  {
   "cell_type": "markdown",
   "metadata": {
    "colab_type": "text",
    "id": "UtNuED66KKK-"
   },
   "source": [
    "## Classification"
   ]
  },
  {
   "cell_type": "code",
   "execution_count": 19,
   "metadata": {
    "colab": {
     "base_uri": "https://localhost:8080/",
     "height": 53
    },
    "colab_type": "code",
    "id": "S7i6Pg7RKiEv",
    "outputId": "fbc4bcbd-d6e2-4a22-948a-c4f788298312"
   },
   "outputs": [
    {
     "name": "stdout",
     "output_type": "stream",
     "text": [
      "['sepal length (cm)', 'sepal width (cm)', 'petal length (cm)', 'petal width (cm)']\n",
      "['setosa' 'versicolor' 'virginica']\n"
     ]
    }
   ],
   "source": [
    "## iris data\n",
    "\n",
    "from sklearn.datasets import load_iris\n",
    "from sklearn.model_selection import train_test_split\n",
    "\n",
    "iris = load_iris()\n",
    "\n",
    "X = iris.data\n",
    "Y = iris.target\n",
    "\n",
    "x_train, x_test, y_train, y_test = train_test_split(X, Y, test_size = 0.3, random_state=2019)\n",
    "\n",
    "print(iris.feature_names)\n",
    "print(iris.target_names)"
   ]
  },
  {
   "cell_type": "markdown",
   "metadata": {
    "colab_type": "text",
    "id": "XPFB31OuLLAQ"
   },
   "source": [
    "**다음 조건하에 Decision Tree 모델링을 하고 물음에 답하여라**\n",
    "\n",
    "1. max depth 는 2로 할 것\n",
    "2. training셋 위에서 학습시킬 것"
   ]
  },
  {
   "cell_type": "markdown",
   "metadata": {
    "colab_type": "text",
    "id": "0x7ZjXzJNOfZ"
   },
   "source": [
    "**Q11. feature importance를 구했을 때, sepal length는 의사결정 나무에 상대적으로 몇 %를 기여하고 있는가?**\n",
    "\n",
    "**Q12. feature importance를 구했을 때, sepal width는 의사결정 나무에 상대적으로 몇 %를 기여하고 있는가?**\n",
    "\n",
    "**Q13. test set 위에서의 accuracy는 어떠한가? 소수점 이하 2자리까지만 작성하라. (그 아래 절삭, 백분율 사용하지 말 것)**"
   ]
  },
  {
   "cell_type": "code",
   "execution_count": 20,
   "metadata": {
    "colab": {
     "base_uri": "https://localhost:8080/",
     "height": 107
    },
    "colab_type": "code",
    "id": "0s7En_KgLcuQ",
    "outputId": "7a7ef06a-2911-4171-f944-ed9ca631ff6c"
   },
   "outputs": [
    {
     "name": "stdout",
     "output_type": "stream",
     "text": [
      "['sepal length (cm)', 'sepal width (cm)', 'petal length (cm)', 'petal width (cm)']\n",
      "[0.         0.         0.52895275 0.47104725]\n",
      "sepal length (cm)는 0.0만큼 기여.\n",
      "sepal width (cm)는 0.0만큼 기여.\n",
      "accuracy :  0.9555555555555556\n"
     ]
    }
   ],
   "source": [
    "from sklearn.tree import DecisionTreeClassifier\n",
    "tree = DecisionTreeClassifier(max_depth = 2, ).fit(x_train, y_train)\n",
    "\n",
    "print(iris.feature_names)\n",
    "print(tree.feature_importances_)\n",
    "\n",
    "print('{}는 {}만큼 기여.'.format(iris.feature_names[0], tree.feature_importances_[0]))\n",
    "print('{}는 {}만큼 기여.'.format(iris.feature_names[1], tree.feature_importances_[1]))\n",
    "\n",
    "print('accuracy : ',tree.score(x_test, y_test))"
   ]
  },
  {
   "cell_type": "markdown",
   "metadata": {
    "colab_type": "text",
    "id": "FjBU1KnvIbO6"
   },
   "source": [
    "**Q14. KNN 방법으로 모델을 학습시키고, test셋 위에서의 accuracy를 구하여라. 단, 소수점 이하 둘째 자리까지만(그 아래는 절삭)답하라. K는 4로 한다. (백분율 사용하지 말 것)**\n",
    "\n",
    "(hint : KNeighborsClassifier를 사용한다.)\n",
    "\n",
    "**해설 : 이 문제는 전부 정답처리 했습니다. 푸는 방법은 두가지가 있습니다.   **\n",
    "1. 인터넷에서 찾아서 풀기를 원했습니다. 배우지 않은 방법이 있어요. 아래 1번 방법을 참고해주세요.\n",
    "2. accuracy score를 사용하는 방법도 있어요. 배운거지만, 인터넷에서 찾을 수도 있습니다.\n",
    "3. 눈으로 봐도 됩니다. 한번 보시면, 다 똑같습니다."
   ]
  },
  {
   "cell_type": "code",
   "execution_count": 21,
   "metadata": {
    "colab": {
     "base_uri": "https://localhost:8080/",
     "height": 35
    },
    "colab_type": "code",
    "id": "2F4x1NXRO8TX",
    "outputId": "d4fba482-4dd9-4d8b-b185-98b81326424c"
   },
   "outputs": [
    {
     "name": "stdout",
     "output_type": "stream",
     "text": [
      "accuracy :  1.0\n",
      "accuracy : 1.0\n",
      "[0 0 2 1 2 0 2 0 1 2 2 2 2 1 0 1 2 1 0 2 0 2 0 1 0 0 1 2 0 0 2 0 0 2 2 0 0\n",
      " 2 0 1 0 1 0 2 1]\n",
      "[0 0 2 1 2 0 2 0 1 2 2 2 2 1 0 1 2 1 0 2 0 2 0 1 0 0 1 2 0 0 2 0 0 2 2 0 0\n",
      " 2 0 1 0 1 0 2 1]\n",
      "다 똑같죠? 정확도는 1 입니다.\n"
     ]
    }
   ],
   "source": [
    "from sklearn.neighbors import KNeighborsClassifier\n",
    "\n",
    "kc = KNeighborsClassifier(n_neighbors = 4).fit(x_train, y_train)\n",
    "\n",
    "# 1번 방법\n",
    "print('accuracy : ',kc.score(x_test, y_test))\n",
    "\n",
    "# 2번 방법\n",
    "\n",
    "from sklearn.metrics import accuracy_score\n",
    "\n",
    "pred = kc.predict(x_test)\n",
    "print('accuracy :', accuracy_score(y_test, pred))\n",
    "\n",
    "# 3번 방법\n",
    "\n",
    "print(y_test)\n",
    "print(pred)\n",
    "print('다 똑같죠? 정확도는 1 입니다.')"
   ]
  }
 ],
 "metadata": {
  "colab": {
   "collapsed_sections": [
    "2Qt_iJOhDaCE",
    "6cNx7sEpDXrs",
    "nv6a1QDqDrY2",
    "ezocLr2UFKoO",
    "UtNuED66KKK-"
   ],
   "name": "Test(sol).ipynb",
   "provenance": [],
   "version": "0.3.2"
  },
  "kernelspec": {
   "display_name": "Python 3",
   "language": "python",
   "name": "python3"
  },
  "language_info": {
   "codemirror_mode": {
    "name": "ipython",
    "version": 3
   },
   "file_extension": ".py",
   "mimetype": "text/x-python",
   "name": "python",
   "nbconvert_exporter": "python",
   "pygments_lexer": "ipython3",
   "version": "3.7.1"
  }
 },
 "nbformat": 4,
 "nbformat_minor": 1
}
