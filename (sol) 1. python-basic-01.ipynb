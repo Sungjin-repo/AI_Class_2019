{
 "cells": [
  {
   "cell_type": "markdown",
   "metadata": {
    "colab_type": "text",
    "id": "CP_JnRIBR8WH"
   },
   "source": [
    "# 01. Python Basic 01\n",
    "\n",
    "<p style=\"text-align: right;\">\n",
    "blackdew7@gmail.com<br>\n",
    "</p>\n",
    "\n",
    "### 파이썬 실습시간 그 첫번째!\n",
    "전체 교육 과정에서 파이썬을 사용합니다. \n",
    "\n",
    "#### 실습목표\n",
    "1. 데이터 타입을 알고 있다. - 숫자, 문자, boolean\n",
    "2. 제어문을 사용할 수 있고, 제어문이 사용된 소스코드를 이해할 수 있다. \n",
    "3. 리스트(List)를 이해하고, 리스트가 사용된 소스코드를 이해할 수 있다. 리스트를 사용할 수 있다.\n",
    "5. 함수(Function)가 무엇인지 알고, 함수가 사용된 소스코드를 이해할 수 있다. 간단한 함수를 작성할 수 있다. "
   ]
  },
  {
   "cell_type": "markdown",
   "metadata": {
    "colab_type": "text",
    "id": "eU_HS2zgaXxX"
   },
   "source": [
    "## Jupyter Notebook 단축키\n",
    "* Cell 실행: Control + Enter\n",
    "* Cell 실행 + 다음셀 이동: Shift + Enter\n",
    "* Code Completion: Tab\n",
    "* Tooltip 보기: Shift + Tab\n",
    "* 셀 생성 & 삭제: A (셀을 선택된 셀 위에 생성), B (셀을 선택된 셀 아래에 생성), D (선택된 셀을 삭제)\n",
    "* 줄 번호 보기: L\n",
    "* Command Palette 보기: Shift + Control/Command + P\n",
    "* 단축키 모음 보기: H"
   ]
  },
  {
   "cell_type": "markdown",
   "metadata": {
    "colab_type": "text",
    "id": "qjP4FgIAaGIK"
   },
   "source": [
    "# 01 파이썬 기초 문법\n",
    "\n",
    "1. hello python\n",
    "2. 변수\n",
    "3. Type & Operator - Number\n",
    "4. Type & Operator - String\n",
    "5. Container - List\n",
    "6. Slicing"
   ]
  },
  {
   "cell_type": "markdown",
   "metadata": {
    "colab_type": "text",
    "id": "zEW3-ag6aLtU"
   },
   "source": [
    "## 1. Hello Python + 도움말\n",
    "\n",
    "* 주의 \n",
    " - 2.0 버전에서는 '()' 괄호가 없는 형태로 print문을 처리할 수 있었습니다. \n",
    " - 3.0 버전에서 python 코드를 들고와서 돌렸는데 에러가 날 때에는 print 처리가 어떻게 되어있는지 확인해 봐야해요. \n"
   ]
  },
  {
   "cell_type": "code",
   "execution_count": 6,
   "metadata": {
    "colab": {},
    "colab_type": "code",
    "id": "TdHnJ49PaRX-"
   },
   "outputs": [
    {
     "name": "stdout",
     "output_type": "stream",
     "text": [
      "Hello, Python!!\n"
     ]
    }
   ],
   "source": [
    "# hello, python\n",
    "print(\"Hello, Python!!\")\n"
   ]
  },
  {
   "cell_type": "code",
   "execution_count": 7,
   "metadata": {
    "colab": {},
    "colab_type": "code",
    "id": "0m2gPAz1aejR"
   },
   "outputs": [
    {
     "name": "stdout",
     "output_type": "stream",
     "text": [
      "Help on built-in function print in module builtins:\n",
      "\n",
      "print(...)\n",
      "    print(value, ..., sep=' ', end='\\n', file=sys.stdout, flush=False)\n",
      "    \n",
      "    Prints the values to a stream, or to sys.stdout by default.\n",
      "    Optional keyword arguments:\n",
      "    file:  a file-like object (stream); defaults to the current sys.stdout.\n",
      "    sep:   string inserted between values, default a space.\n",
      "    end:   string appended after the last value, default a newline.\n",
      "    flush: whether to forcibly flush the stream.\n",
      "\n"
     ]
    }
   ],
   "source": [
    "# 도움말\n",
    "# help/? 이용\n",
    "\n",
    "help(print)"
   ]
  },
  {
   "cell_type": "code",
   "execution_count": 8,
   "metadata": {
    "colab": {},
    "colab_type": "code",
    "id": "M8AWpuC5bPDo"
   },
   "outputs": [
    {
     "name": "stdout",
     "output_type": "stream",
     "text": [
      "메뉴\n",
      "진주물냉면 8,500원\n",
      "진주비빔냉면 8,000원\n",
      "남해멸치쌈밥 10,000원\n"
     ]
    }
   ],
   "source": [
    "print(\"메뉴\")\n",
    "print(\"진주물냉면 8,500원\\n진주비빔냉면 8,000원\\n남해멸치쌈밥 10,000원\")\n"
   ]
  },
  {
   "cell_type": "markdown",
   "metadata": {
    "colab_type": "text",
    "id": "25OMX1ppVmsh"
   },
   "source": [
    "## 2. 변수\n",
    "\n",
    "- 대소문자 구분함.\n",
    "- 알파벳 + 숫자 및 언더바, 한글도 가능\n",
    "- 변수 이름으로 변수에 담긴 값을 소환\n",
    "- 다중 할당"
   ]
  },
  {
   "cell_type": "code",
   "execution_count": 1,
   "metadata": {
    "colab": {},
    "colab_type": "code",
    "id": "keC9DdI5VgLI"
   },
   "outputs": [
    {
     "name": "stdout",
     "output_type": "stream",
     "text": [
      "메뉴\n",
      "진주물냉면 8000원\n",
      "진주비빔냉면 8500원\n",
      "\n",
      "메뉴\n"
     ]
    }
   ],
   "source": [
    "# 변수 할당\n",
    "\n",
    "메뉴1_이름 = '진주물냉면'\n",
    "메뉴1_가격 = 8000\n",
    "\n",
    "메뉴2_이름 = '진주비빔냉면'\n",
    "메뉴2_가격 = 8500\n",
    "\n",
    "\n",
    "# 출력\n",
    "\n",
    "print(\"메뉴\")\n",
    "print(\"{0} {1}원\\n{2} {3}원\\n\".format(메뉴1_이름, 메뉴1_가격, 메뉴2_이름, 메뉴2_가격))\n",
    "\n",
    "print(\"메뉴\")\n"
   ]
  },
  {
   "cell_type": "markdown",
   "metadata": {
    "colab_type": "text",
    "id": "Onii95sUoo3c"
   },
   "source": [
    "## 3. Type & Operator - Number\n",
    "\n",
    "- number: int, float, complex\n",
    "- 산술 연산자 \n",
    " - +, -, *, /\n",
    "\n",
    " - %\n",
    "\n",
    " - **\n",
    "\n",
    " - //\n",
    "\n",
    " - +=, -=, *=, /=\n",
    "\n",
    " - 위의 연산자 중 모르는 것을 구글 검색하고 예제를 만들어 보자."
   ]
  },
  {
   "cell_type": "code",
   "execution_count": 6,
   "metadata": {
    "colab": {},
    "colab_type": "code",
    "id": "jH-_UeGyo38y"
   },
   "outputs": [
    {
     "name": "stdout",
     "output_type": "stream",
     "text": [
      "주문\n",
      "24500\n",
      "20000\n"
     ]
    }
   ],
   "source": [
    "# 주문이 들어왔다. \n",
    "# 주문1 - 물냉 2, 비냉 1\n",
    "# 주문2 - 멸치쌈밥 2 \n",
    "\n",
    "주문1 = 메뉴1_가격 * 2 + 메뉴2_가격\n",
    "주문2 = 메뉴3_가격 * 2\n",
    "\n",
    "# 출력\n",
    "print(\"주문\")\n",
    "print(주문1)\n",
    "print(주문2)"
   ]
  },
  {
   "cell_type": "code",
   "execution_count": 12,
   "metadata": {
    "colab": {},
    "colab_type": "code",
    "id": "OoMoIoo5pIiV"
   },
   "outputs": [
    {
     "name": "stdout",
     "output_type": "stream",
     "text": [
      "<class 'int'>\n",
      "<class 'float'>\n",
      "<class 'complex'>\n"
     ]
    }
   ],
   "source": [
    "# int\n",
    "print(type(10))\n",
    "\n",
    "# float\n",
    "print(type(10.0))\n",
    "\n",
    "# complex\n",
    "print(type(10 + 10j))"
   ]
  },
  {
   "cell_type": "markdown",
   "metadata": {
    "colab_type": "text",
    "id": "iAIFw20Dqg1u"
   },
   "source": [
    "## 4. Type & Operator - String\n",
    "\n",
    "- string\n",
    "- print 활용\n",
    "- string slicing"
   ]
  },
  {
   "cell_type": "code",
   "execution_count": 7,
   "metadata": {
    "colab": {},
    "colab_type": "code",
    "id": "xv4LclUwqfeL"
   },
   "outputs": [],
   "source": [
    "# 문자열\n",
    "# 파이썬은 문자열에 대해 상당한 편의성을 지원합니다.\n",
    "\n",
    "메뉴1_이름 = '진주물냉면'\n",
    "메뉴1_가격 = 8000\n",
    "\n",
    "메뉴2_이름 = \"진주비빔냉면\"\n",
    "메뉴2_가격 = 8500\n",
    "\n",
    "메뉴3_이름, 메뉴3_가격 = '남해멸치쌈밥', 10000\n"
   ]
  },
  {
   "cell_type": "code",
   "execution_count": 14,
   "metadata": {
    "colab": {},
    "colab_type": "code",
    "id": "NZ1suTR6uu2J"
   },
   "outputs": [
    {
     "name": "stdout",
     "output_type": "stream",
     "text": [
      "메뉴\n",
      "진주물냉면 8,500원\n",
      "진주비빔냉면 8,000원\n",
      "남해멸치쌈밥 10,000원\n",
      "메뉴\n",
      "진주물냉면 8,500원\n",
      "진주비빔냉면 8,000원\n",
      "남해멸치쌈밥 10,000원\n"
     ]
    }
   ],
   "source": [
    "# 특수문자 \\n \n",
    "# 메뉴판을 만들자\n",
    "\n",
    "메뉴 = \"메뉴\\n진주물냉면 8,500원\\n진주비빔냉면 8,000원\\n남해멸치쌈밥 10,000원\"\n",
    "print(메뉴)\n",
    "\n",
    "# \"\"\", ''' multiline 문자열 생성\n",
    "메뉴 = \"\"\"메뉴\n",
    "진주물냉면 8,500원\n",
    "진주비빔냉면 8,000원\n",
    "남해멸치쌈밥 10,000원\"\"\"\n",
    "print(메뉴)"
   ]
  },
  {
   "cell_type": "code",
   "execution_count": 9,
   "metadata": {
    "colab": {},
    "colab_type": "code",
    "id": "UbOsQZxwigZs"
   },
   "outputs": [
    {
     "name": "stdout",
     "output_type": "stream",
     "text": [
      "진주물냉면 - 8,000원\n",
      "진주비빔냉면 - 8,500원\n",
      "진주물냉면 - 8000원\n",
      "진주비빔냉면 - 8500원\n"
     ]
    }
   ],
   "source": [
    "# 문자열에 변수 출력 #02 - format\n",
    "주문 = \"{0} - {1:,}원\"\n",
    "\n",
    "print(주문.format(메뉴1_이름, 메뉴1_가격))\n",
    "print(주문.format(메뉴2_이름, 메뉴2_가격))\n",
    "\n",
    "# 문자열에 변수 출력 #03 - %\n",
    "주문 = \"%s - %d원\"\n",
    "\n",
    "print(주문 % (메뉴1_이름, 메뉴1_가격))\n",
    "print(주문 % (메뉴2_이름, 메뉴2_가격))"
   ]
  },
  {
   "cell_type": "markdown",
   "metadata": {
    "colab_type": "text",
    "id": "XlQqEsDHvzlZ"
   },
   "source": [
    "## 5. Container - List\n",
    "\n",
    "- list \n",
    "- add & remove"
   ]
  },
  {
   "cell_type": "code",
   "execution_count": 13,
   "metadata": {
    "colab": {},
    "colab_type": "code",
    "id": "qYN8HRHRZ12U"
   },
   "outputs": [
    {
     "name": "stdout",
     "output_type": "stream",
     "text": [
      "<class 'list'>\n"
     ]
    }
   ],
   "source": [
    "# 리스트 생성\n",
    "메뉴1 = [\"진주물냉면\", 8000]\n",
    "메뉴2 = [\"진주비빔냉면\", 8500]\n",
    "메뉴3 = [\"남해멸치쌈밥\", 10000]\n",
    "메뉴4 = [\"만두\", 5000]\n",
    "\n",
    "print(type(메뉴1))"
   ]
  },
  {
   "cell_type": "code",
   "execution_count": 14,
   "metadata": {
    "colab": {},
    "colab_type": "code",
    "id": "dR5er7hea9FG"
   },
   "outputs": [
    {
     "name": "stdout",
     "output_type": "stream",
     "text": [
      "진주물냉면\n",
      "8000\n"
     ]
    }
   ],
   "source": [
    "# 리스트 요소 조회\n",
    "print(메뉴1[0])\n",
    "print(메뉴1[1])\n"
   ]
  },
  {
   "cell_type": "code",
   "execution_count": 15,
   "metadata": {
    "colab": {},
    "colab_type": "code",
    "id": "iEQaYU2pweoo"
   },
   "outputs": [
    {
     "name": "stdout",
     "output_type": "stream",
     "text": [
      "[['진주물냉면', 8000], ['진주비빔냉면', 8500], ['남해멸치쌈밥', 10000], ['만두', 5000]]\n"
     ]
    }
   ],
   "source": [
    "# 2차원 리스트\n",
    "메뉴목록 = [메뉴1, 메뉴2, 메뉴3 , 메뉴4]\n",
    "print(메뉴목록)"
   ]
  },
  {
   "cell_type": "code",
   "execution_count": 16,
   "metadata": {
    "colab": {},
    "colab_type": "code",
    "id": "rsJYqR8fwnta"
   },
   "outputs": [
    {
     "name": "stdout",
     "output_type": "stream",
     "text": [
      "['진주물냉면', 8000] ['진주비빔냉면', 8500]\n",
      "진주물냉면 8000\n"
     ]
    }
   ],
   "source": [
    "# 2차원 리스트 요소 조회\n",
    "print(메뉴목록[0], 메뉴목록[1])\n",
    "print(메뉴목록[0][0], 메뉴목록[0][1])"
   ]
  },
  {
   "cell_type": "markdown",
   "metadata": {
    "colab_type": "text",
    "id": "U3n1SWCtx9VP"
   },
   "source": [
    "#### list 좀 더 자세히"
   ]
  },
  {
   "cell_type": "code",
   "execution_count": 18,
   "metadata": {
    "colab": {},
    "colab_type": "code",
    "id": "ju-bEoeSwtPF"
   },
   "outputs": [
    {
     "name": "stdout",
     "output_type": "stream",
     "text": [
      "[['남해멸치쌈밥', 10000], ['남해멸치쌈밥', 10000]]\n",
      "[['남해멸치쌈밥', 10000], ['남해멸치쌈밥', 10000]]\n"
     ]
    }
   ],
   "source": [
    "## 요소 추가하기 \n",
    "\n",
    "# 주문이 들어왔다. \n",
    "# 주문1 - 물냉 2, 비냉 1\n",
    "# 주문2 - 멸치쌈밥 2 \n",
    "\n",
    "주문1 = []\n",
    "주문1.append(메뉴목록[0])\n",
    "주문1.append(메뉴목록[0])\n",
    "주문1.append(메뉴목록[1])\n",
    "\n",
    "\n",
    "주문2 = []\n",
    "주문2.append(메뉴목록[2])\n",
    "주문2.append(메뉴목록[2])\n",
    "print(주문2)\n",
    "\n",
    "\n",
    "주문2 = []\n",
    "주문2.append(메뉴목록[2])\n",
    "주문2.append(메뉴목록[2])\n",
    "print(주문2)\n"
   ]
  },
  {
   "cell_type": "code",
   "execution_count": 20,
   "metadata": {
    "colab": {},
    "colab_type": "code",
    "id": "j3bPtCVAyjsU"
   },
   "outputs": [
    {
     "name": "stdout",
     "output_type": "stream",
     "text": [
      "[['진주물냉면', 8000], ['진주비빔냉면', 8500], ['남해멸치쌈밥', 10000], ['만두', 5000]]\n",
      "[['진주물냉면', 8500], ['진주비빔냉면', 8500], ['남해멸치쌈밥', 10000], ['만두', 5000]]\n",
      "[['진주물냉면', 8500], ['진주비빔냉면', 9000], ['남해멸치쌈밥', 10000], ['만두', 5000]]\n"
     ]
    }
   ],
   "source": [
    "## 요소 변경하기\n",
    "## 냉면의 가격을 500원씩 올리기로 했다. \n",
    "\n",
    "print(메뉴목록)\n",
    "\n",
    "메뉴목록[0][1] = 8500\n",
    "print(메뉴목록)\n",
    "\n",
    "메뉴2[1] = 9000\n",
    "print(메뉴목록)"
   ]
  },
  {
   "cell_type": "code",
   "execution_count": 21,
   "metadata": {
    "colab": {},
    "colab_type": "code",
    "id": "FDuvDtZ1zp8W"
   },
   "outputs": [
    {
     "name": "stdout",
     "output_type": "stream",
     "text": [
      "['진주비빔냉면', 9000] ['진주비빔냉면', 9000]\n",
      "['진주비빔냉면', 9500] ['진주비빔냉면', 9500]\n",
      "['진주비빔냉면', 9000] ['진주비빔냉면', 9000]\n",
      "['진주비빔냉면', 9000] ['진주비빔냉면', 9500]\n"
     ]
    }
   ],
   "source": [
    "## 리스트 복제\n",
    "\n",
    "임시 = 메뉴2\n",
    "print(메뉴2, 임시)\n",
    "임시[1] = 9500\n",
    "print(메뉴2, 임시)\n",
    "\n",
    "\n",
    "메뉴2[1] = 9000\n",
    "임시 = 메뉴2.copy()\n",
    "print(메뉴2, 임시)\n",
    "임시[1] = 9500\n",
    "print(메뉴2, 임시)"
   ]
  },
  {
   "cell_type": "markdown",
   "metadata": {
    "colab_type": "text",
    "id": "o1g15d200YDj"
   },
   "source": [
    "## 6. Slicing\n",
    "- slicing list\n",
    "- slicing string"
   ]
  },
  {
   "cell_type": "code",
   "execution_count": 22,
   "metadata": {
    "colab": {},
    "colab_type": "code",
    "id": "8wVAQHq50JPY"
   },
   "outputs": [
    {
     "name": "stdout",
     "output_type": "stream",
     "text": [
      "\n",
      "[95, 65, 90, 80, 85, 90, 92, 88, 84, 75, 85, 100]\n",
      "---------\n",
      "[95, 65, 90]\n",
      "[80, 85, 90]\n",
      "[92, 88, 84]\n",
      "[75, 85, 100]\n",
      "[95, 65, 90]\n",
      "[75, 85, 100]\n"
     ]
    }
   ],
   "source": [
    "# 리스트 생성\n",
    "\n",
    "numbers = [95, 65, 90, 80, 85, 90, 92, 88, 84, 75, 85, 100]\n",
    "\n",
    "print('')\n",
    "print(numbers)\n",
    "print('---------')\n",
    "\n",
    "# 리스트의 subset 01\n",
    "print(numbers[0:3])\n",
    "print(numbers[3:6])\n",
    "print(numbers[6:9])\n",
    "print(numbers[9:12])\n",
    "\n",
    "# 리스트의 subset 02\n",
    "print(numbers[:3])\n",
    "\n",
    "# 리스트의 subset 03\n",
    "print(numbers[9:])\n"
   ]
  },
  {
   "cell_type": "code",
   "execution_count": 23,
   "metadata": {
    "colab": {},
    "colab_type": "code",
    "id": "tirWl0M0p82s"
   },
   "outputs": [
    {
     "name": "stdout",
     "output_type": "stream",
     "text": [
      "\n",
      "hobby project during the week around Christmas as his office was closed\n",
      "---------\n",
      "hobby\n",
      "project\n",
      "hobby\n",
      "closed\n"
     ]
    }
   ],
   "source": [
    "# 문자열 생성\n",
    "python = \"hobby project during the week around Christmas as his office was closed\"\n",
    "    \n",
    "print('')\n",
    "print(python)\n",
    "print('---------')\n",
    "\n",
    "# 문자열 subset 01\n",
    "print(python[0:5])\n",
    "print(python[6:13])\n",
    "\n",
    "# 문자열 subset 02\n",
    "print(python[:5])\n",
    "\n",
    "# 문자열 subset 03\n",
    "print(python[-6:])"
   ]
  },
  {
   "cell_type": "code",
   "execution_count": 24,
   "metadata": {
    "colab": {},
    "colab_type": "code",
    "id": "Jy3qttec1CR9"
   },
   "outputs": [
    {
     "name": "stdout",
     "output_type": "stream",
     "text": [
      "['hobby', 'project', 'during', 'the', 'week', 'around', 'Christmas', 'as', 'his', 'office', 'was', 'closed']\n"
     ]
    }
   ],
   "source": [
    "# split\n",
    "a = python.split(' ') \n",
    "print(a)"
   ]
  },
  {
   "cell_type": "markdown",
   "metadata": {
    "colab_type": "text",
    "id": "gTgfGz5o1Jcm"
   },
   "source": [
    "### 실습"
   ]
  }
 ],
 "metadata": {
  "colab": {
   "collapsed_sections": [],
   "name": "(sol) 1. python-basic-01.ipynb의 사본",
   "provenance": [
    {
     "file_id": "1ZuN2vpe9rMZS-6Fpdebsmcxc4VNZptOY",
     "timestamp": 1567693232803
    }
   ],
   "version": "0.3.2"
  },
  "kernelspec": {
   "display_name": "Python 3",
   "language": "python",
   "name": "python3"
  },
  "language_info": {
   "codemirror_mode": {
    "name": "ipython",
    "version": 3
   },
   "file_extension": ".py",
   "mimetype": "text/x-python",
   "name": "python",
   "nbconvert_exporter": "python",
   "pygments_lexer": "ipython3",
   "version": "3.5.6"
  }
 },
 "nbformat": 4,
 "nbformat_minor": 1
}
