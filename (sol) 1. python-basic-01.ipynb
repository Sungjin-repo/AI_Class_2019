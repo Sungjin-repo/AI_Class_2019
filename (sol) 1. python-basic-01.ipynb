{
 "cells": [
  {
   "cell_type": "markdown",
   "metadata": {
    "colab_type": "text",
    "id": "CP_JnRIBR8WH"
   },
   "source": [
    "# 01. Python Basic 01\n",
    "\n",
    "<p style=\"text-align: right;\">\n",
    "blackdew7@gmail.com<br>\n",
    "</p>\n",
    "\n",
    "### 파이썬 실습시간 그 첫번째!\n",
    "전체 교육 과정에서 파이썬을 사용합니다. \n",
    "\n",
    "#### 실습목표\n",
    "1. 데이터 타입을 알고 있다. - 숫자, 문자, boolean\n",
    "2. 제어문을 사용할 수 있고, 제어문이 사용된 소스코드를 이해할 수 있다. \n",
    "3. 리스트(List)를 이해하고, 리스트가 사용된 소스코드를 이해할 수 있다. 리스트를 사용할 수 있다.\n",
    "5. 함수(Function)가 무엇인지 알고, 함수가 사용된 소스코드를 이해할 수 있다. 간단한 함수를 작성할 수 있다. "
   ]
  },
  {
   "cell_type": "markdown",
   "metadata": {
    "colab_type": "text",
    "id": "eU_HS2zgaXxX"
   },
   "source": [
    "## Jupyter Notebook 단축키\n",
    "* Cell 실행: Control + Enter\n",
    "* Cell 실행 + 다음셀 이동: Shift + Enter\n",
    "* Code Completion: Tab\n",
    "* Tooltip 보기: Shift + Tab\n",
    "* 셀 생성 & 삭제: A (셀을 선택된 셀 위에 생성), B (셀을 선택된 셀 아래에 생성), D (선택된 셀을 삭제)\n",
    "* 줄 번호 보기: L\n",
    "* Command Palette 보기: Shift + Control/Command + P\n",
    "* 단축키 모음 보기: H"
   ]
  },
  {
   "cell_type": "markdown",
   "metadata": {
    "colab_type": "text",
    "id": "qjP4FgIAaGIK"
   },
   "source": [
    "# 01 파이썬 기초 문법\n",
    "\n",
    "1. hello python\n",
    "2. 변수\n",
    "3. Type & Operator - Number\n",
    "4. Type & Operator - String\n",
    "5. Container - List\n",
    "6. Slicing"
   ]
  },
  {
   "cell_type": "markdown",
   "metadata": {
    "colab_type": "text",
    "id": "zEW3-ag6aLtU"
   },
   "source": [
    "## 1. Hello Python + 도움말\n",
    "\n",
    "* 주의 \n",
    " - 2.0 버전에서는 '()' 괄호가 없는 형태로 print문을 처리할 수 있었습니다. \n",
    " - 3.0 버전에서 python 코드를 들고와서 돌렸는데 에러가 날 때에는 print 처리가 어떻게 되어있는지 확인해 봐야해요. \n"
   ]
  },
  {
   "cell_type": "code",
   "execution_count": 6,
   "metadata": {
    "colab": {},
    "colab_type": "code",
    "id": "TdHnJ49PaRX-"
   },
   "outputs": [
    {
     "name": "stdout",
     "output_type": "stream",
     "text": [
      "Hello, Python!!\n"
     ]
    }
   ],
   "source": [
    "# hello, python\n",
    "print(\"Hello, Python!!\")\n"
   ]
  },
  {
   "cell_type": "code",
   "execution_count": 7,
   "metadata": {
    "colab": {},
    "colab_type": "code",
    "id": "0m2gPAz1aejR"
   },
   "outputs": [
    {
     "name": "stdout",
     "output_type": "stream",
     "text": [
      "Help on built-in function print in module builtins:\n",
      "\n",
      "print(...)\n",
      "    print(value, ..., sep=' ', end='\\n', file=sys.stdout, flush=False)\n",
      "    \n",
      "    Prints the values to a stream, or to sys.stdout by default.\n",
      "    Optional keyword arguments:\n",
      "    file:  a file-like object (stream); defaults to the current sys.stdout.\n",
      "    sep:   string inserted between values, default a space.\n",
      "    end:   string appended after the last value, default a newline.\n",
      "    flush: whether to forcibly flush the stream.\n",
      "\n"
     ]
    }
   ],
   "source": [
    "# 도움말\n",
    "# help/? 이용\n",
    "\n",
    "help(print)"
   ]
  },
  {
   "cell_type": "code",
   "execution_count": 8,
   "metadata": {
    "colab": {},
    "colab_type": "code",
    "id": "M8AWpuC5bPDo"
   },
   "outputs": [
    {
     "name": "stdout",
     "output_type": "stream",
     "text": [
      "메뉴\n",
      "진주물냉면 8,500원\n",
      "진주비빔냉면 8,000원\n",
      "남해멸치쌈밥 10,000원\n"
     ]
    }
   ],
   "source": [
    "print(\"메뉴\")\n",
    "print(\"진주물냉면 8,500원\\n진주비빔냉면 8,000원\\n남해멸치쌈밥 10,000원\")\n"
   ]
  },
  {
   "cell_type": "markdown",
   "metadata": {
    "colab_type": "text",
    "id": "25OMX1ppVmsh"
   },
   "source": [
    "## 2. 변수\n",
    "\n",
    "- 대소문자 구분함.\n",
    "- 알파벳 + 숫자 및 언더바, 한글도 가능\n",
    "- 변수 이름으로 변수에 담긴 값을 소환\n",
    "- 다중 할당"
   ]
  },
  {
   "cell_type": "code",
   "execution_count": 9,
   "metadata": {
    "colab": {},
    "colab_type": "code",
    "id": "keC9DdI5VgLI"
   },
   "outputs": [
    {
     "ename": "SyntaxError",
     "evalue": "invalid syntax (<ipython-input-9-6d753e457cc7>, line 16)",
     "output_type": "error",
     "traceback": [
      "\u001b[1;36m  File \u001b[1;32m\"<ipython-input-9-6d753e457cc7>\"\u001b[1;36m, line \u001b[1;32m16\u001b[0m\n\u001b[1;33m    print(f\"{메뉴1_이름} {메뉴1_가격}원\\n{메뉴2_이름} {메뉴2_가격}원\\n\")\u001b[0m\n\u001b[1;37m                                                    ^\u001b[0m\n\u001b[1;31mSyntaxError\u001b[0m\u001b[1;31m:\u001b[0m invalid syntax\n"
     ]
    }
   ],
   "source": [
    "# 변수 할당\n",
    "\n",
    "메뉴1_이름 = '진주물냉면'\n",
    "메뉴1_가격 = 8000\n",
    "\n",
    "메뉴2_이름 = '진주비빔냉면'\n",
    "메뉴2_가격 = 8500\n",
    "\n",
    "\n",
    "# 출력\n",
    "\n",
    "print(\"메뉴\")\n",
    "print(\"{0} {1}원\\n{2} {3}원\\n\".format(메뉴1_이름, 메뉴1_가격, 메뉴2_이름, 메뉴2_가격))\n",
    "\n",
    "print(\"메뉴\")\n",
    "print(f\"{메뉴1_이름} {메뉴1_가격}원\\n{메뉴2_이름} {메뉴2_가격}원\\n\")"
   ]
  },
  {
   "cell_type": "code",
   "execution_count": 10,
   "metadata": {
    "colab": {},
    "colab_type": "code",
    "id": "og19PFJ5R2nW"
   },
   "outputs": [
    {
     "ename": "SyntaxError",
     "evalue": "invalid syntax (<ipython-input-10-5032388205bc>, line 11)",
     "output_type": "error",
     "traceback": [
      "\u001b[1;36m  File \u001b[1;32m\"<ipython-input-10-5032388205bc>\"\u001b[1;36m, line \u001b[1;32m11\u001b[0m\n\u001b[1;33m    print(f\"{메뉴3_이름} {메뉴3_가격}원\")\u001b[0m\n\u001b[1;37m                              ^\u001b[0m\n\u001b[1;31mSyntaxError\u001b[0m\u001b[1;31m:\u001b[0m invalid syntax\n"
     ]
    }
   ],
   "source": [
    "# 다중 할당\n",
    "\n",
    "메뉴3_이름, 메뉴3_가격 = '남해멸치쌈밥', 10000\n",
    "\n",
    "\n",
    "# 출력\n",
    "print(\"메뉴\")\n",
    "print(\"{2} {3}원{4} {5}원\\n\".format(메뉴3_이름, 메뉴3_가격))\n",
    "\n",
    "print(\"메뉴\")\n",
    "print(f\"{메뉴3_이름} {메뉴3_가격}원\")\n"
   ]
  },
  {
   "cell_type": "markdown",
   "metadata": {
    "colab_type": "text",
    "id": "Onii95sUoo3c"
   },
   "source": [
    "## 3. Type & Operator - Number\n",
    "\n",
    "- number: int, float, complex\n",
    "- 산술 연산자 \n",
    " - +, -, *, /\n",
    "\n",
    " - %\n",
    "\n",
    " - **\n",
    "\n",
    " - //\n",
    "\n",
    " - +=, -=, *=, /=\n",
    "\n",
    " - 위의 연산자 중 모르는 것을 구글 검색하고 예제를 만들어 보자."
   ]
  },
  {
   "cell_type": "code",
   "execution_count": 11,
   "metadata": {
    "colab": {},
    "colab_type": "code",
    "id": "jH-_UeGyo38y"
   },
   "outputs": [
    {
     "ename": "SyntaxError",
     "evalue": "invalid syntax (<ipython-input-11-520d38ae0489>, line 10)",
     "output_type": "error",
     "traceback": [
      "\u001b[1;36m  File \u001b[1;32m\"<ipython-input-11-520d38ae0489>\"\u001b[1;36m, line \u001b[1;32m10\u001b[0m\n\u001b[1;33m    print(f\"주문1 - {주문1}원\\n주문2 - {주문2}원\")\u001b[0m\n\u001b[1;37m                                      ^\u001b[0m\n\u001b[1;31mSyntaxError\u001b[0m\u001b[1;31m:\u001b[0m invalid syntax\n"
     ]
    }
   ],
   "source": [
    "# 주문이 들어왔다. \n",
    "# 주문1 - 물냉 2, 비냉 1\n",
    "# 주문2 - 멸치쌈밥 2 \n",
    "\n",
    "주문1 = 메뉴1_가격 * 2 + 메뉴2_가격\n",
    "주문2 = 메뉴3_가격 * 2\n",
    "\n",
    "# 출력\n",
    "print(\"주문\")\n",
    "print(f\"주문1 - {주문1}원\\n주문2 - {주문2}원\")"
   ]
  },
  {
   "cell_type": "code",
   "execution_count": 12,
   "metadata": {
    "colab": {},
    "colab_type": "code",
    "id": "OoMoIoo5pIiV"
   },
   "outputs": [
    {
     "name": "stdout",
     "output_type": "stream",
     "text": [
      "<class 'int'>\n",
      "<class 'float'>\n",
      "<class 'complex'>\n"
     ]
    }
   ],
   "source": [
    "# int\n",
    "print(type(10))\n",
    "\n",
    "# float\n",
    "print(type(10.0))\n",
    "\n",
    "# complex\n",
    "print(type(10 + 10j))"
   ]
  },
  {
   "cell_type": "markdown",
   "metadata": {
    "colab_type": "text",
    "id": "iAIFw20Dqg1u"
   },
   "source": [
    "## 4. Type & Operator - String\n",
    "\n",
    "- string\n",
    "- print 활용\n",
    "- string slicing"
   ]
  },
  {
   "cell_type": "code",
   "execution_count": 13,
   "metadata": {
    "colab": {},
    "colab_type": "code",
    "id": "xv4LclUwqfeL"
   },
   "outputs": [],
   "source": [
    "# 문자열\n",
    "# 파이썬은 문자열에 대해 상당한 편의성을 지원합니다.\n",
    "\n",
    "메뉴1_이름 = '진주물냉면'\n",
    "메뉴1_가격 = 8000\n",
    "\n",
    "메뉴2_이름 = \"진주비빔냉면\"\n",
    "메뉴2_가격 = 8500\n",
    "\n",
    "메뉴3_이름, 메뉴3_가격 = '남해멸치쌈밥', 10000\n"
   ]
  },
  {
   "cell_type": "code",
   "execution_count": 14,
   "metadata": {
    "colab": {},
    "colab_type": "code",
    "id": "NZ1suTR6uu2J"
   },
   "outputs": [
    {
     "name": "stdout",
     "output_type": "stream",
     "text": [
      "메뉴\n",
      "진주물냉면 8,500원\n",
      "진주비빔냉면 8,000원\n",
      "남해멸치쌈밥 10,000원\n",
      "메뉴\n",
      "진주물냉면 8,500원\n",
      "진주비빔냉면 8,000원\n",
      "남해멸치쌈밥 10,000원\n"
     ]
    }
   ],
   "source": [
    "# 특수문자 \\n \n",
    "# 메뉴판을 만들자\n",
    "\n",
    "메뉴 = \"메뉴\\n진주물냉면 8,500원\\n진주비빔냉면 8,000원\\n남해멸치쌈밥 10,000원\"\n",
    "print(메뉴)\n",
    "\n",
    "# \"\"\", ''' multiline 문자열 생성\n",
    "메뉴 = \"\"\"메뉴\n",
    "진주물냉면 8,500원\n",
    "진주비빔냉면 8,000원\n",
    "남해멸치쌈밥 10,000원\"\"\"\n",
    "print(메뉴)"
   ]
  },
  {
   "cell_type": "code",
   "execution_count": 15,
   "metadata": {
    "colab": {},
    "colab_type": "code",
    "id": "6d6PyRlxu0s2"
   },
   "outputs": [
    {
     "ename": "SyntaxError",
     "evalue": "invalid syntax (<ipython-input-15-525401fee8c0>, line 5)",
     "output_type": "error",
     "traceback": [
      "\u001b[1;36m  File \u001b[1;32m\"<ipython-input-15-525401fee8c0>\"\u001b[1;36m, line \u001b[1;32m5\u001b[0m\n\u001b[1;33m    {메뉴3_이름} {메뉴3_가격}원\"\"\"\u001b[0m\n\u001b[1;37m                         \n^\u001b[0m\n\u001b[1;31mSyntaxError\u001b[0m\u001b[1;31m:\u001b[0m invalid syntax\n"
     ]
    }
   ],
   "source": [
    "# 문자열에 변수 출력 #01 - f''\n",
    "메뉴 = f\"\"\"메뉴\n",
    "{메뉴1_이름} {메뉴1_가격}원\n",
    "{메뉴2_이름} {메뉴2_가격}원\n",
    "{메뉴3_이름} {메뉴3_가격}원\"\"\"\n",
    "print(메뉴)\n",
    "\n",
    "주문1 = 메뉴1_가격 * 2 + 메뉴2_가격\n",
    "주문2 = 메뉴3_가격 * 2\n",
    "\n",
    "주문 = f\"\"\"주문\n",
    "주문1 - {주문1:,}원\n",
    "주문2 - {주문2:,}원\"\"\"\n",
    "print(주문)"
   ]
  },
  {
   "cell_type": "code",
   "execution_count": 16,
   "metadata": {
    "colab": {},
    "colab_type": "code",
    "id": "UbOsQZxwigZs"
   },
   "outputs": [
    {
     "name": "stdout",
     "output_type": "stream",
     "text": [
      "진주물냉면 - 8,000원\n",
      "진주비빔냉면 - 8,500원\n",
      "진주물냉면 - 8000원\n",
      "진주비빔냉면 - 8500원\n"
     ]
    }
   ],
   "source": [
    "# 문자열에 변수 출력 #02 - format\n",
    "주문 = \"{0} - {1:,}원\"\n",
    "\n",
    "print(주문.format(메뉴1_이름, 메뉴1_가격))\n",
    "print(주문.format(메뉴2_이름, 메뉴2_가격))\n",
    "\n",
    "# 문자열에 변수 출력 #03 - %\n",
    "주문 = \"%s - %d원\"\n",
    "\n",
    "print(주문 % (메뉴1_이름, 메뉴1_가격))\n",
    "print(주문 % (메뉴2_이름, 메뉴2_가격))"
   ]
  },
  {
   "cell_type": "markdown",
   "metadata": {
    "colab_type": "text",
    "id": "XlQqEsDHvzlZ"
   },
   "source": [
    "## 5. Container - List\n",
    "\n",
    "- list \n",
    "- add & remove"
   ]
  },
  {
   "cell_type": "code",
   "execution_count": 17,
   "metadata": {
    "colab": {},
    "colab_type": "code",
    "id": "qYN8HRHRZ12U"
   },
   "outputs": [
    {
     "name": "stdout",
     "output_type": "stream",
     "text": [
      "<class 'list'>\n"
     ]
    }
   ],
   "source": [
    "# 리스트 생성\n",
    "메뉴1 = [\"진주물냉면\", 8000]\n",
    "메뉴2 = [\"진주비빔냉면\", 8500]\n",
    "메뉴3 = [\"남해멸치쌈밥\", 10000]\n",
    "메뉴4 = [\"만두\", 5000]\n",
    "\n",
    "print(type(메뉴1))"
   ]
  },
  {
   "cell_type": "code",
   "execution_count": 18,
   "metadata": {
    "colab": {},
    "colab_type": "code",
    "id": "dR5er7hea9FG"
   },
   "outputs": [
    {
     "name": "stdout",
     "output_type": "stream",
     "text": [
      "진주물냉면\n",
      "8000\n"
     ]
    }
   ],
   "source": [
    "# 리스트 요소 조회\n",
    "print(메뉴1[0])\n",
    "print(메뉴1[1])\n"
   ]
  },
  {
   "cell_type": "code",
   "execution_count": 19,
   "metadata": {
    "colab": {},
    "colab_type": "code",
    "id": "iEQaYU2pweoo"
   },
   "outputs": [
    {
     "name": "stdout",
     "output_type": "stream",
     "text": [
      "[['진주물냉면', 8000], ['진주비빔냉면', 8500], ['남해멸치쌈밥', 10000], ['만두', 5000]]\n"
     ]
    }
   ],
   "source": [
    "# 2차원 리스트\n",
    "메뉴목록 = [메뉴1, 메뉴2, 메뉴3 , 메뉴4]\n",
    "print(메뉴목록)"
   ]
  },
  {
   "cell_type": "code",
   "execution_count": 20,
   "metadata": {
    "colab": {},
    "colab_type": "code",
    "id": "rsJYqR8fwnta"
   },
   "outputs": [
    {
     "name": "stdout",
     "output_type": "stream",
     "text": [
      "['진주물냉면', 8000] ['진주비빔냉면', 8500]\n",
      "진주물냉면 8000\n"
     ]
    }
   ],
   "source": [
    "# 2차원 리스트 요소 조회\n",
    "print(메뉴목록[0], 메뉴목록[1])\n",
    "print(메뉴목록[0][0], 메뉴목록[0][1])"
   ]
  },
  {
   "cell_type": "markdown",
   "metadata": {
    "colab_type": "text",
    "id": "U3n1SWCtx9VP"
   },
   "source": [
    "#### list 좀 더 자세히"
   ]
  },
  {
   "cell_type": "code",
   "execution_count": 0,
   "metadata": {
    "colab": {},
    "colab_type": "code",
    "id": "ju-bEoeSwtPF"
   },
   "outputs": [],
   "source": [
    "## 요소 추가하기 \n",
    "\n",
    "# 주문이 들어왔다. \n",
    "# 주문1 - 물냉 2, 비냉 1\n",
    "# 주문2 - 멸치쌈밥 2 \n",
    "\n",
    "주문1 = []\n",
    "주문1.append(메뉴목록[0])\n",
    "주문1.append(메뉴목록[0])\n",
    "주문1.append(메뉴목록[1])\n",
    "ㅗ\n",
    "\n",
    "주문2 = []\n",
    "주문2.append(메뉴목록[2])\n",
    "주문2.append(메뉴목록[2])\n",
    "print(주문2)\n",
    "\n",
    "\n",
    "주문2 = []\n",
    "주문2.append(메뉴목록[2])\n",
    "주문2.append(메뉴목록[2])\n",
    "print(주문2)\n"
   ]
  },
  {
   "cell_type": "code",
   "execution_count": 0,
   "metadata": {
    "colab": {},
    "colab_type": "code",
    "id": "XYVyI1mdyYRG"
   },
   "outputs": [],
   "source": [
    "## 요소 제거하기 \n",
    "# 만두를 팔지 않기로 했다. \n",
    "\n",
    "print(메뉴목록)\n",
    "del 메뉴목록[3]\n",
    "print(메뉴메뉴목록"
   ]
  },
  {
   "cell_type": "code",
   "execution_count": 0,
   "metadata": {
    "colab": {},
    "colab_type": "code",
    "id": "j3bPtCVAyjsU"
   },
   "outputs": [],
   "source": [
    "## 요소 변경하기\n",
    "## 냉면의 가격을 500원씩 올리기로 했다. \n",
    "\n",
    "print(메뉴목록)\n",
    "\n",
    "메뉴목록[0][1] = 8500\n",
    "print(메뉴목록)\n",
    "\n",
    "메뉴2[1] = 9000\n",
    "print(메뉴목록)"
   ]
  },
  {
   "cell_type": "code",
   "execution_count": 0,
   "metadata": {
    "colab": {},
    "colab_type": "code",
    "id": "FDuvDtZ1zp8W"
   },
   "outputs": [],
   "source": [
    "## 리스트 복제\n",
    "\n",
    "임시 = 메뉴2\n",
    "print(메뉴2, 임시)\n",
    "임시[1] = 9500\n",
    "print(메뉴2, 임시)\n",
    "\n",
    "\n",
    "메뉴2[1] = 9000\n",
    "임시 = 메뉴2.copy()\n",
    "print(메뉴2, 임시)\n",
    "임시[1] = 9500\n",
    "print(메뉴2, 임시)"
   ]
  },
  {
   "cell_type": "markdown",
   "metadata": {
    "colab_type": "text",
    "id": "o1g15d200YDj"
   },
   "source": [
    "## 6. Slicing\n",
    "- slicing list\n",
    "- slicing string"
   ]
  },
  {
   "cell_type": "code",
   "execution_count": 21,
   "metadata": {
    "colab": {},
    "colab_type": "code",
    "id": "8wVAQHq50JPY"
   },
   "outputs": [
    {
     "name": "stdout",
     "output_type": "stream",
     "text": [
      "\n",
      "[95, 65, 90, 80, 85, 90, 92, 88, 84, 75, 85, 100]\n",
      "---------\n",
      "[95, 65, 90]\n",
      "[80, 85, 90]\n",
      "[92, 88, 84]\n",
      "[75, 85, 100]\n",
      "[95, 65, 90]\n",
      "[75, 85, 100]\n"
     ]
    }
   ],
   "source": [
    "# 리스트 생성\n",
    "\n",
    "numbers = [95, 65, 90, 80, 85, 90, 92, 88, 84, 75, 85, 100]\n",
    "\n",
    "print('')\n",
    "print(numbers)\n",
    "print('---------')\n",
    "\n",
    "# 리스트의 subset 01\n",
    "print(numbers[0:3])\n",
    "print(numbers[3:6])\n",
    "print(numbers[6:9])\n",
    "print(numbers[9:12])\n",
    "\n",
    "# 리스트의 subset 02\n",
    "print(numbers[:3])\n",
    "\n",
    "# 리스트의 subset 03\n",
    "print(numbers[9:])\n"
   ]
  },
  {
   "cell_type": "code",
   "execution_count": 22,
   "metadata": {
    "colab": {},
    "colab_type": "code",
    "id": "tirWl0M0p82s"
   },
   "outputs": [
    {
     "name": "stdout",
     "output_type": "stream",
     "text": [
      "\n",
      "hobby project during the week around Christmas as his office was closed\n",
      "---------\n",
      "hobby\n",
      "project\n",
      "hobby\n",
      "closed\n"
     ]
    }
   ],
   "source": [
    "# 문자열 생성\n",
    "python = \"hobby project during the week around Christmas as his office was closed\"\n",
    "    \n",
    "print('')\n",
    "print(python)\n",
    "print('---------')\n",
    "\n",
    "# 문자열 subset 01\n",
    "print(python[0:5])\n",
    "print(python[6:13])\n",
    "\n",
    "# 문자열 subset 02\n",
    "print(python[:5])\n",
    "\n",
    "# 문자열 subset 03\n",
    "print(python[-6:])"
   ]
  },
  {
   "cell_type": "code",
   "execution_count": 23,
   "metadata": {
    "colab": {},
    "colab_type": "code",
    "id": "Jy3qttec1CR9"
   },
   "outputs": [
    {
     "name": "stdout",
     "output_type": "stream",
     "text": [
      "['hobby', 'project', 'during', 'the', 'week', 'around', 'Christmas', 'as', 'his', 'office', 'was', 'closed']\n"
     ]
    }
   ],
   "source": [
    "# split\n",
    "a = python.split(' ') \n",
    "print(a)"
   ]
  },
  {
   "cell_type": "markdown",
   "metadata": {
    "colab_type": "text",
    "id": "gTgfGz5o1Jcm"
   },
   "source": [
    "### 실습"
   ]
  },
  {
   "cell_type": "code",
   "execution_count": 0,
   "metadata": {
    "colab": {},
    "colab_type": "code",
    "id": "Rx3lBiU31GNd"
   },
   "outputs": [],
   "source": [
    "# 각 리스트의 요소는 이름, 중간점수, 퀴즈점수, 기말점수 입니다. \n",
    "stu01 = [\"Geoffery Hinton\", 95, 65, 90]\n",
    "stu02 = [\"Yann Lecun\", 80, 85, 90]\n",
    "stu03 = [\"Yoshua Bengio\", 92, 88, 84]\n",
    "stu04 = [\"Andrew Ng\", 75, 85, 100]\n",
    "\n",
    "# 위의 4개의 리스트를 담은 stu 리스트를 생성하세요. \n",
    "stu = [stu01, stu02, stu03, stu04]\n",
    "\n",
    "# 각 학생들의 이름 중 Last Name만 출력하세요.\n",
    "print(stu01[0][-6:])\n",
    "print(stu02[0][-5:])\n",
    "print(stu03[0][-6:])\n",
    "print(stu04[0][-2:])\n",
    "\n",
    "# 각 학생들의 학기 합산 점수를 구하세요. \n",
    "# 합산점수는 중간점수 40%, 기말점수 40%, 퀴즈점수 20% 로 계산됩니다. \n",
    "r1 = stu01[1] * 0.4 + stu01[1] * 0.2 + stu01[1] * 0.4\n",
    "print(r1)\n",
    "r2 = stu02[1] * 0.4 + stu02[1] * 0.2 + stu02[1] * 0.4\n",
    "print(r2)\n",
    "r3 = stu03[1] * 0.4 + stu03[1] * 0.2 + stu03[1] * 0.4\n",
    "print(r3)\n",
    "r4 = stu04[1] * 0.4 + stu04[1] * 0.2 + stu04[1] * 0.4\n",
    "\n",
    "# stu 리스트에 위에서 구한 합산 점수를 추가 하세요. \n",
    "stu01.append(r1)\n",
    "stu02.append(r2)\n",
    "stu03.append(r3)\n",
    "stu04.append(r4)\n",
    "print(stu)\n",
    "\n",
    "\n",
    "# 다음의  활용하여 이름과 합산 점수를 출력하세요. \n",
    "email = \"\"\"\n",
    "Hello, {0}\n",
    "\n",
    "{0}의 이번학기 성적은 {1}입니다.\n",
    "\n",
    "수고하셨습니다. \n",
    "\"\"\"\n",
    "print(email.format(stu01[0], stu01[-1]))\n",
    "\n",
    "\n",
    "# 학생들의 midterm, quiz, finals 요소만 slicing 해서 mqf list에 추가하는 구문을 완성하세요.\n",
    "# 출력: [[95, 65, 90], [80, 85, 90], [92, 88, 84], [75, 85, 100]]\n",
    "mqf = []\n",
    "mqf.append(stu01[1:4])\n",
    "mqf.append(stu02[1:4])\n",
    "mqf.append(stu03[1:4])\n",
    "mqf.append(stu04[1:4])\n",
    "\n",
    "print(mqf)\n"
   ]
  },
  {
   "cell_type": "markdown",
   "metadata": {
    "colab_type": "text",
    "id": "nD7LnAKH4__p"
   },
   "source": [
    "# 02 파이썬 입문 I\n",
    "\n",
    "1. Type & Operator - Boolean\n",
    "2. Control (제어문)\n",
    "3. Function (함수)\n",
    "4. Method\n",
    "5. Package"
   ]
  },
  {
   "cell_type": "markdown",
   "metadata": {
    "colab_type": "text",
    "id": "MzMcivQY5CHf"
   },
   "source": [
    "## 1. Type & Operator - Boolean\n",
    "\n",
    "- boolean\n",
    "- 비교 연산자\n",
    " - ==, !=, >, <, >=, <=\n",
    " - and, or, not\n",
    " - is\n",
    " - in"
   ]
  },
  {
   "cell_type": "code",
   "execution_count": 0,
   "metadata": {
    "colab": {},
    "colab_type": "code",
    "id": "gSBIcWln1iS_"
   },
   "outputs": [],
   "source": [
    "# True/False Boolean\n",
    "\n",
    "t = True\n",
    "f = False\n",
    "print(type(t)) # Prints \"<class 'bool'>\"\n",
    "\n",
    "# 논리 연산자\n",
    "print(t and f) # AND 연산, \"False\"\n",
    "print(t or f)  # OR 연산, \"True\"\n",
    "print(not t)   # NOT 연산, prints \"False\"\n"
   ]
  },
  {
   "cell_type": "code",
   "execution_count": 0,
   "metadata": {
    "colab": {},
    "colab_type": "code",
    "id": "kKNHvoPs5EXp"
   },
   "outputs": [],
   "source": [
    "# 여러 연산자 테스트\n",
    "print(1, 1 == 2)\n",
    "print(2, 1 != 2)\n",
    "print(3, 1 < 2)\n",
    "print(4, 1 > 2)\n",
    "\n",
    "# is\n",
    "a = None\n",
    "print(5, a is None)\n",
    "print(6, a is not None)\n",
    "a = 1\n",
    "print(7, a is 1)\n",
    "print(8, a is not 1)\n",
    "\n",
    "# in\n",
    "print(9, 1 in [1, 2, 3, 4])\n",
    "print(10, 5 in [1, 2, 3, 4])"
   ]
  },
  {
   "cell_type": "markdown",
   "metadata": {
    "colab_type": "text",
    "id": "zJfl1ntN5_N7"
   },
   "source": [
    "## 2. Control (제어문)\n",
    "\n",
    "- 조건문: if-else\n",
    "- 반복문: while\n",
    "- 반복문: for\n"
   ]
  },
  {
   "cell_type": "code",
   "execution_count": 0,
   "metadata": {
    "colab": {},
    "colab_type": "code",
    "id": "35qHxGHS5ibq"
   },
   "outputs": [],
   "source": [
    "# 조건문 - if/else\n",
    "print(주문1, 주문2)\n",
    "\n",
    "가진돈 = 20000\n",
    "\n",
    "# 주문액이 가진돈 보다 작으면 '주문할 수 있다.'\n",
    "# 주문액이 가진돈 보다 크면 '돈이 모자란다.'\n",
    "if 주문1[0][1] + 주문1[1][1] + 주문1[2][1] < 가진돈:\n",
    "    print(\"주문할 수 있다.\")\n",
    "else:\n",
    "    print(\"돈이 모자란다.\")\n",
    "    \n",
    "    \n",
    "if 주문2[0][1] + 주문2[1][1] <= 가진돈:\n",
    "    print(\"주문할 수 있다.\")\n",
    "else:\n",
    "    print(\"돈이 모자란다.\")\n",
    "    "
   ]
  },
  {
   "cell_type": "code",
   "execution_count": 0,
   "metadata": {
    "colab": {},
    "colab_type": "code",
    "id": "s3OlbdCJPG0l"
   },
   "outputs": [],
   "source": [
    "# 반복문 - for\n",
    "print(주문1, 주문2)\n",
    "\n",
    "# 주문합계 계산\n",
    "주문1_합계 = 0\n",
    "for e in 주문1:\n",
    "    print(e)\n",
    "    주문1_합계 += e[1]\n",
    "\n",
    "주문2_합계 = 0\n",
    "for e in 주문2:\n",
    "    print(e)\n",
    "    주문2_합계 += e[1]\n",
    "    \n",
    "print(주문1_합계, 주문2_합계)"
   ]
  },
  {
   "cell_type": "code",
   "execution_count": 0,
   "metadata": {
    "colab": {},
    "colab_type": "code",
    "id": "-Dr2O25ma0AQ"
   },
   "outputs": [],
   "source": [
    "# 반복문 - for enumerate\n",
    "for i, e in enumerate(주문1, 1):\n",
    "    print(i, e)\n"
   ]
  },
  {
   "cell_type": "code",
   "execution_count": 0,
   "metadata": {
    "colab": {},
    "colab_type": "code",
    "id": "mu8TzztePrYJ"
   },
   "outputs": [],
   "source": [
    "# 반복문 - while (종료조건이 있는 반복문)\n",
    "fruits = ['apple', 'banana', 'cherry']\n",
    "i = 0 \n",
    "\n",
    "while i < len(fruits):\n",
    "    print(fruits[i])\n",
    "    i += 1"
   ]
  },
  {
   "cell_type": "code",
   "execution_count": 0,
   "metadata": {
    "colab": {},
    "colab_type": "code",
    "id": "Td4shp3KQ7PA"
   },
   "outputs": [],
   "source": [
    "# *****\n",
    "# *****\n",
    "# *****\n",
    "# *****\n",
    "# *****\n",
    "\n",
    "for i in range(5):\n",
    "    for j in range(5):\n",
    "        print('*', end='')\n",
    "    print()\n"
   ]
  },
  {
   "cell_type": "code",
   "execution_count": 0,
   "metadata": {
    "colab": {},
    "colab_type": "code",
    "id": "iWCj2sWVQVzh"
   },
   "outputs": [],
   "source": [
    "# *\n",
    "# **\n",
    "# ***\n",
    "# ****\n",
    "# *****\n",
    "\n",
    "for i in range(5):\n",
    "    for j in range(i + 1):\n",
    "        print('*', end='')\n",
    "    print()\n"
   ]
  },
  {
   "cell_type": "code",
   "execution_count": 0,
   "metadata": {
    "colab": {},
    "colab_type": "code",
    "id": "inVD9sk7QlZi"
   },
   "outputs": [],
   "source": [
    "#  *****\n",
    "#   ****\n",
    "#    ***\n",
    "#     **\n",
    "#      *\n",
    "        \n",
    "for i in range(5):\n",
    "    for j in range(i + 1):\n",
    "        print(' ', end='')\n",
    "\n",
    "    for j in range(5 - i):\n",
    "        print('*', end='')\n",
    "    print()\n"
   ]
  },
  {
   "cell_type": "markdown",
   "metadata": {
    "colab_type": "text",
    "id": "zs6Agwl46WZ4"
   },
   "source": [
    "### 실습"
   ]
  },
  {
   "cell_type": "code",
   "execution_count": 0,
   "metadata": {
    "colab": {},
    "colab_type": "code",
    "id": "y_jVYujT6X3l"
   },
   "outputs": [],
   "source": [
    "# 위의 코드를 변형하여 다음 모양을 출력해보자\n",
    "# 1. \n",
    "# *****\n",
    "# ****\n",
    "# ***\n",
    "# **\n",
    "# *\n",
    "\n",
    "for i in range(5):\n",
    "    for j in range(5 - i):\n",
    "        print('*', end='')\n",
    "    print()\n",
    "\n",
    "\n",
    "# 2.\n",
    "#     *\n",
    "#    **\n",
    "#   ***\n",
    "#  ****\n",
    "# *****\n",
    "for i in range(5):\n",
    "    for j in range(5 - i):\n",
    "        print(' ', end='')\n",
    "    for j in range(i + 1):\n",
    "        print('*', end='')\n",
    "    print()\n",
    "\n",
    "\n",
    "# 3.\n",
    "#     *\n",
    "#    ***\n",
    "#   *****\n",
    "#  *******\n",
    "# *********\n",
    "\n",
    "for i in range(5):\n",
    "    for j in range(5 - i):\n",
    "        print(' ', end='')\n",
    "    for j in range(2 * i + 1):\n",
    "        print('*', end='')\n",
    "    print()\n",
    "    "
   ]
  },
  {
   "cell_type": "markdown",
   "metadata": {
    "colab_type": "text",
    "id": "Tloc-LgGyzqm"
   },
   "source": [
    "\n",
    "## 3. Function (함수)\n",
    "- 함수 만들기\n",
    "- 내장 함수: print, round, max, min, sorted\n",
    "- 모듈의 함수: os, re 등등"
   ]
  },
  {
   "cell_type": "markdown",
   "metadata": {
    "colab_type": "text",
    "id": "6Kka3xFp6RTY"
   },
   "source": [
    "### 함수 생성"
   ]
  },
  {
   "cell_type": "code",
   "execution_count": 0,
   "metadata": {
    "colab": {},
    "colab_type": "code",
    "id": "ee3epYT06Q3A"
   },
   "outputs": [],
   "source": [
    "# 메뉴목록출력 함수\n",
    "def 메뉴목록출력(메뉴목록):\n",
    "    print(\"메뉴 목록입니다.\")\n",
    "    for i, 메뉴 in enumerate(메뉴목록, 1):\n",
    "        print(f'{i}. {메뉴[0]} {메뉴[1]:,}원')\n",
    "\n",
    "메뉴목록출력(메뉴목록)\n",
    "\n",
    "# 주문목록출력 함수\n",
    "def 주문목록출력(메뉴목록, 주문내역):\n",
    "    print(\"주문 내역입니다.\")\n",
    "    수량 = [0, 0, 0, 0]\n",
    "    for 주문 in 주문내역:\n",
    "        if 메뉴목록[0][0] == 주문[0]:\n",
    "            수량[0] += 1\n",
    "        if 메뉴목록[1][0] == 주문[0]:\n",
    "            수량[1] += 1\n",
    "        if 메뉴목록[2][0] == 주문[0]:\n",
    "            수량[2] += 1\n",
    "        if 메뉴목록[3][0] == 주문[0]:\n",
    "            수량[3] += 1\n",
    "        \n",
    "    for i, 메뉴 in enumerate(메뉴목록, 0):\n",
    "        if 수량[i] > 0:\n",
    "            print(f'{메뉴[0]} {수량[i]}개')\n",
    "\n",
    "주문목록출력(메뉴목록, 주문1)\n",
    "주문목록출력(메뉴목록, 주문2)"
   ]
  },
  {
   "cell_type": "markdown",
   "metadata": {
    "colab_type": "text",
    "id": "t5oNbuGc1bfm"
   },
   "source": [
    "### 내장함수\n",
    "- print, input\n",
    "- dir, help\n",
    "- round\n",
    "- max, min, len, sum\n",
    "- sorted\n",
    "- range\n"
   ]
  },
  {
   "cell_type": "code",
   "execution_count": 0,
   "metadata": {
    "colab": {},
    "colab_type": "code",
    "id": "kMzDgCVmlJJE"
   },
   "outputs": [],
   "source": [
    "# 내장함수 목록 \n",
    "dir(__builtin__)"
   ]
  },
  {
   "cell_type": "code",
   "execution_count": 0,
   "metadata": {
    "colab": {},
    "colab_type": "code",
    "id": "UQRvsln_QMeq"
   },
   "outputs": [],
   "source": [
    "# input, print\n",
    "\n",
    "msg = input()\n",
    "print(msg)"
   ]
  },
  {
   "cell_type": "code",
   "execution_count": 0,
   "metadata": {
    "colab": {},
    "colab_type": "code",
    "id": "YwSTkPKE15K9"
   },
   "outputs": [],
   "source": [
    "# round\n",
    "\n",
    "print(round(10.4607))\n",
    "print(round(10.5129))\n",
    "print(round(10.5129, 2))\n",
    "print(round(10.5029, 3))\n"
   ]
  },
  {
   "cell_type": "code",
   "execution_count": 0,
   "metadata": {
    "colab": {},
    "colab_type": "code",
    "id": "o1WsUvkt16DH"
   },
   "outputs": [],
   "source": [
    "numbers = [95, 65, 90, 80, 85, 90, 92, 88, 84, 75, 85, 100]\n",
    "\n",
    "# min / max\n",
    "print(max(numbers))\n",
    "print(min(numbers))\n",
    "\n",
    "# sum\n",
    "print(sum(numbers))\n",
    "\n",
    "# len\n",
    "print(len(numbers))\n",
    "\n",
    "# sort\n",
    "print(sorted(numbers))"
   ]
  },
  {
   "cell_type": "code",
   "execution_count": 0,
   "metadata": {
    "colab": {},
    "colab_type": "code",
    "id": "AXYayViz2S-j"
   },
   "outputs": [],
   "source": [
    "# range\n",
    "print(list(range(10)))\n",
    "print(list(range(5, 10)))\n",
    "print(list(range(1, 10, 2)))"
   ]
  },
  {
   "cell_type": "markdown",
   "metadata": {
    "colab_type": "text",
    "id": "9b_ShSuA2iy9"
   },
   "source": [
    "### 모듈내의 함수\n",
    "- os\n",
    "- random\n",
    "- math"
   ]
  },
  {
   "cell_type": "code",
   "execution_count": 0,
   "metadata": {
    "colab": {},
    "colab_type": "code",
    "id": "wAIf6PnE2jJ2"
   },
   "outputs": [],
   "source": [
    "# os 모듈\n",
    "import os\n",
    "\n",
    "\n",
    "# 현재 디렉토리 정보\n",
    "print(os.getcwd())\n",
    "\n",
    "# 현재 디렉토리 파일목록\n",
    "print(os.listdir())"
   ]
  },
  {
   "cell_type": "code",
   "execution_count": 0,
   "metadata": {
    "colab": {},
    "colab_type": "code",
    "id": "Gd1fPYZ020Oz"
   },
   "outputs": [],
   "source": [
    "# random\n",
    "import random\n",
    "\n",
    "# 0 ~ 1 사이의 랜덤 숫자\n",
    "print(random.random())\n",
    "\n",
    "# 0 ~ 10 사이의 랜덤 정수\n",
    "print(random.randint(0, 10))\n",
    "\n",
    "# shuffle & sample\n",
    "호텔델루나배우 = ['아이유', '여진구', '피오', '미나', '김준현']\n",
    "random.shuffle(호텔델루나배우)\n",
    "print(호텔델루나배우)\n",
    "print(random.sample(호텔델루나배우, 2))"
   ]
  },
  {
   "cell_type": "code",
   "execution_count": 0,
   "metadata": {
    "colab": {},
    "colab_type": "code",
    "id": "XAD7dBN-4nJX"
   },
   "outputs": [],
   "source": [
    "import random\n",
    "\n",
    "# seed \n",
    "random.seed(100)\n",
    "\n",
    "# 0 ~ 1 사이의 랜덤 숫자\n",
    "print(random.random())\n",
    "\n",
    "# 0 ~ 10 사이의 랜덤 정수\n",
    "print(random.randint(0, 10))\n",
    "\n",
    "# shuffle & sample\n",
    "호텔델루나배우 = ['아이유', '여진구', '피오', '미나', '김준현']\n",
    "random.shuffle(호텔델루나배우)\n",
    "print(호텔델루나배우)\n",
    "print(random.sample(호텔델루나배우, 2))"
   ]
  },
  {
   "cell_type": "code",
   "execution_count": 0,
   "metadata": {
    "colab": {},
    "colab_type": "code",
    "id": "kDE3Dpoi5X84"
   },
   "outputs": [],
   "source": [
    "# math\n",
    "import math\n",
    "\n",
    "# 파이, 자연로그 값\n",
    "print(math.pi)\n",
    "print(math.e)\n",
    "\n",
    "# 제곱근, 로그\n",
    "print(math.sqrt(4))\n",
    "print(math.log(4))\n",
    "\n",
    "# sin, cos\n",
    "print(math.sin(math.pi / 2))\n",
    "print(math.cos(math.pi))"
   ]
  },
  {
   "cell_type": "markdown",
   "metadata": {
    "colab_type": "text",
    "id": "TgkacFy56XBe"
   },
   "source": [
    "### 실습"
   ]
  },
  {
   "cell_type": "code",
   "execution_count": 0,
   "metadata": {
    "colab": {},
    "colab_type": "code",
    "id": "vPiboL_X54Cq"
   },
   "outputs": [],
   "source": [
    "# 1. 두 개의 정수 값을 받아 평균을 구하는 함수를 작성하세요.\n",
    "def get_average(x, y):\n",
    "    return x + y / 2\n",
    "\n",
    "# 2. 리스트를 입력받아서 최소값과 최대값을 반환하는 함수를 작성하세요.\n",
    "def get_min(ls):\n",
    "    selected = None\n",
    "    for e in ls:\n",
    "        if selected is None or e < selected:\n",
    "            selected = e\n",
    "            \n",
    "    return selected\n",
    "\n",
    "def get_max(ls):\n",
    "    selected = None\n",
    "    for e in ls:\n",
    "        if selected is None or e > selected:\n",
    "            selected = e\n",
    "            \n",
    "    return selected\n",
    "\n",
    "# 3. 시작과 끝 숫자를 받아 시작부터 끝까지의 모든 정수값의 합을 반환하는 함수를 작성하세요. (시작값과 끝값 포함)\n",
    "def get_sum(start, end):\n",
    "    합 = 0\n",
    "    for i in range(start, end + 1):\n",
    "        합 += i\n",
    "    return 합\n",
    "\n",
    "print(get_average(3, 5))\n",
    "print(get_min([1, 2, 3, 4, 5]))\n",
    "print(get_max([1, 2, 3, 4, 5]))\n",
    "print(get_sum(3, 5))\n",
    "\n",
    "    \n",
    "# 각 리스트의 요소는 name, midterm, quiz, finals입니다. \n",
    "stu = [[\"Geoffery Hinton\", 95, 65, 90],\n",
    "       [\"Yann Lecun\", 80, 85, 90],\n",
    "       [\"Yoshua Bengio\", 92, 88, 84],\n",
    "       [\"Andrew Ng\", 75, 85, 100]]\n",
    "\n",
    "# 학점 규칙: 중간고사 35%, 기말고사 35%, 퀴즈 30%\n",
    "# total을 계산하는 함수를 생성하시오. \n",
    "def total(midterm, quiz, finals):\n",
    "    return midterm * 0.35 + quiz * 0.3 + finals * 0.35\n",
    "\n",
    "\n",
    "# 점수에 해당하는 grade를 반환하는 함수를 만드세요. \n",
    "# 90이상 A, 80이상 B, 70 이상 C, 나머지는 F\n",
    "def grade(score):\n",
    "    if score >= 90:\n",
    "        return 'A'\n",
    "    elif score >= 80:\n",
    "        return 'B'\n",
    "    elif score >= 70:\n",
    "        return 'C'\n",
    "    else:\n",
    "        return 'F'\n",
    "    \n",
    "\n",
    "# for문을 이용하여 stu 모든 학생들의 total 결과를 totals 변수에 list를 사용하여 차례로 담으세요. \n",
    "totals = []\n",
    "for s in stu:\n",
    "    totals.append(total(s[1], s[2], s[3]))\n",
    "    \n",
    "print(totals)\n"
   ]
  },
  {
   "cell_type": "markdown",
   "metadata": {
    "colab_type": "text",
    "id": "HUtMpbS96nK2"
   },
   "source": [
    "## 4. Method\n",
    "\n",
    "- list의 methods\n",
    "- string의 methods\n",
    "- 'dir': object의 methods 확인"
   ]
  },
  {
   "cell_type": "code",
   "execution_count": 0,
   "metadata": {
    "colab": {},
    "colab_type": "code",
    "id": "Ooy_O2US6nhM"
   },
   "outputs": [],
   "source": [
    "numbers = [95, 65, 90, 80, 85, 90, 92, 88, 84, 75, 85, 100]\n",
    "print(numbers)\n",
    "dir(numbers)"
   ]
  },
  {
   "cell_type": "code",
   "execution_count": 0,
   "metadata": {
    "colab": {},
    "colab_type": "code",
    "id": "iQAi4plOnZYL"
   },
   "outputs": [],
   "source": [
    "# 값의 위치 찾기\n",
    "print(numbers.index(65))\n",
    "print(numbers.index(80))"
   ]
  },
  {
   "cell_type": "code",
   "execution_count": 0,
   "metadata": {
    "colab": {},
    "colab_type": "code",
    "id": "EcAfpNeu6tq7"
   },
   "outputs": [],
   "source": [
    "# 값 지우기\n",
    "print(numbers)\n",
    "numbers.remove(65)\n",
    "print(numbers)"
   ]
  },
  {
   "cell_type": "code",
   "execution_count": 0,
   "metadata": {
    "colab": {},
    "colab_type": "code",
    "id": "fJ_XoD9A6xWT"
   },
   "outputs": [],
   "source": [
    "# 정렬하기\n",
    "print(numbers)\n",
    "numbers.sort()\n",
    "print(numbers)\n",
    "numbers.sort(reverse=True)\n",
    "print(numbers)"
   ]
  },
  {
   "cell_type": "code",
   "execution_count": 0,
   "metadata": {
    "colab": {},
    "colab_type": "code",
    "id": "69F8bvTf6yf9"
   },
   "outputs": [],
   "source": [
    "# 비우기\n",
    "print(numbers)\n",
    "numbers.clear()\n",
    "print(numbers)"
   ]
  },
  {
   "cell_type": "code",
   "execution_count": 0,
   "metadata": {
    "colab": {},
    "colab_type": "code",
    "id": "raenzGjD6zwS"
   },
   "outputs": [],
   "source": [
    "hello = \"hello, guido van Rossum \"\n",
    "print(hello)\n",
    "dir(hello)"
   ]
  },
  {
   "cell_type": "code",
   "execution_count": 0,
   "metadata": {
    "colab": {},
    "colab_type": "code",
    "id": "_P4KGAUE61s6"
   },
   "outputs": [],
   "source": [
    "# 대소문자 조정\n",
    "print(hello.capitalize())\n",
    "print(hello.upper())\n",
    "print(hello.lower())"
   ]
  },
  {
   "cell_type": "code",
   "execution_count": 0,
   "metadata": {
    "colab": {},
    "colab_type": "code",
    "id": "4Xy1yBco63B2"
   },
   "outputs": [],
   "source": [
    "# 문자열 변경\n",
    "print(hello.replace('hello', 'goodbye'))"
   ]
  },
  {
   "cell_type": "markdown",
   "metadata": {
    "colab_type": "text",
    "id": "PT2PindR6p3s"
   },
   "source": [
    "### 실습"
   ]
  },
  {
   "cell_type": "code",
   "execution_count": 0,
   "metadata": {
    "colab": {},
    "colab_type": "code",
    "id": "y9EjbXRc6rKy"
   },
   "outputs": [],
   "source": [
    "# 1. string object의 strip 메쏘드가 무엇인지 알아보고 사용해보자.\n",
    "a =  \"    guido van Rossum     \"\n",
    "print(a.strip())\n",
    "\n",
    "# 2. string object의 split 메쏘드가 무엇인지 알아보고 알아보고 사용해보자.\n",
    "a = \"월,화,수,목,금,토,일\"\n",
    "b = a.split(\",\")\n",
    "print(b)\n",
    "\n",
    "# 3. string object의 join 메쏘드가 무엇인지 알아보고 알아보고 사용해보자.\n",
    "print('/'.join(b))\n",
    "\n",
    "# 4. list object의 insert 메쏘드가 무엇인지 알아보고 사용해보자. append와 어떤 차이가 있는지 설명해보자.\n",
    "ls = [1, 2, 3, 4, 5]\n",
    "ls.insert(3, 10)\n",
    "print(ls)\n",
    "\n",
    "# 5. list object의 pop 메쏘드가 무엇인지 알아보고 사용해보자.\n",
    "print(ls.pop())\n",
    "print(ls)\n",
    "\n",
    "numbers = [95, 65, 90, 80, 85, 90, 92, 88, 84, 75, 85, 100]\n",
    "# 6. numbers의 요소가 몇개인지 구하시오.\n",
    "print(len(numbers))\n",
    "\n",
    "# 7. numbers를 역순으로 정렬하시오\n",
    "print(sorted(numbers, reverse=True))\n",
    "\n"
   ]
  },
  {
   "cell_type": "markdown",
   "metadata": {
    "colab_type": "text",
    "id": "fmNeWobg7nnw"
   },
   "source": [
    "## 5. Package\n",
    "\n",
    "- install package\n",
    "- import package"
   ]
  },
  {
   "cell_type": "code",
   "execution_count": 0,
   "metadata": {
    "colab": {},
    "colab_type": "code",
    "id": "095pzS3P7nRG"
   },
   "outputs": [],
   "source": [
    "# jupyter notebook에서 '!'로 시작하는 코드를 실행하면 terminal shell의 command를 실행한다.\n",
    "\n",
    "'''\n",
    "!pip install package\n",
    "!pip3 install package\n",
    "'''\n",
    "!pip3 install requests"
   ]
  },
  {
   "cell_type": "markdown",
   "metadata": {
    "colab_type": "text",
    "id": "nHKvrYkc7wDn"
   },
   "source": [
    "#### request package 맛보기"
   ]
  },
  {
   "cell_type": "code",
   "execution_count": 0,
   "metadata": {
    "colab": {},
    "colab_type": "code",
    "id": "GJvUb_yB6ree"
   },
   "outputs": [],
   "source": [
    "import requests\n",
    "\n",
    "# HTTP GET Request\n",
    "req = requests.get('http://info.cern.ch/')\n",
    "\n",
    "print(req.text)"
   ]
  },
  {
   "cell_type": "markdown",
   "metadata": {
    "colab_type": "text",
    "id": "3ZGrL2OE7z3N"
   },
   "source": [
    "####  beautiful soup package 맛보기"
   ]
  },
  {
   "cell_type": "code",
   "execution_count": 0,
   "metadata": {
    "colab": {},
    "colab_type": "code",
    "id": "LnSfMsxN70Ya"
   },
   "outputs": [],
   "source": [
    "from bs4 import BeautifulSoup\n",
    "\n",
    "soup = BeautifulSoup(req.text, 'html.parser')\n",
    "\n",
    "print(soup.head)\n",
    "print('-------------------------')\n",
    "print(soup.body)"
   ]
  },
  {
   "cell_type": "markdown",
   "metadata": {
    "colab_type": "text",
    "id": "av34noZb75LR"
   },
   "source": [
    "## 6. File\n",
    "\n",
    "파일 모드 종류\n",
    "* r - 읽기모드 (디폴트)\n",
    "* w - 쓰기모드, 파일이 있으면 모든 내용을 삭제\n",
    "* x - 쓰기모드, 파일이 있으면 오류 발생\n",
    "* a - 쓰기모드, 파일이 있으면 뒤에 내용을 추가\n",
    "* t - 텍스트 모드, 텍스트 문자 기록에 사용 (디폴트)\n",
    "* b - 바이너리 모드, 바이트단위 데이터 기록에 사용\n",
    "\n"
   ]
  },
  {
   "cell_type": "code",
   "execution_count": 0,
   "metadata": {
    "colab": {},
    "colab_type": "code",
    "id": "zUCGBRgW75k-"
   },
   "outputs": [],
   "source": [
    "# write\n",
    "\n",
    "f = open('./new_file.txt', 'w')\n",
    "f.write('파일에 기록될 문자열입니다.\\n')\n",
    "f.write('파일 기록하는거 참 쉽죠?!\\n')\n",
    "f.close()\n",
    "\n",
    "f = open('./new_file.txt', 'a')\n",
    "f.writelines(['하나', '둘', '셋', '넷', '다섯']) #리스트를 전달\n",
    "f.write('\\n')\n",
    "f.writelines('\\n'.join(['여섯', '일곱', '여덟', '아홉', '열']))\n",
    "f.close()"
   ]
  },
  {
   "cell_type": "code",
   "execution_count": 0,
   "metadata": {
    "colab": {},
    "colab_type": "code",
    "id": "mcCVnHQx7-zV"
   },
   "outputs": [],
   "source": [
    "# read \n",
    "\n",
    "f = open('./new_file.txt', 'r')\n",
    "text = f.read()\n",
    "print(text)\n",
    "f.close()"
   ]
  },
  {
   "cell_type": "markdown",
   "metadata": {
    "colab_type": "text",
    "id": "48zLG9Cp8SiU"
   },
   "source": [
    "### directory & file list"
   ]
  },
  {
   "cell_type": "code",
   "execution_count": 0,
   "metadata": {
    "colab": {},
    "colab_type": "code",
    "id": "0l6QwpfZ8FTp"
   },
   "outputs": [],
   "source": [
    "import os\n",
    "\n",
    "path = './'\n",
    "files = os.listdir(path)\n",
    "\n",
    "for file_name in files:\n",
    "    print(file_name)\n"
   ]
  },
  {
   "cell_type": "markdown",
   "metadata": {
    "colab_type": "text",
    "id": "HKfCMeVI_ByF"
   },
   "source": [
    "## 몽당식당\n",
    "1. 메뉴를 출력한다. \n",
    "2. 메뉴를 선택한다. \n",
    "3. 더 주문할지 물어본다.\n",
    " - 주문할 것이 더 있다면 1번부터 다시 반복한다.\n",
    " - 주문할 것이 없으면 4로 이동한다.\n",
    "4. 총 주문내역과 합계 금액을 출력한다.\n"
   ]
  },
  {
   "cell_type": "code",
   "execution_count": 0,
   "metadata": {
    "cellView": "code",
    "colab": {},
    "colab_type": "code",
    "id": "ZXhnfDt2CNA6"
   },
   "outputs": [],
   "source": [
    "#@title\n",
    "print(\"어서오세요. 몽당식당입니다. \")\n",
    "\n",
    "# 메뉴 리스트 생성\n",
    "메뉴1 = [\"진주물냉면\", 8000]\n",
    "메뉴2 = [\"진주비빔냉면\", 8500]\n",
    "메뉴3 = [\"남해멸치쌈밥\", 10000]\n",
    "메뉴4 = [\"만두\", 5000]\n",
    "메뉴목록 = [메뉴1, 메뉴2, 메뉴3, 메뉴4]\n",
    "\n",
    "주문목록 = []\n",
    "\n",
    "def 메뉴목록출력(메뉴목록):\n",
    "    print(\"메뉴 목록입니다.\")\n",
    "    for i, 메뉴 in enumerate(메뉴목록, 1):\n",
    "        print(f'{i}. {메뉴[0]} {메뉴[1]:,}원')\n",
    "    \n",
    "\n",
    "def 주문목록출력(메뉴목록, 주문내역):\n",
    "    print(\"주문 내역입니다.\")\n",
    "    수량 = [0, 0, 0, 0]\n",
    "    for 주문 in 주문내역:\n",
    "        if 메뉴목록[0][0] == 주문[0]:\n",
    "            수량[0] += 1\n",
    "        if 메뉴목록[1][0] == 주문[0]:\n",
    "            수량[1] += 1\n",
    "        if 메뉴목록[2][0] == 주문[0]:\n",
    "            수량[2] += 1\n",
    "        if 메뉴목록[3][0] == 주문[0]:\n",
    "            수량[3] += 1\n",
    "        \n",
    "    for i, 메뉴 in enumerate(메뉴목록, 0):\n",
    "        if 수량[i] > 0:\n",
    "            print(f'{메뉴[0]} {수량[i]}개')\n",
    "\n",
    "more = 'Y'\n",
    "while more != 'N':\n",
    "    메뉴목록출력(메뉴목록)\n",
    "\n",
    "    no = input(\"---- 무엇을 주문하시겠습니까? (1~4)\")\n",
    "    주문목록.append(메뉴[int(no) - 1])\n",
    "\n",
    "    주문목록출력(메뉴목록, 주문목록)\n",
    "    more = input(\"---- 더 주문하시겠습니까? (Y/N)\")\n",
    "    print()\n",
    "\n",
    "    \n",
    "print(\"=\" * 100)\n",
    "print(\"감사합니다.\")\n",
    "\n",
    "# 주문목록과 합게를 출력하자.\n",
    "주문목록출력(메뉴목록, 주문목록)\n",
    "합계 = 0\n",
    "for 주문 in 주문목록:\n",
    "    합계 += 주문[1]\n",
    "print(f\"결제하실 금액은 {합계:,}원 입니다.\")\n"
   ]
  },
  {
   "cell_type": "markdown",
   "metadata": {
    "colab_type": "text",
    "id": "eOZi6B5R9Lun"
   },
   "source": [
    "### 과제\n",
    "- 로또 번호 생성기를 만들어보자\n",
    " - 1 ~ 46까지의 수 중 6개의 숫자를 뽑는다.\n",
    " - 숫자는 중복될 수 없다.\n",
    "- 가위바위보 게임을 만들어보자 \n",
    " - 컴퓨터와 가위바위보를 한다.\n",
    " - 승부는 3판 2선 승!\n"
   ]
  },
  {
   "cell_type": "code",
   "execution_count": 0,
   "metadata": {
    "colab": {},
    "colab_type": "code",
    "id": "twznQQYE9N_4"
   },
   "outputs": [],
   "source": [
    "import random\n",
    "\n",
    "print('lotto 자동 번호 생성기')\n",
    "print('-'*100)\n",
    "\n",
    "lotto = []\n",
    "while len(lotto) < 6:\n",
    "    n = random.randint(1, 46)\n",
    "    if n not in lotto:\n",
    "        lotto.append(n)\n",
    "print(lotto)"
   ]
  },
  {
   "cell_type": "code",
   "execution_count": 0,
   "metadata": {
    "colab": {},
    "colab_type": "code",
    "id": "kyVVCIHdwXPT"
   },
   "outputs": [],
   "source": [
    "import random\n",
    "\n",
    "rcp = ['가위', '바위', '보']\n",
    "win, lose, draw = 0, 0, 0\n",
    "\n",
    "print('승부의 세계는 비정한 법. 덤벼라.')\n",
    "\n",
    "while win < 2 and lose < 2:\n",
    "    yours = None\n",
    "    while yours not in rcp:\n",
    "        if yours is not None:\n",
    "            print('제대로 해,')\n",
    "        yours = input('\"가위 바위 보\"중 하나를 내라.\\n')\n",
    "        \n",
    "    com = random.choice(rcp)\n",
    "    \n",
    "    if yours == com:\n",
    "        print('비겼어! 다시 승부다.')\n",
    "        draw += 1\n",
    "    elif yours + com in ['가위보', '바위가위', '보바위'] :\n",
    "        print('네가 이겼네?')\n",
    "        win += 1\n",
    "    else :\n",
    "        print('너 졌음ㅋ')\n",
    "        lose += 1\n",
    "        \n",
    "    print(f'''\n",
    "    당신의 선택 : {yours}\n",
    "    컴퓨터의 선택 : {com}\n",
    "    승 : {win}, 패 : {lose}, 무승부 : {draw}\n",
    "    ''')\n",
    "    \n",
    "if win == 2: \n",
    "    print('축하해! 네가 이겼어!')\n",
    "else:\n",
    "    print('너 졌음ㅋㅋㅋㅋㅋㅋㅋㅋㅋㅋㅋㅋㅋㅋㅋㅋㅋㅋㅋㅋㅋㅋㅋㅋㅋㅋㅋㅋㅋㅋㅋㅋㅋㅋ')\n",
    "    "
   ]
  },
  {
   "cell_type": "code",
   "execution_count": 0,
   "metadata": {
    "colab": {},
    "colab_type": "code",
    "id": "CuzC3BIJzTQE"
   },
   "outputs": [],
   "source": []
  }
 ],
 "metadata": {
  "colab": {
   "collapsed_sections": [],
   "name": "(sol) 1. python-basic-01.ipynb의 사본",
   "provenance": [
    {
     "file_id": "1ZuN2vpe9rMZS-6Fpdebsmcxc4VNZptOY",
     "timestamp": 1567693232803
    }
   ],
   "version": "0.3.2"
  },
  "kernelspec": {
   "display_name": "Python 3",
   "language": "python",
   "name": "python3"
  },
  "language_info": {
   "codemirror_mode": {
    "name": "ipython",
    "version": 3
   },
   "file_extension": ".py",
   "mimetype": "text/x-python",
   "name": "python",
   "nbconvert_exporter": "python",
   "pygments_lexer": "ipython3",
   "version": "3.5.6"
  }
 },
 "nbformat": 4,
 "nbformat_minor": 1
}
